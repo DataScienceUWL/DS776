{
 "cells": [
  {
   "cell_type": "code",
   "execution_count": null,
   "metadata": {},
   "outputs": [],
   "source": [
    "%pip install -q ../introdl"
   ]
  },
  {
   "cell_type": "code",
   "execution_count": 1,
   "metadata": {},
   "outputs": [],
   "source": [
    "# configuration\n",
    "data_dir = '../../data' # directory to save data - change as needed\n",
    "\n",
    "import matplotlib.pyplot as plt\n",
    "import seaborn as sns\n",
    "sns.set_theme(style='whitegrid')\n",
    "plt.rcParams['figure.figsize'] = [8, 6]  # Set the default figure size (width, height) in inches\n",
    "\n",
    "from sklearn.metrics import accuracy_score\n",
    "\n",
    "import torch\n",
    "import torch.nn as nn\n",
    "import torch.nn.functional as F\n",
    "import torch.optim as optim\n",
    "from torch.utils.data import DataLoader, TensorDataset, random_split\n",
    "\n",
    "import torchvision.transforms as transforms\n",
    "from torchvision.datasets import MNIST\n",
    "\n",
    "from introdl.utils import get_device, load_results, summarizer\n",
    "from introdl.idlmam import train_network\n",
    "from introdl.visul import plot_training_metrics"
   ]
  },
  {
   "cell_type": "markdown",
   "metadata": {},
   "source": [
    "# The Power of Residual Connections\n",
    "\n",
    "In this demo, we'll illustrate the power of residual connections by comparing the training of two deep neural networks:\n",
    "\n",
    "1. **A Plain Deep Network** without residual connections.\n",
    "2. **A Residual Network (ResNet)** with residual connections.\n",
    "\n",
    "We'll use PyTorch to build and train both models on a simple dataset.\n",
    "\n",
    "### **Objective**\n",
    "\n",
    "- Show how residual connections improve the training of deep neural networks.\n",
    "- Compare the performance (training loss and accuracy) of the plain network and the residual network.\n",
    "\n",
    "### **Dataset**\n",
    "\n",
    "For simplicity and speed, we'll use the **MNIST** dataset of handwritten digits.\n",
    "\n",
    "### Data Preparation\n",
    "\n"
   ]
  },
  {
   "cell_type": "code",
   "execution_count": 2,
   "metadata": {},
   "outputs": [],
   "source": [
    "\n",
    "# Transformations for the data\n",
    "transform = transforms.Compose([\n",
    "    transforms.ToTensor(),\n",
    "    transforms.Normalize((0.1307,), (0.3081,))  # Mean and std for MNIST\n",
    "])\n",
    "\n",
    "# Load training and test datasets\n",
    "train_dataset = MNIST(root=data_dir, train=True, download=True, transform=transform)\n",
    "test_dataset  = MNIST(root=data_dir, train=False, download=True, transform=transform)\n",
    "\n",
    "# Data loaders\n",
    "train_loader = DataLoader(train_dataset, batch_size=64, shuffle=True)\n",
    "test_loader  = DataLoader(test_dataset, batch_size=1000, shuffle=False)\n"
   ]
  },
  {
   "cell_type": "markdown",
   "metadata": {},
   "source": [
    "\n",
    "\n",
    "### **Step 3: Define the Models**\n",
    "\n",
    "#### **3.1 Plain Deep Network**\n",
    "\n",
    "We'll define a plain deep network with multiple layers but without residual connections."
   ]
  },
  {
   "cell_type": "markdown",
   "metadata": {},
   "source": [
    "The `PlainNetwork` architecture is a fully connected (feedforward) neural network without residual connections, designed for simplicity and to illustrate the difficulty of training deep networks as they grow in depth. Here's a detailed description of its architecture and components:\n",
    "\n",
    "### **Detailed Layer Structure:**\n",
    "\n",
    "Let's break down the architecture assuming 20 hidden layers and a hidden size of 64 units:\n",
    "\n",
    "1. **Input Layer:**\n",
    "   - **Input size:** \\(784\\) (28x28 flattened image).\n",
    "   - **First Linear Layer:** Transforms the 784-dimensional input into a 64-dimensional vector.\n",
    "   \n",
    "2. **Hidden Layers:**\n",
    "   - There are 20 fully connected (dense) hidden layers.\n",
    "   - Each hidden layer applies a **linear transformation** followed by a **ReLU activation**.\n",
    "   - Each hidden layer maps from 64 units to 64 units.\n",
    "   \n",
    "3. **Output Layer:**\n",
    "   - After passing through all the hidden layers, the network connects to the output layer.\n",
    "   - **Output size:** 10 units (one for each class in a classification problem like MNIST).\n",
    "\n",
    "### **Potential Issues with PlainNetwork:**\n",
    "- **Vanishing Gradient Problem:** In deep networks like `PlainNetwork`, gradients can become very small as they propagate back through the layers, making it hard for the network to learn effectively during training. This is a key limitation of deep networks without residual connections.\n",
    "- **Slow Convergence:** Without shortcut (residual) connections, it might take a long time to converge or it might fail to converge altogether, especially for networks with many layers.\n",
    "\n",
    "### **Why It’s Important:**\n",
    "The `PlainNetwork` demonstrates the challenges of training deep networks without any form of residual connections or other advanced techniques like batch normalization. When you increase the depth of the network (e.g., with 20 or more layers), the model can become difficult to train due to problems like vanishing gradients and slow convergence. This is why architectures like **ResNet** (which includes residual connections) were introduced to solve these issues.\n"
   ]
  },
  {
   "cell_type": "code",
   "execution_count": 6,
   "metadata": {},
   "outputs": [],
   "source": [
    "class PlainNetwork(nn.Module):\n",
    "    def __init__(self):\n",
    "        super(PlainNetwork, self).__init__()\n",
    "        layers = []\n",
    "        input_dim = 28 * 28  # MNIST images are 28x28\n",
    "        hidden_dim = 64\n",
    "        num_layers = 20  # Deep network\n",
    "\n",
    "        # Create a sequence of linear layers with ReLU activation\n",
    "        for _ in range(num_layers):\n",
    "            layers.append(nn.Linear(input_dim, hidden_dim))\n",
    "            layers.append(nn.ReLU(inplace=True))\n",
    "            input_dim = hidden_dim\n",
    "\n",
    "        layers.append(nn.Linear(hidden_dim, 10))  # Output layer for 10 classes\n",
    "        self.net = nn.Sequential(*layers)\n",
    "\n",
    "    def forward(self, x):\n",
    "        x = x.view(x.size(0), -1)  # Flatten the input\n",
    "        return self.net(x)\n"
   ]
  },
  {
   "cell_type": "markdown",
   "metadata": {},
   "source": [
    "## Batch Normalization Network\n",
    "\n",
    "The **BNNetwork** is a modified version of the **PlainNetwork**, where **batch normalization** layers are added after each fully connected layer but before the activation function. The primary purpose of batch normalization is to normalize the output of each layer before passing it to the next layer, helping stabilize and accelerate training.\n",
    "\n",
    "### **Detailed Layer Structure:**\n",
    "\n",
    "1. **Input Layer:**\n",
    "   - Input size: 784 (flattened image).\n",
    "   - First linear layer transforms the input into a 64-dimensional vector.\n",
    "   \n",
    "2. **Hidden Layers (with Batch Normalization):**\n",
    "   - 20 fully connected layers, each consisting of:\n",
    "     - Linear transformation from 64 units to 64 units.\n",
    "     - Batch normalization.\n",
    "     - ReLU activation function.\n",
    "   \n",
    "\n",
    "### **Benefits of Batch Normalization:**\n",
    "\n",
    "1. **Faster Convergence:**\n",
    "   - By normalizing the inputs to each layer, batch normalization reduces the internal covariate shift, leading to faster and more stable convergence during training.\n",
    "   \n",
    "2. **Regularization Effect:**\n",
    "   - Batch normalization introduces a slight regularization effect by adding noise to the network through mini-batch statistics. This can reduce the reliance on other regularization techniques like dropout.\n",
    "\n",
    "3. **Improved Gradient Flow:**\n",
    "   - Batch normalization helps keep the gradients more stable, allowing for deeper networks to be trained without suffering from the vanishing/exploding gradient problem.\n",
    "\n",
    "### **Key Points:**\n",
    "\n",
    "- **Batch Normalization:** The main modification in `BNNetwork` compared to `PlainNetwork` is the introduction of **batch normalization** after each linear layer. This improves training stability and speed.\n",
    "- **Linear Layers + BatchNorm + ReLU:** Each hidden layer in the network follows the pattern of a linear transformation, followed by batch normalization and then a ReLU activation.\n",
    "- **Fully Connected Layers:** Like the `PlainNetwork`, the `BNNetwork` consists of fully connected layers, but batch normalization helps mitigate the training challenges often encountered with deep networks.\n",
    "\n",
    "### **Why Batch Normalization is Important:**\n",
    "\n",
    "- **More Stable Learning:** In deep networks, activations in earlier layers can change significantly as weights update, leading to unstable learning. Batch normalization addresses this by stabilizing the activations.\n",
    "- **Easier to Tune Learning Rates:** Networks with batch normalization often allow for higher learning rates, which can lead to faster training times.\n",
    "- **Improved Performance on Test Data:** By reducing internal covariate shift and providing regularization, batch normalization can lead to better generalization on unseen data."
   ]
  },
  {
   "cell_type": "code",
   "execution_count": 9,
   "metadata": {},
   "outputs": [],
   "source": [
    "class BNNetwork(nn.Module):\n",
    "    def __init__(self, input_size=784, hidden_size=64, output_size=10, num_layers=20):\n",
    "        super(BNNetwork, self).__init__()\n",
    "        layers = []\n",
    "\n",
    "        # Input layer to the first hidden layer\n",
    "        layers.append(nn.Linear(input_size, hidden_size))\n",
    "        layers.append(nn.BatchNorm1d(hidden_size))  # Add BatchNorm after the first linear layer\n",
    "        layers.append(nn.ReLU())\n",
    "        \n",
    "        # Hidden layers with BatchNorm\n",
    "        for _ in range(num_layers - 1):\n",
    "            layers.append(nn.Linear(hidden_size, hidden_size))\n",
    "            layers.append(nn.BatchNorm1d(hidden_size))  # BatchNorm for hidden layers\n",
    "            layers.append(nn.ReLU())\n",
    "\n",
    "        # Output layer\n",
    "        layers.append(nn.Linear(hidden_size, output_size))\n",
    "\n",
    "        # Store layers in a Sequential block\n",
    "        self.net = nn.Sequential(*layers)\n",
    "\n",
    "    def forward(self, x):\n",
    "        x = x.view(x.size(0), -1)  # Flatten the input\n",
    "        return self.net(x)\n"
   ]
  },
  {
   "cell_type": "markdown",
   "metadata": {},
   "source": [
    "\n",
    "#### **3.2 Residual Network**\n",
    "\n",
    "We'll define a residual network with the same depth but include residual connections."
   ]
  },
  {
   "cell_type": "markdown",
   "metadata": {},
   "source": [
    "The `ResidualNetwork` architecture is designed to address some of the training challenges associated with deep networks, such as the **vanishing gradient problem**, by incorporating **residual connections**. These residual connections allow the network to \"skip\" one or more layers by adding the input of a layer directly to its output, which helps preserve the gradient during backpropagation and facilitates the training of much deeper networks.\n",
    "\n",
    "### **Detailed Layer Structure:**\n",
    "\n",
    "1. **Input Layer:**\n",
    "   - **Input size:** \\(784\\) (28x28 flattened image).\n",
    "   - The input is transformed into a 64-dimensional vector by the first linear layer.\n",
    "   \n",
    "2. **Residual Blocks (with Skip Connections):**\n",
    "   - The `ResidualNetwork` consists of **20 residual blocks**.\n",
    "   - Each block applies a **linear transformation** followed by **ReLU activation** and then adds the input to the output (the residual or skip connection).\n",
    "   - Each block maps from 64 units to 64 units.\n",
    "   \n",
    "3. **Output Layer:**\n",
    "   - After passing through all the residual blocks, the network connects to the output layer.\n",
    "   - **Output size:** 10 units (one for each class in a classification problem like MNIST).\n",
    "\n",
    "### **Residual Block:**\n",
    "\n",
    "Each residual block can be described by the following operation:\n",
    "$$\\text{out} = \\text{ReLU}(\\text{Linear}(x)) + x$$\n",
    "where $x$ is the input to the block and the output is the sum of the transformed input and the input itself.\n",
    "\n",
    "### **Key Points:**\n",
    "- **Residual Connections:** The defining feature of the `ResidualNetwork` is the skip connection in each residual block, where the input to a block is added to the output of the block. This allows the network to bypass (skip) one or more layers, helping to preserve the flow of gradients during training and enabling the training of much deeper networks.\n",
    "- **Depth:** The depth of the network (number of residual blocks) is customizable via the `num_blocks` parameter.\n",
    "- **Fully Connected Layers:** Every residual block contains a fully connected (dense) layer, followed by a ReLU activation and a residual (skip) connection.\n",
    "- **Improved Training:** The residual connections make it easier to train deeper networks by solving the vanishing gradient problem, which occurs when gradients become too small to propagate back through the layers during backpropagation.\n",
    "\n",
    "### **Why It’s Important:**\n",
    "The `ResidualNetwork` demonstrates the power of **residual connections** (also known as **skip connections**) in addressing the challenges of training deep networks. With residual connections, even very deep networks can be trained effectively, whereas without them, deep networks like the `PlainNetwork` can suffer from slow convergence or fail to learn effectively.\n",
    "\n"
   ]
  },
  {
   "cell_type": "code",
   "execution_count": 5,
   "metadata": {},
   "outputs": [],
   "source": [
    "class ResidualBlock(nn.Module):\n",
    "    def __init__(self, dim):\n",
    "        super(ResidualBlock, self).__init__()\n",
    "        self.linear = nn.Linear(dim, dim)\n",
    "        self.relu = nn.ReLU(inplace=False)\n",
    "\n",
    "    def forward(self, x):\n",
    "        residual = x\n",
    "        out = self.linear(x)\n",
    "        out = self.relu(out)\n",
    "        out = out + residual  # Residual connection\n",
    "        return out\n",
    "\n",
    "class ResidualNetwork(nn.Module):\n",
    "    def __init__(self):\n",
    "        super(ResidualNetwork, self).__init__()\n",
    "        input_dim = 28 * 28\n",
    "        hidden_dim = 64\n",
    "        num_blocks = 20  # Deep network\n",
    "\n",
    "        self.input_layer = nn.Linear(input_dim, hidden_dim)\n",
    "        self.blocks = nn.ModuleList([ResidualBlock(hidden_dim) for _ in range(num_blocks)])\n",
    "        self.output_layer = nn.Linear(hidden_dim, 10)\n",
    "\n",
    "    def forward(self, x):\n",
    "        x = x.view(x.size(0), -1)\n",
    "        out = self.input_layer(x)\n",
    "        for block in self.blocks:\n",
    "            out = block(out)\n",
    "        out = self.output_layer(out)\n",
    "        return out"
   ]
  },
  {
   "cell_type": "markdown",
   "metadata": {},
   "source": [
    "## Batch Norm and Residuals\n",
    "\n",
    "The **BNResidualNetwork** is a combination of two key techniques: **batch normalization** and **residual connections**. This architecture leverages the benefits of both techniques to create a deep neural network that is easier to train and generalizes well.\n",
    "\n",
    "- **Residual connections** help the model avoid the vanishing gradient problem, allowing it to train deeper networks effectively by enabling skip connections.\n",
    "- **Batch normalization** stabilizes and accelerates training by normalizing layer inputs, making the network less sensitive to initialization and learning rates.\n",
    "\n",
    "### **Detailed Layer Structure:**\n",
    "\n",
    "1. **Input Layer:**\n",
    "   - Input size: 784 (for flattened 28x28 images).\n",
    "   - First linear layer transforms the input into a hidden size of 64 units.\n",
    "   \n",
    "2. **Residual Blocks (with Batch Normalization):**\n",
    "   - The architecture consists of multiple **residual blocks** (e.g., 20 blocks), where each block includes:\n",
    "     - A **linear transformation**.\n",
    "     - A **batch normalization** layer.\n",
    "     - A **ReLU activation**.\n",
    "     - A **skip connection** that adds the input to the output of the block.\n",
    "   \n",
    "3. **Output Layer:**\n",
    "   - After the last residual block, the output layer maps the hidden size (64 units) to the output size (10 classes for MNIST).\n",
    "\n",
    "### **Advantages of Combining Batch Normalization and Residuals:**\n",
    "\n",
    "1. **Batch Normalization:**\n",
    "   - Helps stabilize the learning process by normalizing the input to each layer, reducing the internal covariate shift.\n",
    "   - Allows for faster convergence and higher learning rates.\n",
    "   - Acts as a regularizer, reducing the need for other regularization techniques like dropout.\n",
    "\n",
    "2. **Residual Connections:**\n",
    "   - Allow gradients to flow more easily through the network, mitigating the vanishing gradient problem in deep networks.\n",
    "   - Facilitate the training of much deeper networks by providing an identity mapping for the network to fall back on if deeper layers are not needed to model the data.\n",
    "\n",
    "3. **Combined Benefits:**\n",
    "   - The combination of **batch normalization** and **residual connections** allows for faster training of deep networks and better performance.\n",
    "   - Batch normalization ensures that the layers are receiving well-scaled inputs, while residual connections prevent degradation of the model’s performance as depth increases.\n",
    "\n",
    "### **Key Points:**\n",
    "\n",
    "- **Residual Connections:** The skip connections in each residual block allow gradients to flow through the network more easily, enabling the training of deeper networks.\n",
    "- **Batch Normalization:** By applying batch normalization before ReLU activations, the network can stabilize learning, leading to faster convergence and improved generalization.\n",
    "- **Deep Network:** The network can be made arbitrarily deep (via the `num_blocks` parameter), but the combination of batch normalization and residual connections ensures it remains trainable and efficient.\n",
    "\n",
    "### **Why This Architecture is Important:**\n",
    "\n",
    "The **BNResidualNetwork** leverages two powerful techniques—batch normalization and residual connections—to address the challenges of training deep neural networks:\n",
    "- **Training Stability:** Batch normalization improves stability, while residual connections ensure that the network does not suffer from vanishing gradients.\n",
    "- **Scalability:** This architecture can be scaled to very deep networks without suffering from performance degradation, making it suitable for complex tasks that require deep learning models.\n",
    "\n"
   ]
  },
  {
   "cell_type": "code",
   "execution_count": 12,
   "metadata": {},
   "outputs": [],
   "source": [
    "import torch\n",
    "import torch.nn as nn\n",
    "\n",
    "class BNResidualBlock(nn.Module):\n",
    "    def __init__(self, hidden_size):\n",
    "        super(BNResidualBlock, self).__init__()\n",
    "        self.linear = nn.Linear(hidden_size, hidden_size)\n",
    "        self.batchnorm = nn.BatchNorm1d(hidden_size)  # Add BatchNorm\n",
    "        self.relu = nn.ReLU()\n",
    "    \n",
    "    def forward(self, x):\n",
    "        residual = x  # Save the input for the skip connection\n",
    "        out = self.linear(x)  # Linear transformation\n",
    "        out = self.batchnorm(out)  # Apply BatchNorm\n",
    "        out = self.relu(out)  # ReLU activation\n",
    "        out = out + residual  # Add the input (residual connection)\n",
    "        return out\n",
    "\n",
    "class BNResidualNetwork(nn.Module):\n",
    "    def __init__(self, input_size=784, hidden_size=64, output_size=10, num_blocks=20):\n",
    "        super(BNResidualNetwork, self).__init__()\n",
    "        \n",
    "        # Input layer: Fully connected layer from input_size to hidden_size\n",
    "        self.input_layer = nn.Linear(input_size, hidden_size)\n",
    "        \n",
    "        # Residual blocks with batch normalization and skip connections\n",
    "        self.blocks = nn.ModuleList([BNResidualBlock(hidden_size) for _ in range(num_blocks)])\n",
    "        \n",
    "        # Output layer: Fully connected layer from hidden_size to output_size\n",
    "        self.output_layer = nn.Linear(hidden_size, output_size)\n",
    "\n",
    "    def forward(self, x):\n",
    "        x = x.view(x.size(0), -1)  # Flatten the input\n",
    "        out = self.input_layer(x)  # Input layer transformation\n",
    "        \n",
    "        # Pass through each residual block\n",
    "        for block in self.blocks:\n",
    "            out = block(out)\n",
    "        \n",
    "        # Output layer transformation\n",
    "        out = self.output_layer(out)\n",
    "        return out\n"
   ]
  },
  {
   "cell_type": "code",
   "execution_count": 8,
   "metadata": {},
   "outputs": [
    {
     "name": "stdout",
     "output_type": "stream",
     "text": [
      "mps\n"
     ]
    },
    {
     "name": "stderr",
     "output_type": "stream",
     "text": [
      "Epoch: 100%|██████████| 10/10 [03:18<00:00, 19.85s/it]\n"
     ]
    }
   ],
   "source": [
    "model = PlainNetwork()\n",
    "loss_func = nn.CrossEntropyLoss()\n",
    "optimizer = optim.AdamW(model.parameters())\n",
    "\n",
    "device = get_device()\n",
    "print(device)\n",
    "\n",
    "ckpt_file = 'models/Plain_MNIST.pt'\n",
    "epochs = 10\n",
    "\n",
    "score_funcs = {'ACC':accuracy_score}\n",
    "\n",
    "results = train_network(model,\n",
    "                loss_func,\n",
    "                train_loader,\n",
    "                device=device,\n",
    "                test_loader=test_loader,\n",
    "                epochs = epochs,\n",
    "                optimizer = optimizer,\n",
    "                score_funcs = {'ACC':accuracy_score},\n",
    "                checkpoint_file = ckpt_file)"
   ]
  },
  {
   "cell_type": "code",
   "execution_count": 10,
   "metadata": {},
   "outputs": [
    {
     "name": "stdout",
     "output_type": "stream",
     "text": [
      "mps\n"
     ]
    },
    {
     "name": "stderr",
     "output_type": "stream",
     "text": [
      "Epoch: 100%|██████████| 10/10 [05:26<00:00, 32.63s/it]\n"
     ]
    }
   ],
   "source": [
    "model = BNNetwork()\n",
    "loss_func = nn.CrossEntropyLoss()\n",
    "optimizer = optim.AdamW(model.parameters())\n",
    "\n",
    "device = get_device()\n",
    "print(device)\n",
    "\n",
    "ckpt_file = 'models/BN_MNIST.pt'\n",
    "epochs = 10\n",
    "\n",
    "score_funcs = {'ACC':accuracy_score}\n",
    "\n",
    "results = train_network(model,\n",
    "                loss_func,\n",
    "                train_loader,\n",
    "                device=device,\n",
    "                test_loader=test_loader,\n",
    "                epochs = epochs,\n",
    "                optimizer = optimizer,\n",
    "                score_funcs = {'ACC':accuracy_score},\n",
    "                checkpoint_file = ckpt_file)"
   ]
  },
  {
   "cell_type": "code",
   "execution_count": 6,
   "metadata": {},
   "outputs": [
    {
     "name": "stdout",
     "output_type": "stream",
     "text": [
      "mps\n"
     ]
    },
    {
     "name": "stderr",
     "output_type": "stream",
     "text": [
      "Epoch: 100%|██████████| 10/10 [03:39<00:00, 21.97s/it]\n"
     ]
    }
   ],
   "source": [
    "model = ResidualNetwork()\n",
    "loss_func = nn.CrossEntropyLoss()\n",
    "optimizer = optim.AdamW(model.parameters())\n",
    "\n",
    "device = get_device()\n",
    "print(device)\n",
    "\n",
    "ckpt_file = 'models/Residual_MNIST.pt'\n",
    "epochs = 10\n",
    "\n",
    "score_funcs = {'ACC':accuracy_score}\n",
    "\n",
    "results = train_network(model,\n",
    "                loss_func,\n",
    "                train_loader,\n",
    "                device=device,\n",
    "                test_loader=test_loader,\n",
    "                epochs = epochs,\n",
    "                optimizer = optimizer,\n",
    "                score_funcs = {'ACC':accuracy_score},\n",
    "                checkpoint_file = ckpt_file)"
   ]
  },
  {
   "cell_type": "code",
   "execution_count": 13,
   "metadata": {},
   "outputs": [
    {
     "name": "stdout",
     "output_type": "stream",
     "text": [
      "mps\n"
     ]
    },
    {
     "name": "stderr",
     "output_type": "stream",
     "text": [
      "Epoch: 100%|██████████| 10/10 [05:44<00:00, 34.42s/it]\n"
     ]
    }
   ],
   "source": [
    "model = BNResidualNetwork()\n",
    "loss_func = nn.CrossEntropyLoss()\n",
    "optimizer = optim.AdamW(model.parameters())\n",
    "\n",
    "device = get_device()\n",
    "print(device)\n",
    "\n",
    "ckpt_file = 'models/BNResidual_MNIST.pt'\n",
    "epochs = 10\n",
    "\n",
    "score_funcs = {'ACC':accuracy_score}\n",
    "\n",
    "results = train_network(model,\n",
    "                loss_func,\n",
    "                train_loader,\n",
    "                device=device,\n",
    "                test_loader=test_loader,\n",
    "                epochs = epochs,\n",
    "                optimizer = optimizer,\n",
    "                score_funcs = {'ACC':accuracy_score},\n",
    "                checkpoint_file = ckpt_file)"
   ]
  },
  {
   "cell_type": "code",
   "execution_count": 15,
   "metadata": {},
   "outputs": [
    {
     "data": {
      "image/png": "[encoded data removed]",
      "text/plain": [
       "<Figure size 1000x400 with 2 Axes>"
      ]
     },
     "metadata": {},
     "output_type": "display_data"
    }
   ],
   "source": [
    "results_plain = load_results('models/Plain_MNIST.pt')\n",
    "results_resid = load_results('models/Residual_MNIST.pt')\n",
    "results_bn = load_results('models/BN_MNIST.pt')\n",
    "results_bn_resid = load_results('models/BNResidual_MNIST.pt')\n",
    "\n",
    "plot_training_metrics(\n",
    "    [results_plain,results_resid, results_bn, results_bn_resid], \n",
    "    [['test loss'], ['test ACC']],\n",
    "    #[['train loss', 'test loss'], \n",
    "    # ['train ACC', 'test ACC']], \n",
    "     df_labels=['Plain', 'Residual', 'BN', 'Resid+BN'])"
   ]
  },
  {
   "cell_type": "markdown",
   "metadata": {},
   "source": [
    "\n",
    "\n",
    "### **Expected Results**\n",
    "\n",
    "- **Plain Network:** Due to the depth and lack of residual connections, the plain network may struggle to converge. The training loss might decrease very slowly, and the accuracy might remain low.\n",
    "- **Residual Network:** The residual connections help the network train more effectively. We expect to see a faster decrease in training loss and higher accuracy compared to the plain network.\n",
    "\n",
    "### **Explanation**\n",
    "\n",
    "- **Vanishing Gradient Problem:** In deep networks, gradients can become extremely small during backpropagation, making it difficult to update the weights effectively. This leads to slow or stalled training.\n",
    "- **Residual Connections:** By adding the input of a layer to its output (`out += residual`), we provide a direct path for the gradient to flow backward through the network. This helps maintain gradient magnitude and allows for more effective training of deep networks.\n",
    "\n",
    "### **Conclusion**\n",
    "\n",
    "This demo illustrates how residual connections enable the training of deep neural networks by mitigating the vanishing gradient problem. The residual network outperforms the plain network in both training loss reduction and accuracy improvement.\n",
    "\n",
    "---\n",
    "\n",
    "**Note:** For a more comprehensive experiment, you can increase the number of epochs or adjust hyperparameters. Additionally, consider using a GPU for faster training if available."
   ]
  }
 ],
 "metadata": {
  "kernelspec": {
   "display_name": "DS776v2",
   "language": "python",
   "name": "python3"
  },
  "language_info": {
   "codemirror_mode": {
    "name": "ipython",
    "version": 3
   },
   "file_extension": ".py",
   "mimetype": "text/x-python",
   "name": "python",
   "nbconvert_exporter": "python",
   "pygments_lexer": "ipython3",
   "version": "3.11.9"
  }
 },
 "nbformat": 4,
 "nbformat_minor": 2
}
