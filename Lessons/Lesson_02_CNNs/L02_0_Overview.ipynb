{
 "cells": [
  {
   "cell_type": "markdown",
   "metadata": {},
   "source": [
    "## Lesson 2: Convolutional Neural Networks\n",
    "\n",
    "### Topics\n",
    "* Image data\n",
    "* Convolutional Layers\n",
    "* Pooling Layers\n",
    "\n",
    "### Outcomes\n",
    "\n",
    "1. **Understand the structure and role of Convolutional Neural Networks (CNNs)** in processing spatial data like images.\n",
    "2. **Design and implement basic CNN architectures** in PyTorch, including convolutional layers, pooling, and activation functions.\n",
    "3. **Understand how padding, stride, kernel size, and the number of output channels** interact to determine the dimensionality of the output in each convolutional layer.\n",
    "### Readings and Videos\n",
    "\n",
    "* Read Chapter 3, through Section 3.5, in Inside Deep Learning.  You can read 3.6 if you wish, we'll get into that material in the next lesson.\n",
    "* [Andrew Ng on Convolution over Volumes](https://www.youtube.com/watch?v=KTB_OFoAQcc&ab_channel=DeepLearningAI) This is one of many videos Andrew Ng has made to support his deep learning course.  Watch this to solidify your understanding convolutions after doing the reading.  About 11 minutes.\n",
    "* [CNN Explainer](https://poloclub.github.io/cnn-explainer/) Explore the demo on this website to solidify your understanding of CNNs.  Click on things to see animations explaining how each element works.\n",
    "* **Course Notebooks with Videos**  Open each of the notebooks included the lesson folder and watch the embedded video.  You can read along and work through the code examples as you want.  The notebooks for this lesson are in the Lesson_02 directory.  The notebooks are numbered in the order they should be used.\n",
    "\n",
    "### Assessments\n",
    "\n",
    "1.  Complete the reading quiz in Canvas (10 points).\n",
    "2.  Complete the exercises in your the homework notebook in CoCalc (40 points)."
   ]
  },
  {
   "cell_type": "markdown",
   "metadata": {},
   "source": []
  }
 ],
 "metadata": {
  "language_info": {
   "name": "python"
  }
 },
 "nbformat": 4,
 "nbformat_minor": 2
}
