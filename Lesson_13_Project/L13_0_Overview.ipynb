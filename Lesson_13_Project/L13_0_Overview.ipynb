{
 "cells": [
  {
   "cell_type": "markdown",
   "metadata": {},
   "source": [
    "## Lesson 13 (not finalized)\n",
    "\n",
    "In the final two weeks of the course you will either:\n",
    "\n",
    "* Investigate a new topic from one of our textbooks on your own and produce a notebook that introduces the topic, explains a bit about how it works, and demonstrates one or more computational experiments related topic.  Your goal is to produce an \"educational exposition\" that highlights the topic so that it could be read by one of your peers for them to supplement their own study of the corresponding textbook chapter.  It would be similar to any of the notebooks I've provided for the class.\n",
    "\n",
    "* Apply one of the topics we've covered to a new dataset or in a new way.  For example, ...\n",
    "\n",
    "### Assessments\n",
    "* Submit your notebook in the Final Project folder in CoCalc.  (100 pts)\n",
    "\n",
    "#### Rubric:"
   ]
  },
  {
   "cell_type": "markdown",
   "metadata": {},
   "source": []
  }
 ],
 "metadata": {
  "language_info": {
   "name": "python"
  }
 },
 "nbformat": 4,
 "nbformat_minor": 2
}
