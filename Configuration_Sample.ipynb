{
 "cells": [
  {
   "cell_type": "markdown",
   "metadata": {},
   "source": [
    "# Import necessary libraries\n",
    "import os\n",
    "import torch\n",
    "import torchvision\n",
    "import torchvision.transforms as transforms\n",
    "\n",
    "# Step 1: Set up environment variables for dataset and model paths\n",
    "# This step ensures flexibility and centralization of paths in the notebook.\n",
    "os.environ[\"DATA_PATH\"] = \"/mnt/DS776_data/datasets\"\n",
    "os.environ[\"MODEL_PATH\"] = \"/mnt/DS776_data/models\"\n",
    "\n",
    "# Assign variables from environment variables\n",
    "DATA_PATH = os.getenv(\"DATA_PATH\")\n",
    "MODEL_PATH = os.getenv(\"MODEL_PATH\")\n",
    "\n",
    "# Step 2: Create the directories if they do not exist\n",
    "os.makedirs(DATA_PATH, exist_ok=True)\n",
    "os.makedirs(MODEL_PATH, exist_ok=True)\n",
    "\n",
    "print(f\"Datasets will be saved in: {DATA_PATH}\")\n",
    "print(f\"Models will be saved in: {MODEL_PATH}\")\n",
    "\n",
    "# Step 3: Download a sample dataset and save it in the configured dataset directory\n",
    "# Here, we're downloading the CIFAR10 dataset as an example.\n",
    "transform = transforms.Compose([transforms.ToTensor()])\n",
    "trainset = torchvision.datasets.CIFAR10(root=DATA_PATH, train=True, download=True, transform=transform)\n",
    "trainloader = torch.utils.data.DataLoader(trainset, batch_size=32, shuffle=True)\n",
    "\n",
    "# Step 4: Define a simple model (for demonstration purposes)\n",
    "class SimpleCNN(torch.nn.Module):\n",
    "    def __init__(self):\n",
    "        super(SimpleCNN, self).__init__()\n",
    "        self.conv1 = torch.nn.Conv2d(3, 16, 3, padding=1)\n",
    "        self.fc1 = torch.nn.Linear(16 * 32 * 32, 10)\n",
    "\n",
    "    def forward(self, x):\n",
    "        x = torch.relu(self.conv1(x))\n",
    "        x = x.view(-1, 16 * 32 * 32)\n",
    "        x = self.fc1(x)\n",
    "        return x\n",
    "\n",
    "model = SimpleCNN()\n",
    "\n",
    "# Step 5: Save the model in the configured model directory\n",
    "model_save_path = os.path.join(MODEL_PATH, \"simple_cnn.pth\")\n",
    "torch.save(model.state_dict(), model_save_path)\n",
    "\n",
    "print(f\"Model saved at: {model_save_path}\")\n"
   ]
  }
 ],
 "metadata": {
  "language_info": {
   "name": "python"
  }
 },
 "nbformat": 4,
 "nbformat_minor": 2
}
