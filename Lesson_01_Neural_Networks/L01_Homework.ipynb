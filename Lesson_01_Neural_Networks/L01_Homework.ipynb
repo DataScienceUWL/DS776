{
 "cells": [
  {
   "cell_type": "markdown",
   "metadata": {},
   "source": [
    "Homework 01\n",
    "\n",
    "Use NN playground to devise a reliable network for spirals.  \n",
    "\n",
    "Test ReLU vs tanh in NN and PyTorch.\n",
    "\n",
    "Implement, test, and visualize in PyTorch."
   ]
  },
  {
   "cell_type": "code",
   "execution_count": null,
   "metadata": {
    "vscode": {
     "languageId": "plaintext"
    }
   },
   "outputs": [],
   "source": []
  },
  {
   "cell_type": "markdown",
   "metadata": {},
   "source": []
  }
 ],
 "metadata": {
  "language_info": {
   "name": "python"
  }
 },
 "nbformat": 4,
 "nbformat_minor": 2
}
