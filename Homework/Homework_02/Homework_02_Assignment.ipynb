{
 "cells": [
  {
   "cell_type": "code",
   "source": "# DS776 Auto-Update (runs in ~2 seconds, only updates when needed)\n# If this cell fails, see Lessons/Course_Tools/AUTO_UPDATE_SYSTEM.md for help\n%run ../../Lessons/Course_Tools/auto_update_introdl.py",
   "metadata": {},
   "execution_count": null,
   "outputs": []
  },
  {
   "cell_type": "markdown",
   "metadata": {},
   "source": [
    "# Homework 02 Assignment\n",
    "**Name:** [Student Name Here]  \n",
    "**Total Points:** 50\n",
    "\n",
    "## Submission Checklist\n",
    "- [ ] All code cells executed with output saved\n",
    "- [ ] All questions answered\n",
    "- [ ] Notebook converted to HTML (use the Homework_02_Utilities notebook)\n",
    "- [ ] Canvas notebook filename includes `_GRADE_THIS_ONE`\n",
    "- [ ] Files uploaded to Canvas\n",
    "\n",
    "---"
   ]
  },
  {
   "cell_type": "markdown",
   "metadata": {},
   "source": [
    "# FashionMNIST Classification with CNNs\n",
    "\n",
    "In this notebook you'll explore, train, and evaluate models on the FashionMNIST dataset. FashionMNIST was set up as a more difficult drop-in replacement for MNIST.\n",
    "\n",
    "For this assignment you'll want to use a CoCalc compute server with GPU. Make sure you've watched the video at the beginning of the lesson about compute servers."
   ]
  },
  {
   "cell_type": "code",
   "execution_count": null,
   "metadata": {},
   "outputs": [],
   "source": [
    "# === YOUR IMPORTS HERE ===\n",
    "# Add any additional imports you need below this line\n",
    "\n",
    "\n",
    "from introdl.utils import config_paths_keys\n",
    "\n",
    "# Configure paths\n",
    "paths = config_paths_keys()\n",
    "DATA_PATH = paths['DATA_PATH']\n",
    "MODELS_PATH = paths['MODELS_PATH']\n",
    "# === END YOUR IMPORTS ==="
   ]
  },
  {
   "cell_type": "markdown",
   "metadata": {},
   "source": [
    "## [5 pts] Warmup\n",
    "\n",
    "Train LeNet5Rev on FashionMNIST and evaluate the performance on the test set. Include convergence plots of loss and accuracy on the training and test data."
   ]
  },
  {
   "cell_type": "code",
   "execution_count": null,
   "metadata": {},
   "outputs": [],
   "source": [
    "# === YOUR CODE HERE ===\n",
    "# TODO: Implement LeNet5Rev architecture\n",
    "# TODO: Load FashionMNIST dataset\n",
    "# TODO: Train the model\n",
    "# TODO: Create convergence plots\n",
    "\n",
    "\n",
    "# === END YOUR CODE ==="
   ]
  },
  {
   "cell_type": "markdown",
   "metadata": {},
   "source": [
    "## [24 pts] Improve the Model\n",
    "\n",
    "Try increasing the number of convolutional layers up to six with ReLU layers. You may need to increase the number of channels (but not in every layer). Use two max pooling layers. Kernel size can be 3 or 5 but adjust the padding so that the convolutional layers preserve the size of the feature maps.\n",
    "\n",
    "You can also simplify the classifier. Try a single linear layer instead of multiple linear layers separated by ReLU functions.\n",
    "\n",
    "You should be able to achieve about 92% accuracy on the test set. Show convergence plots for each model you try.\n",
    "\n",
    "You should try at least three different models. Describe your experiments. For each experiment include the model and plot convergence results."
   ]
  },
  {
   "cell_type": "markdown",
   "metadata": {},
   "source": [
    "### Experiment 1: [Describe Your Approach]"
   ]
  },
  {
   "cell_type": "code",
   "execution_count": null,
   "metadata": {},
   "outputs": [],
   "source": [
    "# === YOUR CODE HERE ===\n",
    "# TODO: Define and train your first improved model\n",
    "\n",
    "\n",
    "# === END YOUR CODE ==="
   ]
  },
  {
   "cell_type": "markdown",
   "metadata": {},
   "source": [
    "### Experiment 2: [Describe Your Approach]"
   ]
  },
  {
   "cell_type": "code",
   "execution_count": null,
   "metadata": {},
   "outputs": [],
   "source": [
    "# === YOUR CODE HERE ===\n",
    "# TODO: Define and train your second improved model\n",
    "\n",
    "\n",
    "# === END YOUR CODE ==="
   ]
  },
  {
   "cell_type": "markdown",
   "metadata": {},
   "source": [
    "### Experiment 3: [Describe Your Approach]"
   ]
  },
  {
   "cell_type": "code",
   "execution_count": null,
   "metadata": {},
   "outputs": [],
   "source": [
    "# === YOUR CODE HERE ===\n",
    "# TODO: Define and train your third improved model\n",
    "\n",
    "\n",
    "# === END YOUR CODE ==="
   ]
  },
  {
   "cell_type": "markdown",
   "metadata": {},
   "source": [
    "### [3 pts] Describe the Things You Tried\n",
    "\n",
    "Summarize the network architectures you tried. What worked best? What didn't help?\n",
    "\n",
    "📝 **YOUR ANSWER HERE:**"
   ]
  },
  {
   "cell_type": "markdown",
   "metadata": {},
   "source": [
    "## [8 pts] Analyze Your Best Model\n",
    "\n",
    "Make a confusion matrix for the predictions of your best model on the test set. You can set `use_class_labels = True` when using `evaluate_classifier` to see the names of the classes. You can also access the names of the classes as an attribute of the dataset, e.g. `dataset.classes`.\n",
    "\n",
    "Describe which classes get most confused by your model. Plot examples of the images that your model is getting wrong. Do these misclassifications make sense? Are the images from the misclassified classes hard to distinguish by eye?"
   ]
  },
  {
   "cell_type": "code",
   "execution_count": null,
   "metadata": {},
   "outputs": [],
   "source": [
    "# === YOUR CODE HERE ===\n",
    "# TODO: Create confusion matrix for best model\n",
    "# TODO: Identify and visualize misclassified examples\n",
    "# TODO: Analyze confusion patterns\n",
    "\n",
    "\n",
    "# === END YOUR CODE ==="
   ]
  },
  {
   "cell_type": "markdown",
   "metadata": {},
   "source": [
    "Which classes are most confused? Are the misclassifications reasonable?\n",
    "\n",
    "📝 **YOUR ANSWER HERE:**"
   ]
  },
  {
   "cell_type": "markdown",
   "metadata": {},
   "source": [
    "## Understanding Model Training"
   ]
  },
  {
   "cell_type": "markdown",
   "metadata": {},
   "source": [
    "### [3 pts] Training vs Validation Data\n",
    "\n",
    "1. In your FashionMNIST experiments above, you used training and test sets. Explain why we need separate datasets for training and evaluation. What problem are we trying to avoid?\n",
    "\n",
    "📝 **YOUR ANSWER HERE:**\n",
    "\n",
    "2. During training, when should you evaluate on the test/validation set? Every batch? Every epoch? Only at the end? Explain your reasoning.\n",
    "\n",
    "📝 **YOUR ANSWER HERE:**\n",
    "\n",
    "3. If your training accuracy is 99% but your test accuracy is only 60%, what does this indicate about your model? What might you do to fix this?\n",
    "\n",
    "📝 **YOUR ANSWER HERE:**"
   ]
  },
  {
   "cell_type": "markdown",
   "metadata": {},
   "source": [
    "### [5 pts] Understanding the Training Loop\n",
    "\n",
    "The `train_network` function you used above contains a training loop. Below is simplified code showing the key parts of what happens inside that function. For each marked line, explain in your own words what that line does and why it's necessary for training the network.\n",
    "\n",
    "```python\n",
    "def training_loop(model, train_loader, loss_func, optimizer, epochs):\n",
    "    for epoch in range(epochs):\n",
    "        for batch_idx, (data, target) in enumerate(train_loader):\n",
    "            \n",
    "            # LINE A: What does optimizer.zero_grad() do and why is it necessary?\n",
    "            optimizer.zero_grad()\n",
    "            \n",
    "            # LINE B: What is happening when we call model(data)?\n",
    "            output = model(data)\n",
    "            \n",
    "            # LINE C: What does the loss function compute and what type of value does it return?\n",
    "            loss = loss_func(output, target)\n",
    "            \n",
    "            # LINE D: What does loss.backward() calculate and where does it store the results?\n",
    "            loss.backward()\n",
    "            \n",
    "            # LINE E: What does optimizer.step() do with the information from loss.backward()?\n",
    "            optimizer.step()\n",
    "```\n",
    "\n",
    "📝 **YOUR EXPLANATIONS:**\n",
    "- **LINE A:** \n",
    "- **LINE B:** \n",
    "- **LINE C:** \n",
    "- **LINE D:** \n",
    "- **LINE E:** "
   ]
  },
  {
   "cell_type": "markdown",
   "metadata": {},
   "source": [
    "## [2 pts] Reflection\n",
    "\n",
    "1. What, if anything, did you find difficult to understand for this lesson? Why?\n",
    "\n",
    "📝 **YOUR ANSWER HERE:**\n",
    "\n",
    "2. What resources did you find supported your learning most and least for this lesson? (Be honest - I use your input to shape the course.)\n",
    "\n",
    "📝 **YOUR ANSWER HERE:**"
   ]
  },
  {
   "cell_type": "markdown",
   "metadata": {},
   "source": []
  }
 ],
 "metadata": {
  "kernelspec": {
   "display_name": "Python 3",
   "language": "python",
   "name": "python3"
  },
  "language_info": {
   "codemirror_mode": {
    "name": "ipython",
    "version": 3
   },
   "file_extension": ".py",
   "mimetype": "text/x-python",
   "name": "python",
   "nbconvert_exporter": "python",
   "pygments_lexer": "ipython3",
   "version": "3.11.10"
  }
 },
 "nbformat": 4,
 "nbformat_minor": 2
}