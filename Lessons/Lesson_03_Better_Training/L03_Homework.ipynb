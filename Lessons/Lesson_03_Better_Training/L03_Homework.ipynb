{
 "cells": [
  {
   "cell_type": "markdown",
   "metadata": {},
   "source": [
    "## Lesson 03 Homework\n",
    "\n",
    "* Build a slightly deeper CNN and train it on Fashion MNIST (maybe two different architectures)\n",
    "* Explore optimizers, learning rate schedulers, and augmentation with Fashion MNIST"
   ]
  },
  {
   "cell_type": "markdown",
   "metadata": {},
   "source": []
  }
 ],
 "metadata": {
  "language_info": {
   "name": "python"
  }
 },
 "nbformat": 4,
 "nbformat_minor": 2
}
