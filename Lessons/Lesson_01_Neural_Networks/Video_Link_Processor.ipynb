{
 "cells": [
  {
   "cell_type": "code",
   "execution_count": null,
   "metadata": {},
   "outputs": [],
   "source": [
    "import pandas as pd\n",
    "import nbformat as nbf\n",
    "\n",
    "# Load the spreadsheet\n",
    "file_path = \"./Tracker.xlsx\"\n",
    "data = pd.read_excel(file_path)\n",
    "\n",
    "# Create a new Jupyter notebook\n",
    "notebook = nbf.v4.new_notebook()\n",
    "\n",
    "# Iterate over rows in the spreadsheet to add cells to the notebook\n",
    "for _, row in data.iterrows():\n",
    "    # Extract relevant data from each row\n",
    "    title = row.get(\"Title\", \"Untitled\").replace(\" \", \"_\")  # Example column name for title\n",
    "    uwex_url = row.get(\"UWEX_URL\", \"#\")  # Example column name for UWEX URL\n",
    "    descript_url = row.get(\"Descript_URL\", \"#\")  # Example column name for Descript URL\n",
    "\n",
    "    # Generate the markdown content\n",
    "    markdown_content = f\"\"\"### {title} Video\n",
    "\n",
    "<iframe \n",
    "    src=\"{uwex_url}\" \n",
    "    width=\"960\" \n",
    "    height=\"540\" \n",
    "    frameborder=\"0\" \n",
    "    allowfullscreen>\n",
    "</iframe>\n",
    "<br>\n",
    "<a href=\"{uwex_url}\" target=\"_blank\">Open UWEX version of video in new tab</a>\n",
    "<br>\n",
    "<a href=\"{descript_url}\" target=\"_blank\">Open Descript version of video in new tab</a>\n",
    "\"\"\"\n",
    "\n",
    "    # Add the markdown cell to the notebook\n",
    "    notebook.cells.append(nbf.v4.new_markdown_cell(markdown_content))\n",
    "\n",
    "# Save the notebook\n",
    "output_path = \"./Video_Links_Notebook.ipynb\"\n",
    "with open(output_path, 'w', encoding='utf-8') as f:\n",
    "    nbf.write(notebook, f)\n",
    "\n",
    "output_path\n"
   ]
  }
 ],
 "metadata": {
  "language_info": {
   "name": "python"
  }
 },
 "nbformat": 4,
 "nbformat_minor": 2
}
