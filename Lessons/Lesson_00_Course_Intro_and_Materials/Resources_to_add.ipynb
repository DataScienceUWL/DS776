{
 "cells": [
  {
   "cell_type": "markdown",
   "metadata": {},
   "source": [
    "Week 1 - Add 3 Blue 1 Brown neural network video: https://www.3blue1brown.com/lessons/neural-networks\n",
    "\n",
    "Week 7 - \n",
    "* Inside an LLM - https://www.3blue1brown.com/lessons/gpt\n",
    "* Attention - https://www.3blue1brown.com/lessons/attention (the second video might make more sense in Week 9)\n",
    "* Self-Attention in Eight Minutes: https://newsletter.theaiedge.io/p/understanding-the-self-attention\n"
   ]
  }
 ],
 "metadata": {
  "language_info": {
   "name": "python"
  }
 },
 "nbformat": 4,
 "nbformat_minor": 2
}
