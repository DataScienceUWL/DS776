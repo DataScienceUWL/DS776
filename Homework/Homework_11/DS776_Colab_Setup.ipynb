{
 "cells": [
  {
   "cell_type": "markdown",
   "id": "5df87d30",
   "metadata": {},
   "source": [
    "# ✅ DS776 Setup for Google Colab (with Google Drive)\n",
    "\n",
    "This notebook helps you complete DS776 assignments using **Google Colab** with your **Google Drive** for saving your work.\n",
    "\n",
    "It will:\n",
    "- ✅ Mount your Google Drive\n",
    "- ✅ Clone the DS776 GitHub repo\n",
    "- ✅ Install the `introdl` package\n",
    "- ✅ Help you save and resume your homework notebook\n"
   ]
  },
  {
   "cell_type": "markdown",
   "id": "ae6165a4",
   "metadata": {},
   "source": [
    "## ⚡ Step 1: Enable GPU\n",
    "\n",
    "1. Click **Runtime → Change runtime type**\n",
    "2. Under **Hardware Accelerator**, select **GPU**\n",
    "3. Click **Save**\n",
    "\n",
    "> 💡 To get faster GPUs (like L4 or A100), consider **Colab Pro** for $10/month. It also gives longer runtimes and more memory.\n"
   ]
  },
  {
   "cell_type": "markdown",
   "id": "a602110b",
   "metadata": {},
   "source": [
    "## 📌 Step 2: Mount Google Drive\n",
    "\n",
    "This allows you to save your notebooks and model checkpoints.\n"
   ]
  },
  {
   "cell_type": "code",
   "execution_count": null,
   "id": "730c1f84",
   "metadata": {},
   "outputs": [],
   "source": [
    "from google.colab import drive\n",
    "drive.mount('/content/drive')"
   ]
  },
  {
   "cell_type": "markdown",
   "id": "67386a69",
   "metadata": {},
   "source": [
    "## 📦 Step 3: Clone the DS776 Course Repository\n",
    "\n",
    "This pulls the latest materials into your session (temporary).\n"
   ]
  },
  {
   "cell_type": "code",
   "execution_count": null,
   "id": "eb709e05",
   "metadata": {},
   "outputs": [],
   "source": [
    "!git clone https://github.com/DataScienceUWL/DS776.git\n",
    "%cd DS776"
   ]
  },
  {
   "cell_type": "markdown",
   "id": "ab002b49",
   "metadata": {},
   "source": [
    "## 🔧 Step 4: Install the `introdl` Course Package\n"
   ]
  },
  {
   "cell_type": "code",
   "execution_count": null,
   "id": "0f754338",
   "metadata": {},
   "outputs": [],
   "source": [
    "%pip install -e Lessons/Course_Tools/introdl"
   ]
  },
  {
   "cell_type": "markdown",
   "id": "1885846b",
   "metadata": {},
   "source": [
    "## 💾 Step 5: Save Your Homework Notebook to Google Drive\n",
    "\n",
    "Run this to save your edited homework notebook to Drive:\n",
    "\n",
    "> 📌 Replace the filename with your actual notebook path.\n",
    "\n"
   ]
  },
  {
   "cell_type": "code",
   "execution_count": null,
   "id": "cffcc269",
   "metadata": {},
   "outputs": [],
   "source": [
    "!cp Homework/Homework_11/HW_11_MyName.ipynb /content/drive/MyDrive/"
   ]
  },
  {
   "cell_type": "markdown",
   "id": "6d006581",
   "metadata": {},
   "source": [
    "## 🔁 Step 6: Resume Work Later\n",
    "\n",
    "1. Go to [Google Drive](https://drive.google.com)\n",
    "2. Open your saved notebook with **Google Colaboratory**\n",
    "3. Re-run setup:\n",
    "\n"
   ]
  },
  {
   "cell_type": "code",
   "execution_count": null,
   "id": "42575152",
   "metadata": {},
   "outputs": [],
   "source": [
    "from google.colab import drive\n",
    "drive.mount('/content/drive')\n",
    "\n",
    "!git clone https://github.com/DataScienceUWL/DS776.git\n",
    "%cd DS776\n",
    "%pip install -e Lessons/Course_Tools/introdl"
   ]
  },
  {
   "cell_type": "markdown",
   "id": "4404e5b0",
   "metadata": {},
   "source": [
    "## 📤 Step 7: Download for Upload or Backup\n",
    "\n",
    "### A. Download Notebook File\n",
    "Go to **File > Download > Download .ipynb**\n",
    "\n",
    "### B. Download as HTML\n"
   ]
  },
  {
   "cell_type": "code",
   "execution_count": null,
   "id": "1df1b3d8",
   "metadata": {},
   "outputs": [],
   "source": [
    "!jupyter nbconvert --to html Homework/Homework_11/HW_11_MyName.ipynb\n",
    "from google.colab import files\n",
    "files.download('Homework/Homework_11/HW_11_MyName.html')"
   ]
  },
  {
   "cell_type": "markdown",
   "id": "73b2324a",
   "metadata": {},
   "source": [
    "---\n",
    "\n",
    "✅ You're now set up to work in Colab using the DS776 course materials.  \n",
    "Be sure to save your work often to Google Drive!\n"
   ]
  }
 ],
 "metadata": {},
 "nbformat": 4,
 "nbformat_minor": 5
}