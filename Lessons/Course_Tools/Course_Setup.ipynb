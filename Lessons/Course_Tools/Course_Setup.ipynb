{
 "cells": [
  {
   "cell_type": "markdown",
   "metadata": {},
   "source": [
    "# DS776 Course Setup\n",
    "\n",
    "Welcome to DS776 Deep Learning! This notebook will set up your course environment.\n",
    "\n",
    "**This notebook will:**\n",
    "1. Install the `introdl` course package\n",
    "2. Set up API key configuration\n",
    "3. Verify everything is working\n",
    "\n",
    "## ⚠️ Important Notes:\n",
    "- Run this notebook ONCE at the beginning of the course\n",
    "- Run all cells in order\n",
    "- The setup takes about 1-2 minutes\n",
    "- Workspace folders are created automatically when you import `introdl`"
   ]
  },
  {
   "cell_type": "markdown",
   "metadata": {},
   "source": [
    "## Step 1: Install or Update Course Package\n",
    "\n",
    "This uninstalls any existing `introdl` package and then installs a fresh version."
   ]
  },
  {
   "cell_type": "code",
   "execution_count": 1,
   "metadata": {
    "execution": {
     "iopub.execute_input": "2025-08-26T01:04:26.790778Z",
     "iopub.status.busy": "2025-08-26T01:04:26.790413Z",
     "iopub.status.idle": "2025-08-26T01:04:33.101859Z",
     "shell.execute_reply": "2025-08-26T01:04:33.101045Z"
    }
   },
   "outputs": [
    {
     "name": "stdout",
     "output_type": "stream",
     "text": [
      "📦 Installing/updating introdl course package...\n",
      "This may take 1-2 minutes...\n",
      "\n",
      "🔄 Checking for existing installation...\n"
     ]
    },
    {
     "name": "stdout",
     "output_type": "stream",
     "text": [
      "   Found existing installation, uninstalling...\n"
     ]
    },
    {
     "name": "stdout",
     "output_type": "stream",
     "text": [
      "   ✅ Previous version uninstalled\n",
      "\n",
      "📦 Installing fresh package...\n"
     ]
    },
    {
     "name": "stdout",
     "output_type": "stream",
     "text": [
      "✅ Package installed successfully!\n",
      "   Note: Using standard install (not editable) for CoCalc compatibility\n"
     ]
    }
   ],
   "source": [
    "# Install the introdl package\n",
    "import subprocess\n",
    "import sys\n",
    "from pathlib import Path\n",
    "\n",
    "print(\"📦 Installing/updating introdl course package...\")\n",
    "print(\"This may take 1-2 minutes...\\n\")\n",
    "\n",
    "# First, uninstall existing package if present\n",
    "print(\"🔄 Checking for existing installation...\")\n",
    "result = subprocess.run(\n",
    "    [sys.executable, \"-m\", \"pip\", \"show\", \"introdl\"],\n",
    "    capture_output=True,\n",
    "    text=True\n",
    ")\n",
    "\n",
    "if result.returncode == 0:\n",
    "    print(\"   Found existing installation, uninstalling...\")\n",
    "    uninstall_result = subprocess.run(\n",
    "        [sys.executable, \"-m\", \"pip\", \"uninstall\", \"introdl\", \"-y\", \"--quiet\"],\n",
    "        capture_output=True,\n",
    "        text=True\n",
    "    )\n",
    "    if uninstall_result.returncode == 0:\n",
    "        print(\"   ✅ Previous version uninstalled\")\n",
    "    else:\n",
    "        print(\"   ⚠️ Could not uninstall previous version\")\n",
    "else:\n",
    "    print(\"   No existing installation found\")\n",
    "\n",
    "print(\"\\n📦 Installing fresh package...\")\n",
    "\n",
    "# Get the path to the introdl package\n",
    "course_tools_dir = Path.cwd().parent  # Assuming we're in Course_Tools\n",
    "introdl_dir = course_tools_dir / \"introdl\"\n",
    "\n",
    "if not introdl_dir.exists():\n",
    "    # Try alternative path\n",
    "    introdl_dir = Path.cwd() / \"introdl\"\n",
    "\n",
    "if introdl_dir.exists():\n",
    "    # Install the package (non-editable for CoCalc compatibility)\n",
    "    result = subprocess.run(\n",
    "        [sys.executable, \"-m\", \"pip\", \"install\", str(introdl_dir), \"--quiet\"],\n",
    "        capture_output=True,\n",
    "        text=True\n",
    "    )\n",
    "    \n",
    "    if result.returncode == 0:\n",
    "        print(\"✅ Package installed successfully!\")\n",
    "        print(\"   Note: Using standard install (not editable) for CoCalc compatibility\")\n",
    "    else:\n",
    "        print(\"❌ Installation failed. Error:\")\n",
    "        print(result.stderr)\n",
    "else:\n",
    "    print(\"❌ Could not find introdl package directory\")\n",
    "    print(f\"   Looked in: {introdl_dir}\")"
   ]
  },
  {
   "cell_type": "code",
   "execution_count": null,
   "metadata": {
    "execution": {
     "iopub.execute_input": "2025-08-26T01:04:33.127154Z",
     "iopub.status.busy": "2025-08-26T01:04:33.126952Z",
     "iopub.status.idle": "2025-08-26T01:04:33.997766Z",
     "shell.execute_reply": "2025-08-26T01:04:33.996962Z"
    }
   },
   "outputs": [],
   "source": [
    "import shutil\n",
    "from pathlib import Path\n",
    "\n",
    "print(\"🔑 Setting up API key configuration...\\n\")\n",
    "\n",
    "# Determine the course root and workspace location\n",
    "current_dir = Path.cwd()\n",
    "if \"Course_Tools\" in str(current_dir):\n",
    "    # We're in Lessons/Course_Tools\n",
    "    course_root = current_dir.parent.parent\n",
    "    course_tools_dir = current_dir\n",
    "else:\n",
    "    # Try to find the course root\n",
    "    for parent in [current_dir] + list(current_dir.parents):\n",
    "        if (parent / \"Lessons\").exists() and (parent / \"Homework\").exists():\n",
    "            course_root = parent\n",
    "            course_tools_dir = course_root / \"Lessons\" / \"Course_Tools\"\n",
    "            break\n",
    "    else:\n",
    "        course_root = Path.home() / \"DS776\"\n",
    "        course_tools_dir = course_root / \"Lessons\" / \"Course_Tools\"\n",
    "\n",
    "# The config_paths_keys function will create home_workspace automatically\n",
    "# We just need to ensure the api_keys.env file exists\n",
    "home_workspace = course_root / \"home_workspace\"\n",
    "home_workspace.mkdir(parents=True, exist_ok=True)\n",
    "\n",
    "# Create api_keys.env in home_workspace if it doesn't exist\n",
    "api_keys_dest = home_workspace / \"api_keys.env\"\n",
    "api_keys_template = course_tools_dir / \"api_keys.env\"\n",
    "\n",
    "if not api_keys_dest.exists():\n",
    "    if api_keys_template.exists():\n",
    "        # Copy the template\n",
    "        shutil.copy2(api_keys_template, api_keys_dest)\n",
    "        print(f\"✅ Created API keys file: {api_keys_dest.relative_to(course_root)}\")\n",
    "    else:\n",
    "        # Create a new template\n",
    "        template_content = \"\"\"# API Keys for DS776 Deep Learning Course\n",
    "# Edit this file with your actual API keys\n",
    "# This file is in home_workspace and will sync across compute servers\n",
    "\n",
    "# OpenAI API Key (for GPT models)\n",
    "OPENAI_API_KEY=your_openai_key_here\n",
    "\n",
    "# Hugging Face Token (for model downloads)\n",
    "HF_TOKEN=your_huggingface_token_here\n",
    "\n",
    "# OpenRouter API Key (for various LLMs)\n",
    "OPENROUTER_API_KEY=your_openrouter_key_here\n",
    "\n",
    "# Google API Key (for Gemini models)\n",
    "GOOGLE_API_KEY=your_google_key_here\n",
    "\n",
    "# Groq API Key (for fast inference)\n",
    "GROQ_API_KEY=your_groq_key_here\n",
    "\"\"\"\n",
    "        api_keys_dest.write_text(template_content)\n",
    "        print(f\"✅ Created API keys template: {api_keys_dest.relative_to(course_root)}\")\n",
    "    \n",
    "    print(\"\\n📝 TO ADD YOUR API KEYS:\")\n",
    "    print(f\"   1. Open {api_keys_dest.relative_to(course_root)}\")\n",
    "    print(\"   2. Replace 'your_xxx_key_here' with your actual API keys\")\n",
    "    print(\"   3. Save the file\")\n",
    "    print(\"\\n   Your keys will automatically sync across compute servers!\")\n",
    "else:\n",
    "    print(f\"✅ API keys file already exists: {api_keys_dest.relative_to(course_root)}\")\n",
    "    print(\"   (Your existing keys have been preserved)\")"
   ]
  },
  {
   "cell_type": "markdown",
   "metadata": {},
   "source": [
    "## Step 3: Verify Installation\n",
    "\n",
    "Let's make sure everything is working correctly."
   ]
  },
  {
   "cell_type": "code",
   "execution_count": null,
   "metadata": {},
   "outputs": [],
   "source": [
    "print(\"🔍 Verifying installation...\\n\")\n",
    "\n",
    "# Test 1: Import introdl package\n",
    "try:\n",
    "    import introdl\n",
    "    print(\"✅ introdl package imported successfully\")\n",
    "    print(f\"   Version: {getattr(introdl, '__version__', 'Unknown')}\")\n",
    "except ImportError as e:\n",
    "    print(f\"❌ Could not import introdl: {e}\")\n",
    "\n",
    "# Test 2: Test config_paths_keys (this will also create workspace folders)\n",
    "print(\"\\n🔧 Testing configuration and creating workspace...\")\n",
    "try:\n",
    "    from introdl.utils import config_paths_keys\n",
    "    import os\n",
    "    \n",
    "    # Set DS776_ROOT_DIR if we found the course root\n",
    "    if 'course_root' in locals():\n",
    "        os.environ['DS776_ROOT_DIR'] = str(course_root)\n",
    "    \n",
    "    # This will automatically create all necessary workspace folders\n",
    "    paths = config_paths_keys()\n",
    "    print(\"✅ Configuration loaded successfully\")\n",
    "    print(\"\\n📁 Workspace paths configured:\")\n",
    "    print(f\"   Data:   {paths['DATA_PATH']}\")\n",
    "    print(f\"   Models: {paths['MODELS_PATH']}\")\n",
    "    print(f\"   Cache:  {paths['CACHE_PATH']}\")\n",
    "except Exception as e:\n",
    "    print(f\"❌ Configuration error: {e}\")\n",
    "\n",
    "# Test 3: Check API keys file\n",
    "print(\"\\n🔑 API keys file:\")\n",
    "if 'api_keys_dest' in locals() and api_keys_dest.exists():\n",
    "    print(f\"   ✅ {api_keys_dest.relative_to(course_root)}\")\n",
    "else:\n",
    "    print(f\"   ✅ API keys file configured\")\n",
    "\n",
    "# Test 4: Check PyTorch\n",
    "print(\"\\n🔥 Checking PyTorch...\")\n",
    "try:\n",
    "    import torch\n",
    "    print(f\"✅ PyTorch version: {torch.__version__}\")\n",
    "    if torch.cuda.is_available():\n",
    "        print(f\"   GPU available: {torch.cuda.get_device_name(0)}\")\n",
    "    else:\n",
    "        print(\"   Running on CPU (GPU not available)\")\n",
    "except ImportError:\n",
    "    print(\"❌ PyTorch not installed\")"
   ]
  },
  {
   "cell_type": "markdown",
   "id": "438fe839",
   "metadata": {},
   "source": [
    "## 🎉 Setup Complete\\!\n",
    "\n",
    "Your DS776 course environment is now configured and ready to use.\n",
    "\n",
    "### Next Steps:\n",
    "1. **Add your API keys** to  if you haven't already\n",
    "2. **Start with Lesson 01** notebooks\n",
    "3. **Workspace folders** are created automatically when you run notebooks\n",
    "\n",
    "### Need Help?\n",
    "- **Storage issues?** Use the  notebook\n",
    "- **Package issues?** Use the  notebook\n",
    "- **API key issues?** Check that your keys are correctly entered in \n",
    "\n",
    "Good luck with the course\\! 🚀"
   ]
  }
 ],
 "metadata": {
  "kernelspec": {
   "display_name": "Python (ds776_env)",
   "language": "python",
   "name": "ds776_env"
  },
  "language_info": {
   "codemirror_mode": {
    "name": "ipython",
    "version": 3
   },
   "file_extension": ".py",
   "mimetype": "text/x-python",
   "name": "python",
   "nbconvert_exporter": "python",
   "pygments_lexer": "ipython3",
   "version": "3.10.18"
  }
 },
 "nbformat": 4,
 "nbformat_minor": 4
}
