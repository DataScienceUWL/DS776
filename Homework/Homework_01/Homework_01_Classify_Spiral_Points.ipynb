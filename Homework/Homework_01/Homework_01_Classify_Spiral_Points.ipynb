{
 "cells": [
  {
   "cell_type": "code",
   "execution_count": 2,
   "metadata": {
    "executionInfo": {
     "elapsed": 193,
     "status": "ok",
     "timestamp": 1707433896265,
     "user": {
      "displayName": "Jeff B",
      "userId": "12312427422906518493"
     },
     "user_tz": 360
    },
    "id": "l0lxuljjnyGq"
   },
   "outputs": [
    {
     "name": "stdout",
     "output_type": "stream",
     "text": [
      "✅ Environment: Unknown Environment | Course root: /mnt/e/GDrive_baggett.jeff/Teaching/Classes_current/2025-2026_Fall_DS776/DS776\n",
      "📍 Environment: Unknown Environment (Local Development)\n",
      "   Using workspace: /mnt/e/GDrive_baggett.jeff/Teaching/Classes_current/2025-2026_Fall_DS776/DS776/home_workspace\n",
      "\n",
      "📂 Storage Configuration:\n",
      "   DATA_PATH: /mnt/e/GDrive_baggett.jeff/Teaching/Classes_current/2025-2026_Fall_DS776/DS776/home_workspace/data\n",
      "   MODELS_PATH: /mnt/e/GDrive_baggett.jeff/Teaching/Classes_current/2025-2026_Fall_DS776/DS776/Homework/Homework_01/Homework_1_models (local to this notebook)\n",
      "   CACHE_PATH: /mnt/e/GDrive_baggett.jeff/Teaching/Classes_current/2025-2026_Fall_DS776/DS776/home_workspace/downloads\n",
      "🔑 API keys: 7 loaded from api_keys.env\n",
      "🔐 Available: GEMINI_API_KEY, GROQ_API_KEY, HF_TOKEN... (7 total)\n",
      "✅ HuggingFace Hub: Logged in\n",
      "📦 introdl v1.3 ready\n",
      "\n"
     ]
    }
   ],
   "source": [
    "# add your imports and settings here\n",
    "\n",
    "from sklearn.model_selection import train_test_split\n",
    "from Homework_01_scripts import make_spirals\n",
    "\n",
    "from introdl.utils import config_paths_keys\n",
    "\n",
    "paths = config_paths_keys()\n",
    "MODELS_PATH = paths['MODELS_PATH']\n",
    "DATA_PATH = paths['DATA_PATH']\n"
   ]
  },
  {
   "cell_type": "markdown",
   "metadata": {
    "id": "LcxjNSA3gGmV"
   },
   "source": [
    "# Binary classification of 2D points arranged in a spiral\n",
    "\n",
    "## Instructions\n",
    "\n",
    "Read these carefully to be sure you don't leave anything out.\n",
    "\n",
    "Start by playing with the 2 class spiral classification problem in the [Neural Network Playground](https://playground.tensorflow.org/#activation=relu&batchSize=10&dataset=spiral&regDataset=reg-plane&learningRate=0.03&regularizationRate=0&noise=35&networkShape=4,2&seed=0.76765&showTestData=false&discretize=false&percTrainData=80&x=true&y=true&xTimesY=false&xSquared=false&ySquared=false&cosX=false&sinX=false&cosY=false&sinY=false&collectStats=false&problem=classification&initZero=false&hideText=false&problem_hide=true&discretize_hide=true&regularization_hide=true&dataset_hide=true&regularizationRate_hide=true).  Note - this link gives you a reduced version of the original website so you can focus on mainly the structure of the NN for this assignment.  \n",
    "\n",
    "Don't change the test/training ratio or the noise level.  Also, use only X1 and X2 as features (inputs) for your network.  Experiment with the network structure and try retraining each network a few times until you find a network architecture that seems to work reasonably well.  Once you've done that  you should implement that network here in PyTorch.  \n",
    "\n",
    "We'll generate the initial spiral data for you.  You do the rest.  You should mimic the setup in the compact version of the logisitic regression notebook from class (in Canvas), but make changes to the network, training loop, etc. as needed.\n",
    "\n",
    "In addition to plotting the loss for the training and validation sets vs the epochs, figure out how to do the same for accuracy and share that plot.\n",
    "\n",
    "In the end you should be able to achieve 95% accuracy on the validation data.  I'll likely change a couple of random seeds to see if you've picked a robust architecture and training parameters!\n"
   ]
  },
  {
   "cell_type": "markdown",
   "metadata": {},
   "source": [
    "## Describe what you learned in NN Playground [5 pts]\n",
    "\n",
    "Use this cell to explain what you learned in NN playground.  What model did you select?  What learning rate?  What activation function?\n",
    "\n",
    "FILL IN HERE:"
   ]
  },
  {
   "cell_type": "markdown",
   "metadata": {},
   "source": [
    "## Prepare the data. [5 pts]\n",
    "\n",
    "We'll build the spirals and split the data into train and test sets.  We're using a larger training set than in NN playground for more robust training.  Don't modify this code.\n"
   ]
  },
  {
   "cell_type": "code",
   "execution_count": 5,
   "metadata": {
    "colab": {
     "base_uri": "https://localhost:8080/",
     "height": 487
    },
    "executionInfo": {
     "elapsed": 495,
     "status": "ok",
     "timestamp": 1707433896939,
     "user": {
      "displayName": "Jeff B",
      "userId": "12312427422906518493"
     },
     "user_tz": 360
    },
    "id": "WshMUYUjfUY7",
    "outputId": "22dcd674-eadf-4b81-80a2-c08d9f91f427"
   },
   "outputs": [],
   "source": [
    "# Execute, but don't change this cell to generate train and test data\n",
    "\n",
    "from Homework_01_scripts import make_spirals\n",
    "\n",
    "X, y = make_spirals(n_samples=1000, noise = 35, random_state = 42)\n",
    "\n",
    "# Split the data into training and validation sets\n",
    "X_train, X_test, y_train, y_test = train_test_split(X, y, test_size=0.2, random_state=123)"
   ]
  },
  {
   "cell_type": "markdown",
   "metadata": {},
   "source": [
    "Setup the Datasets and DataLoaders here:"
   ]
  },
  {
   "cell_type": "code",
   "execution_count": null,
   "metadata": {},
   "outputs": [],
   "source": []
  },
  {
   "cell_type": "markdown",
   "metadata": {},
   "source": [
    "## Visualize the data [5 pts]\n",
    "\n",
    "Make side-by-side plots showing the training and test data along with the classes for each point.  You may have to look up how use matplotlib.pyplot.subplots"
   ]
  },
  {
   "cell_type": "code",
   "execution_count": null,
   "metadata": {},
   "outputs": [],
   "source": []
  },
  {
   "cell_type": "markdown",
   "metadata": {},
   "source": [
    "## Define the model [5 pts]\n",
    "\n",
    "Define your model.  Create an instance of it.  Use `summarizer` to generate a model summary."
   ]
  },
  {
   "cell_type": "code",
   "execution_count": null,
   "metadata": {},
   "outputs": [],
   "source": []
  },
  {
   "cell_type": "markdown",
   "metadata": {},
   "source": [
    "How many trainable parameters are in your model?\n",
    "\n",
    "ANSWER HERE: "
   ]
  },
  {
   "cell_type": "markdown",
   "metadata": {
    "id": "fbfQJ6XyDKFz"
   },
   "source": [
    "## Train the model [5 pts]\n",
    "\n",
    "Configure the model training and do the training. Save the checkpoint file in MODELS_PATH.\n",
    "\n",
    "**You should be able to achieve around 95% accuracy on the test data.**"
   ]
  },
  {
   "cell_type": "code",
   "execution_count": 43,
   "metadata": {
    "executionInfo": {
     "elapsed": 9,
     "status": "ok",
     "timestamp": 1707433897662,
     "user": {
      "displayName": "Jeff B",
      "userId": "12312427422906518493"
     },
     "user_tz": 360
    },
    "id": "pWnLQLZ_etOk"
   },
   "outputs": [],
   "source": []
  },
  {
   "cell_type": "markdown",
   "metadata": {},
   "source": [
    "## Inspect convergence graphically [5 pts]\n",
    "\n",
    "Load the checkpoint file and use it to plot training and test loss vs epoch and training and test accuracy vs epoch."
   ]
  },
  {
   "cell_type": "code",
   "execution_count": null,
   "metadata": {},
   "outputs": [],
   "source": []
  },
  {
   "cell_type": "markdown",
   "metadata": {},
   "source": [
    "What is the maximum test accuracy found by your model?\n",
    "\n",
    "ANSWER HERE:"
   ]
  },
  {
   "cell_type": "markdown",
   "metadata": {
    "id": "dj8B9rZFV-o0"
   },
   "source": [
    "## Visualize the model fit [5 pts]\n",
    "\n",
    "Plot the fitted model as in the lesson."
   ]
  },
  {
   "cell_type": "code",
   "execution_count": 46,
   "metadata": {
    "executionInfo": {
     "elapsed": 6,
     "status": "ok",
     "timestamp": 1707433897662,
     "user": {
      "displayName": "Jeff B",
      "userId": "12312427422906518493"
     },
     "user_tz": 360
    },
    "id": "-c5h-JBtXLTU"
   },
   "outputs": [],
   "source": []
  },
  {
   "cell_type": "markdown",
   "metadata": {
    "id": "eSobmn9ScsSd"
   },
   "source": [
    "Comment on the quality of the fit.  Does the decision boundary accurately represent the separation of the classes or is there anything about it that seems incorrect?\n",
    "\n",
    "ANSWER HERE:"
   ]
  },
  {
   "cell_type": "markdown",
   "metadata": {
    "id": "WTZUbA102ZiC"
   },
   "source": [
    "## Make predictions [5 pts]\n",
    "\n",
    "Include a function for making predictions and find the probabilities and predicted labels for new points: (0,0), (0,2), and (0,4).\n"
   ]
  },
  {
   "cell_type": "code",
   "execution_count": 50,
   "metadata": {
    "executionInfo": {
     "elapsed": 190,
     "status": "ok",
     "timestamp": 1707434212334,
     "user": {
      "displayName": "Jeff B",
      "userId": "12312427422906518493"
     },
     "user_tz": 360
    },
    "id": "pihJAQ9xgS7H"
   },
   "outputs": [],
   "source": []
  },
  {
   "cell_type": "markdown",
   "metadata": {},
   "source": [
    "## Understanding Model Training"
   ]
  },
  {
   "cell_type": "markdown",
   "metadata": {},
   "source": [
    "### Training vs Validation Data [3 pts]\n",
    "\n",
    "*NOTE:  I was not very clear in the lesson, but what we're calling a test set is being used as a validation set in the text and homework.*\n",
    "\n",
    "1. In your spiral classification problem above, you split your data into training and validation sets. Explain why we need separate datasets for training and validation. What problem are we trying to avoid?\n",
    "\n",
    "YOUR ANSWER:\n",
    "\n",
    "2. During training, when should you evaluate on the validation set? Every batch? Every epoch? Only at the end? Explain your reasoning.\n",
    "\n",
    "YOUR ANSWER:\n",
    "\n",
    "3. If your training accuracy is 99% but your validation accuracy is only 60%, what does this indicate about your model? What might you do to fix this?\n",
    "\n",
    "YOUR ANSWER:"
   ]
  },
  {
   "cell_type": "markdown",
   "metadata": {},
   "source": [
    "### Question 3: Understanding the Training Loop [5 pts]\n",
    "\n",
    "The `train_simple_network` function you used above contains a training loop. Below is simplified code showing the key parts of what happens inside that function. For each marked line, explain in your own words what that line does and why it's necessary for training the network. Use Chapter 1 of the textbook to help you understand these operations.\n",
    "\n",
    "```python\n",
    "def training_loop(model, train_loader, loss_func, optimizer, epochs):\n",
    "    for epoch in range(epochs):\n",
    "        for batch_idx, (data, target) in enumerate(train_loader):\n",
    "            \n",
    "            # LINE A: What does optimizer.zero_grad() do and why is it necessary?\n",
    "            optimizer.zero_grad()\n",
    "            \n",
    "            # LINE B: What is happening when we call model(data)?\n",
    "            output = model(data)\n",
    "            \n",
    "            # LINE C: What does the loss function compute and what type of value does it return?\n",
    "            loss = loss_func(output, target)\n",
    "            \n",
    "            # LINE D: What does loss.backward() calculate and where does it store the results?\n",
    "            loss.backward()\n",
    "            \n",
    "            # LINE E: What does optimizer.step() do with the information from loss.backward()?\n",
    "            optimizer.step()\n",
    "```\n",
    "\n",
    "YOUR EXPLANATIONS:\n",
    "- LINE A: \n",
    "- LINE B: \n",
    "- LINE C: \n",
    "- LINE D: \n",
    "- LINE E: "
   ]
  },
  {
   "cell_type": "markdown",
   "metadata": {},
   "source": [
    "## Reflection [2 pts]\n",
    "\n",
    "1.  What, if anything, did you find difficcult to understand for the lesson?  Why?\n",
    "\n",
    "YOUR ANSWER:\n",
    "\n",
    "2.  What resources did you find supported your learning most and least for this lesson?  (Be honest - I use your input to shape the course.)\n",
    "\n",
    "YOUR ANSWER:"
   ]
  },
  {
   "cell_type": "markdown",
   "metadata": {},
   "source": []
  }
 ],
 "metadata": {
  "accelerator": "GPU",
  "colab": {
   "gpuType": "T4",
   "provenance": [
    {
     "file_id": "1-HQWPweMIqAYecMoaiEwveKgKWaENYwo",
     "timestamp": 1707429755677
    }
   ]
  },
  "kernelspec": {
   "display_name": "Python (ds776_env)",
   "language": "python",
   "name": "ds776_env"
  },
  "language_info": {
   "codemirror_mode": {
    "name": "ipython",
    "version": 3
   },
   "file_extension": ".py",
   "mimetype": "text/x-python",
   "name": "python",
   "nbconvert_exporter": "python",
   "pygments_lexer": "ipython3",
   "version": "3.10.18"
  }
 },
 "nbformat": 4,
 "nbformat_minor": 4
}
