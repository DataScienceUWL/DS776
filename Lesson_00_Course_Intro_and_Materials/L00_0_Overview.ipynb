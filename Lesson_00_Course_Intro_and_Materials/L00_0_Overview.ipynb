{
 "cells": [
  {
   "cell_type": "markdown",
   "metadata": {},
   "source": [
    "# Deep Learning Course Syllabus\n",
    "\n",
    "## Course Outcomes:\n",
    "1. **Understand Core Neural Network Architectures**: Describe and differentiate key neural network architectures, including convolutional neural networks (CNNs) and transformers, and their applications in computer vision and NLP.\n",
    "2. **Develop and Train Models in PyTorch**: Use PyTorch to build, train, and fine-tune neural network models for both computer vision and NLP tasks.\n",
    "3. **Apply Deep Learning to Computer Vision**: Implement CNNs and advanced architectures for computer vision applications, such as object detection, image classification, and segmentation.\n",
    "4. **Implement Transformer-Based Models for NLP**: Utilize transformer models to perform NLP tasks such as text classification, named entity recognition, text generation, and summarization.\n",
    "5. **Leverage the Hugging Face Ecosystem for NLP**: Use Hugging Face’s models and tools to explore, fine-tune, and experiment with transformer-based NLP models.\n",
    "6. **Evaluate and Optimize Model Performance**: Assess model performance for both computer vision and NLP applications, using appropriate metrics to interpret results and improve accuracy.\n",
    "\n",
    "## Textbooks and Other Resources\n",
    "\n",
    "### Required Books\n",
    "- [\"Inside Deep Learning: Math, Algorithms, Models\" by Edward Raff](https://www.amazon.com/Inside-Deep-Learning-Algorithms-Models/dp/1617298638/ref=sr_1_1?crid=32FZFJXN81JCC&dib=eyJ2IjoiMSJ9.pVb-gd6L20N_JNl6QLReqW_Ru_I-npjeZRSDzDujZg8qkJUpi9vRQ11tK-Jgv8lJ_9lJ1BDFVrq5KsdvYr5tTp3P4Hynb4DU_dMAgDRBpaU.ZXz9Dxm_mU9LEpRx8Jzgjul9xWXc51ZWqoDiGCQh-gg&dib_tag=se&keywords=inside+deep+learning+math%2C+algorithms%2C+models&qid=1729870668&sprefix=inside+deep+lea%2Caps%2C137&sr=8-1)\n",
    "- [\"Natural Language Processing with Transformers, Revised Edition\" by Tunstall, et al](https://www.amazon.com/Natural-Language-Processing-Transformers-Revised/dp/1098136799/ref=sr_1_1?crid=3CVB0BRZHS7GI&dib=eyJ2IjoiMSJ9.n87OC6jhL6N-C2KDf_e-0bXcjttnGT8821PDe5oHt6z9QpOBt1y-wdQTqxUx94wbrYfbvOcm14q2FYDNw9bD0oGmvMbTLDE8v4P0Zb0WAp08rxbUkdsp0uVxm55I-M4Z3Vk85S2-F0nzD07rym-NJKNx6BcIMyZNkUn6WoL7AJ9HGN8Wr_iOxRbgyu1lSgCj3IbiFEYQaH36C4bo0GDjMBvdttOga5FQxOUvKyDSSCc.QEAnSA-iAS3aC3D2zzqjB8j9f98PPvlrJS5EHlhjcmU&dib_tag=se&keywords=natural+language+processing+with+transformers&qid=1729870809&sprefix=natural+langua%2Caps%2C136&sr=8-1)\n",
    "\n",
    "###  Free Online Books\n",
    "- [Dive Into Deep Learning](https://d2l.ai/)  Shows how to code in multiple frameworks, but you'll need to use their packages to get things up and running.  \n",
    "- [Understanding Deep Learning](https://udlbook.github.io/udlbook/)  Explains a lot of the mathematical details about various deep learning models.  Great diagrams, but not light reading.\n",
    "- [Deep Learning](https://www.deeplearningbook.org/)  From MIT.  Good book for the first half of the class.\n",
    "\n",
    "### Other Resources:\n",
    "- **Documentation:**\n",
    "    - **Hugging Face Documentation:** [Hugging Face Transformers](https://huggingface.co/transformers/)\n",
    "    - **PyTorch Documentation:** [PyTorch](https://pytorch.org/docs/stable/index.html)\n",
    "- **Tutorials:**\n",
    "    - **PyTorch Tutorials:** The [official PyTorch tutorials](https://pytorch.org/tutorials/) are quite good.\n",
    "\n",
    "\n",
    "- **Classes:**\n",
    "    - [Math for Machine Learning and Data Science](https://www.coursera.org/specializations/mathematics-for-machine-learning-and-data-science?) Coursera three course specialization: linear algebra, calculus, and probability and statistics.  This 3-month specialization is highly recommended for a deeper dive.\n",
    "    - **Introduction to Deep Learning from MIT**  [Free public course](http://introtodeeplearning.com/) updated annually.  The beginning lecture is very accessible.\n",
    "    - **Neural Networks and Deep Learning.** Andrew Ng is a big name in AI and I love listening to him.  This [playlist](https://www.youtube.com/playlist?list=PLkDaE6sCZn6Ec-XTbcX1uRg2_u4xOEky0) is all the videos from the first course of his Deep Learning Specialization on Coursera.  This is a really great resource for a deep learning introduction.\n",
    "\n",
    "- **Effective AI Use:**\n",
    "    * [OpenAI’s Guide on Prompt Engineering](https://platform.openai.com/docs/guides/completion) This guide provides strategies for crafting prompts to achieve the best results when interacting with LLMs, explaining concepts like clarity, specificity, and context.\n",
    "    Hugging Face’s Prompting Techniques Blog Post:\n",
    "    * [Hugging Face’s blog post](https://platform.openai.com/docs/guides/completion) covers prompt design for various NLP tasks, with examples on how different prompt structures affect model outputs.\n",
    "    * [DeepLearning.AI’s \"ChatGPT Prompt Engineering for Developers\" (Free Course)](https://www.deeplearning.ai/short-courses/chatgpt-prompt-engineering-for-developers/) This short course, created in partnership with OpenAI, introduces prompt engineering techniques for using ChatGPT effectively. It includes practical exercises on structuring prompts and handling more complex queries. Available here.\n",
    "    * [Using Github Copilot in Visual Studio Code](https://docs.github.com/en/copilot/getting-started-with-github-copilot/getting-started-with-github-copilot-in-visual-studio-code) This official guide from GitHub provides detailed instructions on setting up and using GitHub Copilot in VS Code. Copilot is a powerful AI-driven code completion tool that suggests context-aware code snippets as you type.\n",
    "    * [Sourcegraph's Cody Extension for VS Code](https://sourcegraph.com/cody)  An extension for VS Code that let's you choose which large language model to use.  Some reviews suggest using Claude 3.5 Sonnet works better than OpenAI's models (which powers Github Copilot).  The [Sourcegraph blog] is a good source for updates and case studies using Cody.\n"
   ]
  }
 ],
 "metadata": {
  "language_info": {
   "name": "python"
  }
 },
 "nbformat": 4,
 "nbformat_minor": 2
}
