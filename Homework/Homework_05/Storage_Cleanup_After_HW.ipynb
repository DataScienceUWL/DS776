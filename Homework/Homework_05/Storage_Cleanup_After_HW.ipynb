{
 "cells": [
  {
   "cell_type": "markdown",
   "metadata": {},
   "source": "# Storage Cleanup for Homework\n\nThis notebook helps you manage storage used by previous lessons and homework assignments.\n\n## What This Notebook Does:\n\n1. **Storage Report** - Shows detailed storage usage for:\n   - `~/home_workspace/data/`, `~/home_workspace/downloads/`, `~/home_workspace/models/`\n   - `~/cs_workspace/data/`, `~/cs_workspace/downloads/`, `~/cs_workspace/models/` (compute server only)\n   - `~/.cache/huggingface/` (HuggingFace Hub cached models and datasets)\n   - All `Lesson_XX_Models` folders (Lessons 1 through current)\n   - All `Homework_XX_Models` folders (Homework 1 through previous)\n\n2. **Clear Storage** - Removes contents of those specific folders to free up space\n\n## Important Notes:\n\n✅ **Safe to Delete**: All files analyzed here can be:\n- **Data & Downloads**: Re-downloaded automatically when needed\n- **Model Checkpoints**: Retrained from scratch or found in CoCalc backups\n- **HuggingFace Cache**: Re-downloaded automatically when models are used\n\n💾 **Before Deleting**: If you want to keep your trained models:\n- Use CoCalc's file browser to zip model folders\n- Download the zip files to your local machine\n- CoCalc's backup system also maintains copies\n\n⚠️ **Protected Files**: This notebook will NOT touch:\n- `home_workspace/api_keys.env` (your API keys are safe!)\n- Any other files in the root of home_workspace or cs_workspace\n- Current homework models (detected automatically)\n- Future homework/lesson models (detected automatically)\n- Your homework assignment notebooks\n\n**Only these specific subfolders are cleared:**\n- `home_workspace/data/`, `home_workspace/downloads/`, `home_workspace/models/` ← Only subfolders\n- `cs_workspace/data/`, `cs_workspace/downloads/`, `cs_workspace/models/` ← Only subfolders\n- `~/.cache/huggingface/` ← Only subfolders/files (HuggingFace cache)\n- Lesson/Homework model folders (complete folders)\n\n---"
  },
  {
   "cell_type": "code",
   "execution_count": null,
   "metadata": {},
   "outputs": [],
   "source": [
    "# Import storage utilities from introdl\n",
    "from introdl.storage import (\n",
    "    get_homework_storage_report,\n",
    "    clear_homework_storage,\n",
    "    format_size\n",
    ")"
   ]
  },
  {
   "cell_type": "markdown",
   "metadata": {},
   "source": "## 1. Comprehensive Storage Report\n\nThis cell analyzes storage usage across all previous lessons and homework, plus workspace folders.\n\n⏱️ **Note**: Running this cell may take 1-2 minutes as it searches through all folders in the course directory to calculate sizes."
  },
  {
   "cell_type": "code",
   "execution_count": null,
   "metadata": {},
   "outputs": [],
   "source": "# Get storage report (auto-detects current homework number)\nstorage_items, total_storage, current_hw = get_homework_storage_report()\n\nprint(\"=\" * 70)\nprint(f\"📊 DS776 STORAGE REPORT - Homework {current_hw:02d}\")\nprint(\"=\" * 70)\n\nif len(storage_items) == 0:\n    print(\"\\n✨ No storage to analyze - everything is already clean!\")\nelse:\n    print(f\"\\n📁 Found {len(storage_items)} folders using storage:\\n\")\n\n    # Group by type for better organization\n    workspace_items = []\n    lesson_items = []\n    homework_items = []\n    hf_cache_items = []\n\n    for folder_path, size in storage_items:\n        if 'huggingface' in str(folder_path) and '.cache' in str(folder_path):\n            hf_cache_items.append((folder_path, size))\n        elif 'workspace' in str(folder_path):\n            workspace_items.append((folder_path, size))\n        elif 'Lesson' in folder_path.name:\n            lesson_items.append((folder_path, size))\n        elif 'Homework' in folder_path.name:\n            homework_items.append((folder_path, size))\n\n    # Display workspace folders\n    if workspace_items:\n        print(\"📦 WORKSPACE FOLDERS\")\n        print(\"-\" * 70)\n        for folder_path, size in workspace_items:\n            # Show relative path from workspace\n            if 'home_workspace' in str(folder_path):\n                display_path = f\"home_workspace/{folder_path.name}\"\n            else:\n                display_path = f\"cs_workspace/{folder_path.name}\"\n            print(f\"  • {display_path:30s} {format_size(size):>12s}\")\n\n    # Display HuggingFace cache\n    if hf_cache_items:\n        print(\"\\n🤗 HUGGINGFACE CACHE\")\n        print(\"-\" * 70)\n        for folder_path, size in hf_cache_items:\n            print(f\"  • ~/.cache/huggingface        {format_size(size):>12s}\")\n            print(\"    (Cached models and datasets from HuggingFace Hub)\")\n\n    # Display lesson models\n    if lesson_items:\n        print(f\"\\n📚 LESSON MODELS (Lessons 1-{current_hw})\")\n        print(\"-\" * 70)\n        for folder_path, size in lesson_items:\n            print(f\"  • {folder_path.name:30s} {format_size(size):>12s}\")\n\n    # Display homework models\n    if homework_items:\n        print(f\"\\n📝 HOMEWORK MODELS (Homework 1-{current_hw-1})\")\n        print(\"-\" * 70)\n        for folder_path, size in homework_items:\n            print(f\"  • {folder_path.name:30s} {format_size(size):>12s}\")\n\n    # Summary\n    print(\"\\n\" + \"=\" * 70)\n    print(f\"📊 TOTAL STORAGE ANALYZED: {format_size(total_storage)}\")\n    print(f\"📁 Total folders: {len(storage_items)}\")\n    print(\"=\" * 70)\n\n    print(\"\\n💡 This storage can be safely cleared:\")\n    print(\"   • Data/downloads will re-download automatically when needed\")\n    print(\"   • Model checkpoints can be retrained or recovered from CoCalc backups\")\n    print(\"   • HuggingFace models will re-download automatically when needed\")\n    print(\"   • You can zip and download folders first if you want to keep them\")"
  },
  {
   "cell_type": "markdown",
   "metadata": {},
   "source": "## 2. Clear Storage\n\nThis cell removes the contents of all analyzed folders to free up space.\n\n### What Gets Deleted:\n- Contents of `home_workspace/data/`, `home_workspace/downloads/`, `home_workspace/models/` ← Only files inside\n- Contents of `cs_workspace/data/`, `cs_workspace/downloads/`, `cs_workspace/models/` ← Only files inside (compute server)\n- Contents of `~/.cache/huggingface/` ← HuggingFace Hub cache (re-downloads automatically)\n- All Lesson_XX_Models folders ← Entire folders deleted\n- All Homework_XX_Models folders (previous homework only) ← Entire folders deleted\n- YOLO `*.pt` files in Homework_06 (if running from HW 7+)\n\n### What's Protected:\n- ✅ `home_workspace/api_keys.env` - NOT touched\n- ✅ Other files in root of home_workspace - NOT touched\n- ✅ Current homework models - NOT touched\n- ✅ Your homework notebooks and code - NOT affected\n- ✅ All deleted files can be recreated or re-downloaded\n- ✅ CoCalc backups maintain copies of your trained models\n\n**Run this cell to clear storage:**"
  },
  {
   "cell_type": "code",
   "execution_count": null,
   "metadata": {},
   "outputs": [],
   "source": [
    "# Clear storage (use dry_run=True to preview first)\n",
    "results = clear_homework_storage(storage_items, dry_run=False)\n",
    "\n",
    "print(f\"\\n✅ Cleanup complete!\")\n",
    "print(f\"💾 Freed {format_size(results['cleared_size'])}\")\n",
    "print(f\"📁 Cleared {results['cleared_count']} folders\")\n",
    "\n",
    "if results['failed_count'] > 0:\n",
    "    print(f\"⚠️ Failed to clear {results['failed_count']} folders\")"
   ]
  },
  {
   "cell_type": "markdown",
   "metadata": {},
   "source": [
    "## 3. Verify Storage Cleared\n",
    "\n",
    "Run this cell to verify that storage has been successfully cleared:"
   ]
  },
  {
   "cell_type": "code",
   "execution_count": null,
   "metadata": {},
   "outputs": [],
   "source": [
    "# Re-run storage analysis to verify\n",
    "storage_items_after, total_storage_after, _ = get_homework_storage_report()\n",
    "\n",
    "print(\"=\" * 70)\n",
    "print(\"📊 VERIFICATION - Storage After Cleanup\")\n",
    "print(\"=\" * 70)\n",
    "\n",
    "if total_storage_after == 0:\n",
    "    print(\"\\n✨ SUCCESS! All analyzed folders are now empty.\")\n",
    "    print(f\"💾 Total storage freed: {format_size(total_storage)}\")\n",
    "else:\n",
    "    print(f\"\\n⚠️ Some storage remains: {format_size(total_storage_after)}\")\n",
    "    print(\"\\nRemaining items:\")\n",
    "    for folder_path, size in storage_items_after:\n",
    "        if size > 0:\n",
    "            print(f\"  • {folder_path.name}: {format_size(size)}\")\n",
    "\n",
    "print(\"\\n\" + \"=\" * 70)"
   ]
  },
  {
   "cell_type": "markdown",
   "metadata": {},
   "source": "---\n\n## Summary\n\nThis notebook helps you manage storage by:\n\n1. **Analyzing** storage usage across:\n   - Workspace subfolders: `data/`, `downloads/`, `models/`\n   - HuggingFace cache: `~/.cache/huggingface/`\n   - Previous lesson models (auto-detected)\n   - Previous homework models (auto-detected)\n\n2. **Clearing** contents of those specific folders in one step\n\n3. **Verifying** that storage was successfully cleared\n\n### Safety Notes:\n\n✅ **Everything can be recovered:**\n- Data and downloads re-download automatically\n- HuggingFace models re-download automatically when needed\n- Model checkpoints can be retrained\n- CoCalc backups maintain copies\n\n✅ **Protected files:**\n- `home_workspace/api_keys.env` is NOT touched\n- Other files in root of workspaces are NOT touched\n- Only specific subfolders are cleared\n\n💾 **To keep your models:**\n- Zip model folders in CoCalc file browser\n- Download zip files to local machine\n- Access CoCalc backups if needed\n\n⚠️ **Not affected:**\n- Current homework models (auto-detected)\n- Future homework/lesson models (auto-detected)\n- Your homework notebooks and code"
  }
 ],
 "metadata": {
  "kernelspec": {
   "display_name": "Python 3",
   "language": "python",
   "name": "python3"
  },
  "language_info": {
   "codemirror_mode": {
    "name": "ipython",
    "version": 3
   },
   "file_extension": ".py",
   "mimetype": "text/x-python",
   "name": "python",
   "nbconvert_exporter": "python",
   "pygments_lexer": "ipython3",
   "version": "3.8.0"
  }
 },
 "nbformat": 4,
 "nbformat_minor": 4
}