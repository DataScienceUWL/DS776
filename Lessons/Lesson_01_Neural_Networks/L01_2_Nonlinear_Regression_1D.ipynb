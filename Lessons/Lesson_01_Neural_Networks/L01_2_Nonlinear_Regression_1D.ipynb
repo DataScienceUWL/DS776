{
 "cells": [
  {
   "cell_type": "code",
   "execution_count": 1,
   "metadata": {},
   "outputs": [
    {
     "name": "stdout",
     "output_type": "stream",
     "text": [
      "🔍 DS776 introdl Auto-Check\n",
      "==========================\n",
      "📦 Source version: 1.4.3\n",
      "✅ Installed version: 1.4.3\n",
      "ℹ️ Location: /home/jbaggett/miniconda3/envs/ds776_env/lib/python3.10/site-packages/introdl/__init__.py\n",
      "✅ Version 1.4.3 is current - no update needed\n",
      "\n",
      "🔧 Quick health check...\n",
      "✅ introdl.utils imports correctly\n",
      "✅ API keys file exists\n",
      "ℹ️ Detected local git repository\n",
      "⚠️ Newer version (1.4.1) available on GitHub!\n",
      "ℹ️ To update: git pull origin main\n",
      "\n",
      "✅ All checks complete - ready to proceed!\n",
      "======================================\n"
     ]
    }
   ],
   "source": [
    "# DS776 Auto-Update (runs in ~2 seconds, only updates when needed)\n",
    "# If this cell fails, see Lessons/Course_Tools/AUTO_UPDATE_SYSTEM.md for help\n",
    "%run ../Course_Tools/auto_update_introdl.py"
   ]
  },
  {
   "cell_type": "markdown",
   "metadata": {},
   "source": [
    "### Introdl Course Tools Package\n",
    "\n",
    "We make extensive use of our custom package called `introdl` in this class. Some of the code is from the first textbook for the class (though much of that has been modified) while much of it was written just for this class. You're welcome to use it after the class if you find it helpful.\n",
    "\n",
    "The auto-update cell above automatically ensures the `introdl` package is installed and up-to-date. If you see any import errors in the cells below, try restarting your kernel and running this notebook again.\n",
    "\n",
    "If you continue to have trouble, you can run the full setup process by opening `Lessons/Course_Tools/Course_Setup.ipynb`, or ask on Piazza for help."
   ]
  },
  {
   "cell_type": "code",
   "execution_count": 2,
   "id": "8d43fa",
   "metadata": {
    "collapsed": false,
    "execution": {
     "iopub.execute_input": "2025-08-26T00:09:40.631496Z",
     "iopub.status.busy": "2025-08-26T00:09:40.631326Z",
     "iopub.status.idle": "2025-08-26T00:09:45.061423Z",
     "shell.execute_reply": "2025-08-26T00:09:45.060579Z"
    },
    "slideshow": {
     "slide_type": "skip"
    },
    "tags": [
     "hide-input"
    ]
   },
   "outputs": [
    {
     "name": "stdout",
     "output_type": "stream",
     "text": [
      "✅ Environment: Unknown Environment | Course root: /mnt/e/GDrive_baggett.jeff/Teaching/Classes_current/2025-2026_Fall_DS776/DS776\n",
      "   Using workspace: <DS776_ROOT_DIR>/home_workspace\n",
      "\n",
      "📂 Storage Configuration:\n",
      "   DATA_PATH: <DS776_ROOT_DIR>/home_workspace/data\n",
      "   MODELS_PATH: <DS776_ROOT_DIR>/Lessons/Lesson_01_Neural_Networks/Lesson_01_Models (local to this notebook)\n",
      "   CACHE_PATH: <DS776_ROOT_DIR>/home_workspace/downloads\n",
      "📦 introdl v1.4.3 ready\n",
      "\n"
     ]
    }
   ],
   "source": [
    "# imports and configuration\n",
    "\n",
    "import seaborn as sns\n",
    "import matplotlib.pyplot as plt\n",
    "import pandas as pd\n",
    "\n",
    "import torch\n",
    "import torch.nn as nn\n",
    "import torch.nn.functional as F\n",
    "from torch.utils.data import TensorDataset, DataLoader\n",
    "\n",
    "from torchinfo import summary\n",
    "from sklearn.metrics import mean_absolute_error\n",
    "\n",
    "from introdl.utils import get_device, load_results, load_model, config_paths_keys\n",
    "from introdl.idlmam import train_simple_network\n",
    "from introdl.visul import plot_training_metrics\n",
    "\n",
    "sns.set_theme(style='whitegrid')\n",
    "plt.rcParams['figure.figsize'] = [8, 6]  # Set the default figure size (width, height) in inches\n",
    "\n",
    "paths = config_paths_keys()\n",
    "MODELS_PATH = paths['MODELS_PATH']\n",
    "DATA_PATH = paths['DATA_PATH']\n"
   ]
  },
  {
   "cell_type": "markdown",
   "id": "c2f413",
   "metadata": {
    "collapsed": false,
    "slideshow": {
     "slide_type": "slide"
    }
   },
   "source": [
    "# Nonlinear Regression Example"
   ]
  },
  {
   "cell_type": "markdown",
   "id": "b03a7b",
   "metadata": {
    "collapsed": false,
    "slideshow": {
     "slide_type": "subslide"
    }
   },
   "source": [
    "## Curve Fitting Activity\n",
    "\n",
    "The folks at Carnegie Mellon University maintain a version of the Neural Network Playground for one-dimensional curve fitting and classification problems. \n",
    "\n",
    "You should open this <a href=\"https://www.cs.cmu.edu/~pvirtue/tfp/#activation=tanh&batchSize=10&dataset=circle&regDataset=reg-saw&learningRate=0.03&regularizationRate=0&noise=50&networkShape=4&seed=0.50727&showTestData=false&discretize=false&percTrainData=50&x=true&collectStats=false&problem=regression&initZero=false&hideText=false\" target=\"_blank\">pre-configured version</a> and tinker with the app to answer the the following questions about using a neural network to fit the one-dimensional \"M\" curve. To play with the app, you should focus mostly on changing the structure of the network.  You can train the network by pressing the \"play\" button.\n",
    "\n",
    "1. Does a network with a single hidden layer with 4 neurons reliably fit the curve?  Reliably means that it nearly always converges to the correct curve when the network is retrained.  Small networks will often get stuck in local minima that don't fit the data well.\n",
    "2. Try two hidden layers.  Is it reliable now?  How many neurons do you need?  Does it converge more quickly if the layers are larger?\n",
    "3. By adding more neurons and layers can you better predict the \"M\" shape and make training more reliable?\n",
    "4. Try reducing the \"Ratio of training to test data\" to 10%.  Now fit a complex network to the data.  What do you notice about the curve?  Is it getting the general pattern or is memorizing the wiggles in the small training set?\n",
    "\n",
    "<details> \n",
    "<summary>AFTER TRYING ON YOUR OWN CLICK HERE TO REVEAL OUR ANSWERS.</summary>\n",
    "\n",
    "1. This small network will have trouble fitting the curve.  This small network can fit the \"M\"-curve quite well, but the training will usually get stuck in a way that the network misses one or both peaks.\n",
    "2. With 6 neurons and 2 neurons, the network will sometimes fit the M well.  With 6 and 6 it seems to nearly always fit the curve well, though it might be a little slow to converge.  With 8 and 8 it seems to always fit well and converge quickly.\n",
    "3. Increasing the number of hidden layers and neurons even further doesn't seem to help much.  The fit isn't any better and the rate of convergence is the same.\n",
    "4. We tried 4 hidden layers with eight neurons each.  The network seems to be trying to fit the wiggles in the data instead of the overall \"M\"-shaped pattern.\n",
    "\n",
    "</details>"
   ]
  },
  {
   "cell_type": "markdown",
   "id": "ca4c3e",
   "metadata": {
    "collapsed": false
   },
   "source": [
    "## A Note on Splitting the Data\n",
    "\n",
    "In the first couple of lessons we're going to use only a **train-test splits** which is fine for quick prototyping or if you're using cross-validation on the training set. If the dataset is small to begin with, then using a **train-validation-test** split  may not be possible because there simply isn't have enough data.  Cross-validation is used in some research papers, but it is rare in real-world deep learning workflows because training models is resource and time intensive.\n",
    "\n",
    "If you have a large dataset you should nearly always use a **train-validation-test** split.  Most of the time in deep learning we need to adjust hyperparameters, like the learning rate and batch size, and we want to try various model architectures and optimizers. If all of these variations are done to the test set then we risk overfitting on that set with no means to assess the performance of our final deep learning pipeline on unseen data.\n",
    "\n",
    "With a **train-validation-test** split the setup is:\n",
    "  - The **training set** is used to train the model.\n",
    "  - The **validation set** is used to tune hyperparameters, select models, and monitor for overfitting.\n",
    "  - The **test set** is used to evaluate final model performance and should only be used **once**, after model selection and tuning, to assess generalization to unseen data.\n",
    "\n",
    "Validation sets are critical for:\n",
    "\n",
    "- **Hyperparameter optimization**: Avoiding overfitting on the test set.\n",
    "- **Model comparison**: Selecting the best-performing model based on validation metrics.\n",
    "- **Early stopping**: Using validation loss to decide when to stop training.\n",
    "\n",
    "If you use only a test set for hyperparameter tuning and model selection, you risk overfitting to the test data, making the test results less meaningful. Using a validation set ensures the test set remains untouched for final performance evaluation.\n",
    "\n",
    "We'll introduce train-validation-test splits in Lesson 3."
   ]
  },
  {
   "cell_type": "markdown",
   "metadata": {},
   "source": [
    "## Our First Model in PyTorch\n",
    "\n",
    "Now we'll follow the steps below to implement and train a similar model in PyTorch.  Based on our experiments in the activity above we'll use a fully-connected neural network with two hidden layers each containing eight neurons.\n",
    "\n",
    "1. Prepare the Data\n",
    "\n",
    "2. Configure the Model\n",
    "\n",
    "3. Train the Model\n",
    "\n",
    "4. Evaluate the Model\n",
    "\n",
    "5. Make Predictions\n",
    "\n",
    "Those five steps are common to any machine learning workflow.  Often we'll repeat some of those steps, particularly Step 2-4, multiple times until we're satisfied with the results."
   ]
  },
  {
   "cell_type": "markdown",
   "id": "1cf37c",
   "metadata": {
    "collapsed": false
   },
   "source": [
    "### Step 1 - Prepare the Data\n",
    "\n",
    "#### L01_2_prepare_the_data Video\n",
    "\n",
    "Here is a video walkthrough for this step.\n",
    "\n",
    "<iframe \n",
    "    src=\"https://media.uwex.edu/content/ds/ds776/ds776_l01_2_prepare_the_data/\" \n",
    "    width=\"800\" \n",
    "    height=\"450\" \n",
    "    style=\"border: 5px solid cyan;\"  \n",
    "    allowfullscreen>\n",
    "</iframe>\n",
    "<br>\n",
    "<a href=\"https://media.uwex.edu/content/ds/ds776/ds776_l01_2_prepare_the_data/\" target=\"_blank\">Open UWEX version of video in new tab</a>\n",
    "<br>\n",
    "<a href=\"https://share.descript.com/view/6mXJjH6NFJ8\" target=\"_blank\">Open Descript version of video in new tab</a>\n",
    "\n",
    "<hr>\n",
    "\n",
    "For this example we'll first create synthetic data then we'll use PyTorch Datasets and DataLoaders to get in the form we'll use for  model training."
   ]
  },
  {
   "cell_type": "markdown",
   "id": "04302d",
   "metadata": {
    "collapsed": false
   },
   "source": [
    "#### Create Synthetic Data\n",
    "\n",
    "We'll generate two sets of 400 points each for training and testing.  You can dig through the code below if you want details about how we're generating the data, but in short:\n",
    "* Generate a bunch of $x$-values.  We're using a uniform distribution to generate these.\n",
    "* Each $y$-value is computed by applying a formula $f(x)$ and adding normally distributed random noise.\n",
    "\n",
    "At the end of this we want our neural network to be a reasonable approximation to $f(x)$.  Note that normally distributed random noise has mean 0 and standard deviation of 0.5.  This means that most of the $y$-values are within $\\pm 0.5$ of the underlying true $y$-values.  We'll recall this fact later when we try to assess the quality of our trained model."
   ]
  },
  {
   "cell_type": "code",
   "execution_count": 3,
   "id": "c0b925",
   "metadata": {
    "collapsed": false,
    "execution": {
     "iopub.execute_input": "2025-08-26T00:09:45.087099Z",
     "iopub.status.busy": "2025-08-26T00:09:45.086828Z",
     "iopub.status.idle": "2025-08-26T00:09:45.207372Z",
     "shell.execute_reply": "2025-08-26T00:09:45.206524Z"
    }
   },
   "outputs": [
    {
     "data": {
      "image/png": "[encoded data removed]",
      "text/plain": [
       "<Figure size 800x600 with 1 Axes>"
      ]
     },
     "metadata": {},
     "output_type": "display_data"
    }
   ],
   "source": [
    "torch.manual_seed(42); # make results reproducible\n",
    "\n",
    "def MCurve(x):\n",
    "    \"\"\"\n",
    "    The \"M\" curve function.\n",
    "\n",
    "    Parameters:\n",
    "    - x (torch.Tensor): The input values.\n",
    "\n",
    "    Returns:\n",
    "    - y (torch.Tensor): The output values.\n",
    "    \"\"\"\n",
    "    return 3 * F.relu(x + 6) - 6 * F.relu(x + 4) + 6 * F.relu(x) - 6 * F.relu(x - 4)  # f(x) is an \"M\" curve\n",
    "\n",
    "def makeMCurveData(num_samples, std_dev=0.5):\n",
    "    \"\"\"\n",
    "    Generate synthetic data for the \"M\" curve.\n",
    "\n",
    "    Parameters:\n",
    "    - num_samples (int): The number of data points to generate.\n",
    "    - std_dev (float): The standard deviation of the noise added to the data.\n",
    "\n",
    "    Returns:\n",
    "    - x (torch.Tensor): The input values.\n",
    "    - y (torch.Tensor): The output values with added noise.\n",
    "    \"\"\"\n",
    "    x = torch.rand(num_samples) * 12 - 6\n",
    "    y = MCurve(x)\n",
    "    noise = std_dev * torch.randn(num_samples)  # normally distributed noise\n",
    "    return x, y + noise\n",
    "\n",
    "n = 1000\n",
    "x_train, y_train = makeMCurveData(n) # roughly the same as in NN Playground\n",
    "x_test, y_test = makeMCurveData(n) \n",
    "\n",
    "x_grid = torch.linspace(-6,6,201)\n",
    "y_true = MCurve(x_grid)\n",
    "\n",
    "sns.scatterplot(x = x_train, y = y_train, s = 10, legend = False, color='lightsteelblue');\n",
    "sns.lineplot(x=x_grid, y=y_true, color='orange')\n",
    "plt.xlabel('x')\n",
    "plt.ylabel('y')\n",
    "plt.show()"
   ]
  },
  {
   "cell_type": "markdown",
   "metadata": {},
   "source": [
    "Think of the orange \"M-curve\" as the ground truth that we are trying to estimate from noisy data."
   ]
  },
  {
   "cell_type": "markdown",
   "id": "158d38",
   "metadata": {
    "collapsed": false,
    "slideshow": {
     "slide_type": "subslide"
    }
   },
   "source": [
    "### Create Pytorch Datasets\n",
    "\n",
    "First we need to adjust the shapes of our data tensors"
   ]
  },
  {
   "cell_type": "code",
   "execution_count": 4,
   "id": "fb111a",
   "metadata": {
    "collapsed": false,
    "execution": {
     "iopub.execute_input": "2025-08-26T00:09:45.209428Z",
     "iopub.status.busy": "2025-08-26T00:09:45.209224Z",
     "iopub.status.idle": "2025-08-26T00:09:45.212870Z",
     "shell.execute_reply": "2025-08-26T00:09:45.212183Z"
    }
   },
   "outputs": [
    {
     "name": "stdout",
     "output_type": "stream",
     "text": [
      "torch.Size([1000])\n",
      "torch.Size([1000])\n"
     ]
    }
   ],
   "source": [
    "print(x_train.shape)\n",
    "print(y_train.shape)"
   ]
  },
  {
   "cell_type": "markdown",
   "id": "50247d",
   "metadata": {
    "collapsed": false
   },
   "source": [
    "Pytorch models can process multiple inputs simultaneously but we'll need to make our inputs into a nested tensor to do that."
   ]
  },
  {
   "cell_type": "markdown",
   "id": "b21b98",
   "metadata": {
    "collapsed": false,
    "slideshow": {
     "slide_type": "subslide"
    }
   },
   "source": [
    "#### Reshape\n",
    "\n",
    "We want our input tensor to have shape `[batch_size, num_features]` or `[1000,1]` in this case.\n",
    "\n",
    "Here's an example to show how `reshape` can be used:"
   ]
  },
  {
   "cell_type": "code",
   "execution_count": 5,
   "id": "71ff31",
   "metadata": {
    "collapsed": false,
    "execution": {
     "iopub.execute_input": "2025-08-26T00:09:45.215281Z",
     "iopub.status.busy": "2025-08-26T00:09:45.214768Z",
     "iopub.status.idle": "2025-08-26T00:09:45.223797Z",
     "shell.execute_reply": "2025-08-26T00:09:45.222786Z"
    }
   },
   "outputs": [
    {
     "name": "stdout",
     "output_type": "stream",
     "text": [
      "1D tensor\n",
      "tensor([1, 2, 3, 4])\n",
      "torch.Size([4])\n",
      "\n",
      "2D tensor\n",
      "tensor([[1],\n",
      "        [2],\n",
      "        [3],\n",
      "        [4]])\n",
      "torch.Size([4, 1])\n"
     ]
    }
   ],
   "source": [
    "x = torch.tensor([1,2,3,4])\n",
    "print('1D tensor')\n",
    "print(x)\n",
    "print(x.shape)\n",
    "\n",
    "print('\\n2D tensor')\n",
    "x2 = x.reshape(-1,1) # make [N,1] shape where N is the number of elements in x\n",
    "print(x2)\n",
    "print(x2.shape)"
   ]
  },
  {
   "cell_type": "markdown",
   "id": "37ad40",
   "metadata": {
    "collapsed": false,
    "slideshow": {
     "slide_type": "subslide"
    }
   },
   "source": [
    "#### The training and testing Datasets\n",
    "\n",
    "In PyTorch, a `Dataset` is an abstract class that serves as a blueprint for accessing and processing data.\n",
    "\n",
    "`TensorDataset` is a special `Dataset` class that is useful for small datasets that fit easily in memory in Pytorch tensors."
   ]
  },
  {
   "cell_type": "code",
   "execution_count": 6,
   "id": "741b90",
   "metadata": {
    "collapsed": false,
    "execution": {
     "iopub.execute_input": "2025-08-26T00:09:45.226062Z",
     "iopub.status.busy": "2025-08-26T00:09:45.225846Z",
     "iopub.status.idle": "2025-08-26T00:09:45.229738Z",
     "shell.execute_reply": "2025-08-26T00:09:45.228916Z"
    }
   },
   "outputs": [],
   "source": [
    "train_dataset = TensorDataset(x_train.reshape(-1,1), \n",
    "                              y_train.reshape(-1,1))\n",
    "test_dataset = TensorDataset(x_test.reshape(-1,1), \n",
    "                             y_test.reshape(-1,1))"
   ]
  },
  {
   "cell_type": "markdown",
   "id": "e67937",
   "metadata": {
    "collapsed": false
   },
   "source": [
    "#### The DataLoaders\n",
    "\n",
    "In PyTorch, a `DataLoader` wraps a `Dataset` to manage batching, shuffling, and parallel data loading, making data feeding efficient during model training and evaluation.\n",
    "\n",
    "Shuffling the training data is important because it helps to prevent the model from learning patterns specific to the order of the data, leading to better generalization."
   ]
  },
  {
   "cell_type": "code",
   "execution_count": 7,
   "id": "d0f06b",
   "metadata": {
    "collapsed": false,
    "execution": {
     "iopub.execute_input": "2025-08-26T00:09:45.231586Z",
     "iopub.status.busy": "2025-08-26T00:09:45.231398Z",
     "iopub.status.idle": "2025-08-26T00:09:45.234983Z",
     "shell.execute_reply": "2025-08-26T00:09:45.234209Z"
    }
   },
   "outputs": [],
   "source": [
    "batch_size = 50 # we set this the same as in Neural Network playground\n",
    "train_loader = DataLoader(train_dataset, \n",
    "                          batch_size = batch_size, \n",
    "                          shuffle=True)\n",
    "test_loader = DataLoader(test_dataset, \n",
    "                         batch_size = batch_size, \n",
    "                         shuffle=False)"
   ]
  },
  {
   "cell_type": "markdown",
   "id": "febf95",
   "metadata": {
    "collapsed": false
   },
   "source": [
    "####  A sample batch\n",
    "It's a good idea to inspect a batch of the data to see if it's what you expect.  \n",
    "\n",
    "It's also good to note the shape of a batch because we'll use that to shape to make sure our PyTorch neural network model is behaving as expected."
   ]
  },
  {
   "cell_type": "code",
   "execution_count": 8,
   "id": "754622",
   "metadata": {
    "collapsed": false,
    "execution": {
     "iopub.execute_input": "2025-08-26T00:09:45.237160Z",
     "iopub.status.busy": "2025-08-26T00:09:45.236992Z",
     "iopub.status.idle": "2025-08-26T00:09:45.243277Z",
     "shell.execute_reply": "2025-08-26T00:09:45.242534Z"
    }
   },
   "outputs": [
    {
     "name": "stdout",
     "output_type": "stream",
     "text": [
      "tensor([[3.3201],\n",
      "        [4.6919],\n",
      "        [2.6617],\n",
      "        [2.4562],\n",
      "        [0.1799]]) \n",
      "\n",
      "torch.Size([50, 1]) \n",
      "\n",
      "tensor([[ 3.6703],\n",
      "        [ 3.7641],\n",
      "        [ 1.3313],\n",
      "        [ 1.3150],\n",
      "        [-5.4604]])\n"
     ]
    }
   ],
   "source": [
    "xb, yb = next(iter(train_loader))\n",
    "print(xb[:5],'\\n')\n",
    "print(xb.shape,'\\n')\n",
    "print(yb[:5])"
   ]
  },
  {
   "cell_type": "markdown",
   "id": "1a4156",
   "metadata": {
    "collapsed": false
   },
   "source": [
    "### Step 2 - Configure the Model\n",
    "\n",
    "#### L01_2_configure_the_model Video\n",
    "\n",
    "Here is a video walkthrough for Step 2:\n",
    "\n",
    "<iframe \n",
    "    src=\"https://media.uwex.edu/content/ds/ds776/ds776_l01_2_configure_the_model/\" \n",
    "    width=\"800\" \n",
    "    height=\"450\" \n",
    "    style=\"border: 5px solid cyan;\"  \n",
    "    allowfullscreen>\n",
    "</iframe>\n",
    "<br>\n",
    "<a href=\"https://media.uwex.edu/content/ds/ds776/ds776_l01_2_configure_the_model/\" target=\"_blank\">Open UWEX version of video in new tab</a>\n",
    "<br>\n",
    "<a href=\"https://share.descript.com/view/ylXSAeD5IaA\" target=\"_blank\">Open Descript version of video in new tab</a>\n",
    "\n",
    "* 2 hidden layers with 8 neurons each\n",
    "* hyperbolic tangent activation functions\n",
    "* use `torch.nn.Sequential` for simple networks"
   ]
  },
  {
   "cell_type": "code",
   "execution_count": 9,
   "id": "892d43",
   "metadata": {
    "collapsed": false,
    "execution": {
     "iopub.execute_input": "2025-08-26T00:09:45.244868Z",
     "iopub.status.busy": "2025-08-26T00:09:45.244704Z",
     "iopub.status.idle": "2025-08-26T00:09:45.249054Z",
     "shell.execute_reply": "2025-08-26T00:09:45.248157Z"
    }
   },
   "outputs": [],
   "source": [
    "model = nn.Sequential(\n",
    "    nn.Linear(1, 8),   # First hidden layer (input: 1, output: 8)\n",
    "    nn.Tanh(),         # Tanh activation function\n",
    "    nn.Linear(8, 8),   # Second hidden layer (input: 8, output: 8)\n",
    "    nn.Tanh(),         # Tanh activation function\n",
    "    nn.Linear(8, 1)    # Output layer (input: 8, output: 1)\n",
    "    )"
   ]
  },
  {
   "cell_type": "markdown",
   "id": "0699a8",
   "metadata": {
    "collapsed": false,
    "slideshow": {
     "slide_type": "subslide"
    }
   },
   "source": [
    "#### Define the model as a class\n",
    "\n",
    "While the're nothing wrong with using the `Sequential` class to define simple models, it does have a couple of disadvantages.\n",
    "\n",
    "First, if you need to make a new instance of the model you'll have to copy the code.  Second, more complex models will require us to define the models directly as classes that inherit from the `nn.Module` class.  We'll start doing that right away so you get used to it.\n",
    "\n",
    "If you're unfamiliar with Object-Oriented Programming in Python I recommend this [Real Python Tutorial](https://realpython.com/python3-object-oriented-programming/).  Written and video versions are available."
   ]
  },
  {
   "cell_type": "code",
   "execution_count": 10,
   "id": "a13cc0",
   "metadata": {
    "collapsed": false,
    "execution": {
     "iopub.execute_input": "2025-08-26T00:09:45.251059Z",
     "iopub.status.busy": "2025-08-26T00:09:45.250840Z",
     "iopub.status.idle": "2025-08-26T00:09:45.257507Z",
     "shell.execute_reply": "2025-08-26T00:09:45.256678Z"
    }
   },
   "outputs": [
    {
     "data": {
      "text/plain": [
       "CurveFitter(\n",
       "  (model): Sequential(\n",
       "    (0): Linear(in_features=1, out_features=8, bias=True)\n",
       "    (1): Tanh()\n",
       "    (2): Linear(in_features=8, out_features=8, bias=True)\n",
       "    (3): Tanh()\n",
       "    (4): Linear(in_features=8, out_features=1, bias=True)\n",
       "  )\n",
       ")"
      ]
     },
     "execution_count": 10,
     "metadata": {},
     "output_type": "execute_result"
    }
   ],
   "source": [
    "class CurveFitter(nn.Module):\n",
    "    # The __init__ method in a PyTorch model, often called the constructor, \n",
    "    # is used to initialize the model's layers and any other parameters or \n",
    "    # components needed for the model. This method is called when an instance \n",
    "    # of the model is created.  All the layers that involve model parameters \n",
    "    # must be declared here.  The activation functions can be put here \n",
    "    # or in the forward method as we'll see later.\n",
    "    #\n",
    "    # The super() function is used to call the constructor of the parent class.\n",
    "    def __init__(self):\n",
    "        super(CurveFitter, self).__init__()\n",
    "        self.model = nn.Sequential(\n",
    "            nn.Linear(1, 8),   # First hidden layer (input: 1, output: 8)\n",
    "            nn.Tanh(),         # Tanh activation function\n",
    "            nn.Linear(8, 8),   # Second hidden layer (input: 8, output: 8)\n",
    "            nn.Tanh(),         # Tanh activation function\n",
    "            nn.Linear(8, 1)    # Output layer (input: 8, output: 1)\n",
    "        )\n",
    "\n",
    "    # The forward method defines the forward pass of the model.  \n",
    "    # It's called every time we execute the model on input data.\n",
    "    def forward(self, x):\n",
    "        return self.model(x)\n",
    "\n",
    "model = CurveFitter()\n",
    "model"
   ]
  },
  {
   "cell_type": "markdown",
   "id": "d229ee",
   "metadata": {
    "collapsed": false,
    "slideshow": {
     "slide_type": "subslide"
    }
   },
   "source": [
    "#### Summarizing a model\n",
    "\n",
    "When you're building PyTorch models or even applying existing models to new data, the number one source of errors is mismatched tensor shapes.  `torchinfo.summary` is great for seeing how the batch of input data changes shape as it moves through the network.  If there is an issue with mismatched sizes, you'll get an error message that shows you the last layer that was able to be executed which is super helpful in diagnosing shape errors."
   ]
  },
  {
   "cell_type": "code",
   "execution_count": 11,
   "id": "b47701",
   "metadata": {
    "collapsed": false,
    "execution": {
     "iopub.execute_input": "2025-08-26T00:09:45.259723Z",
     "iopub.status.busy": "2025-08-26T00:09:45.259534Z",
     "iopub.status.idle": "2025-08-26T00:09:45.898495Z",
     "shell.execute_reply": "2025-08-26T00:09:45.897708Z"
    }
   },
   "outputs": [
    {
     "data": {
      "text/plain": [
       "========================================================================================\n",
       "Layer (type:depth-idx)                   Input Shape      Output Shape     Param #\n",
       "========================================================================================\n",
       "CurveFitter                              [40, 1]          [40, 1]          --\n",
       "├─Sequential: 1-1                        [40, 1]          [40, 1]          --\n",
       "│    └─Linear: 2-1                       [40, 1]          [40, 8]          16\n",
       "│    └─Tanh: 2-2                         [40, 8]          [40, 8]          --\n",
       "│    └─Linear: 2-3                       [40, 8]          [40, 8]          72\n",
       "│    └─Tanh: 2-4                         [40, 8]          [40, 8]          --\n",
       "│    └─Linear: 2-5                       [40, 8]          [40, 1]          9\n",
       "========================================================================================\n",
       "Total params: 97\n",
       "Trainable params: 97\n",
       "Non-trainable params: 0\n",
       "Total mult-adds (M): 0.00\n",
       "========================================================================================\n",
       "Input size (MB): 0.00\n",
       "Forward/backward pass size (MB): 0.01\n",
       "Params size (MB): 0.00\n",
       "Estimated Total Size (MB): 0.01\n",
       "========================================================================================"
      ]
     },
     "execution_count": 11,
     "metadata": {},
     "output_type": "execute_result"
    }
   ],
   "source": [
    "summary(model, input_size = (40,1), col_width=16,\n",
    "        col_names = [\"input_size\",\"output_size\",\"num_params\"])"
   ]
  },
  {
   "cell_type": "markdown",
   "id": "bf8142",
   "metadata": {
    "collapsed": false,
    "slideshow": {
     "slide_type": "subslide"
    }
   },
   "source": [
    "### Step 3 - Train the model\n",
    "\n",
    "#### L01_2_train_the_model Video\n",
    "\n",
    "Here is a video walkthrough for Step 3:\n",
    "\n",
    "<iframe \n",
    "    src=\"https://media.uwex.edu/content/ds/ds776/ds776_l01_2_train_the_model/\" \n",
    "    width=\"800\" \n",
    "    height=\"450\" \n",
    "    style=\"border: 5px solid cyan;\"  \n",
    "    allowfullscreen>\n",
    "</iframe>\n",
    "<br>\n",
    "<a href=\"https://media.uwex.edu/content/ds/ds776/ds776_l01_2_train_the_model/\" target=\"_blank\">Open UWEX version of video in new tab</a>\n",
    "<br>\n",
    "<a href=\"https://share.descript.com/view/P5XcxjuNC2u\" target=\"_blank\">Open Descript version of video in new tab</a>\n",
    "\n",
    "\n",
    "To setup training:\n",
    "\n",
    "* choose loss function\n",
    "* choose metric(s) if desired\n",
    "* set device to cpu or gpu if available\n",
    "* determine a name for saved model file"
   ]
  },
  {
   "cell_type": "code",
   "execution_count": 12,
   "id": "cd32b4",
   "metadata": {
    "collapsed": false,
    "execution": {
     "iopub.execute_input": "2025-08-26T00:09:45.901013Z",
     "iopub.status.busy": "2025-08-26T00:09:45.900826Z",
     "iopub.status.idle": "2025-08-26T00:09:45.905037Z",
     "shell.execute_reply": "2025-08-26T00:09:45.904237Z"
    }
   },
   "outputs": [
    {
     "name": "stdout",
     "output_type": "stream",
     "text": [
      "Using device: cuda\n"
     ]
    }
   ],
   "source": [
    "# Mean Square Error Loss\n",
    "loss_func = nn.MSELoss()\n",
    "\n",
    "# Mean Absolute Error metric for monitoring\n",
    "score_funcs = {'MAE':mean_absolute_error}\n",
    "\n",
    "# determine device to run the model on\n",
    "device = get_device() # from course package\n",
    "print(f\"Using device: {device}\")\n",
    "\n",
    "# checkpoint filename for saving model\n",
    "ckpt_file = MODELS_PATH / 'L01_MCurveData_CurveFitter.pt'"
   ]
  },
  {
   "cell_type": "markdown",
   "id": "649f08",
   "metadata": {
    "collapsed": false
   },
   "source": [
    "Notes:\n",
    "\n",
    "* It isn't required to choose a separate metric that is different from the loss function, but we often want to do so.  In this case Mean absolute error gives a better sense of the average vertical deviation of the fitted curve and a data point while the mean squared error loss can be harder to interpret.\n",
    "\n",
    "* Note, I'm either training on a gaming PC with an Nvidia GPU or a Macbook Pro, so you'll see that my device is either 'cuda' or 'mps'.  In CoCalc and other platforms you'll either use a 'cpu' or 'cuda' if a GPU is available.   We use the get_device function from the course Python package to see what device is available.\n"
   ]
  },
  {
   "cell_type": "markdown",
   "id": "d836ad",
   "metadata": {
    "collapsed": false,
    "slideshow": {
     "slide_type": "subslide"
    }
   },
   "source": [
    "#### Setting the device\n",
    "\n",
    "Just so you can see how it works, here is the code for the 'get_device' function.  We put it in the package so it would be easy to change later if other hardware gets PyTorch support."
   ]
  },
  {
   "cell_type": "code",
   "execution_count": 13,
   "id": "ce3eb6",
   "metadata": {
    "collapsed": false,
    "execution": {
     "iopub.execute_input": "2025-08-26T00:09:45.906702Z",
     "iopub.status.busy": "2025-08-26T00:09:45.906526Z",
     "iopub.status.idle": "2025-08-26T00:09:45.910620Z",
     "shell.execute_reply": "2025-08-26T00:09:45.909639Z"
    }
   },
   "outputs": [],
   "source": [
    "def get_device():\n",
    "    \"\"\"\n",
    "    Returns the appropriate device ('cuda', 'mps', or 'cpu') depending on availability.\n",
    "    \"\"\"\n",
    "    if torch.cuda.is_available():\n",
    "        return torch.device('cuda')\n",
    "    elif torch.backends.mps.is_available():\n",
    "        return torch.device('mps')\n",
    "    else:\n",
    "        return torch.device('cpu')"
   ]
  },
  {
   "cell_type": "markdown",
   "id": "f226f4",
   "metadata": {
    "collapsed": false
   },
   "source": [
    "### Do the training\n",
    "\n",
    "Initially, we'll make use of `train_simple_network` from the textbook.  Use the version from the course package (imported at the top of the notebook) since we've added a couple of tweaks.  Here's the function signature so you can read about the inputs:"
   ]
  },
  {
   "cell_type": "code",
   "execution_count": 14,
   "metadata": {
    "execution": {
     "iopub.execute_input": "2025-08-26T00:09:45.912838Z",
     "iopub.status.busy": "2025-08-26T00:09:45.912639Z",
     "iopub.status.idle": "2025-08-26T00:09:45.940517Z",
     "shell.execute_reply": "2025-08-26T00:09:45.939682Z"
    }
   },
   "outputs": [
    {
     "name": "stdout",
     "output_type": "stream",
     "text": [
      "\u001b[0;31mSignature:\u001b[0m\n",
      "\u001b[0mtrain_simple_network\u001b[0m\u001b[0;34m(\u001b[0m\u001b[0;34m\u001b[0m\n",
      "\u001b[0;34m\u001b[0m    \u001b[0mmodel\u001b[0m\u001b[0;34m,\u001b[0m\u001b[0;34m\u001b[0m\n",
      "\u001b[0;34m\u001b[0m    \u001b[0mloss_func\u001b[0m\u001b[0;34m,\u001b[0m\u001b[0;34m\u001b[0m\n",
      "\u001b[0;34m\u001b[0m    \u001b[0mtrain_loader\u001b[0m\u001b[0;34m,\u001b[0m\u001b[0;34m\u001b[0m\n",
      "\u001b[0;34m\u001b[0m    \u001b[0mtest_loader\u001b[0m\u001b[0;34m=\u001b[0m\u001b[0;32mNone\u001b[0m\u001b[0;34m,\u001b[0m\u001b[0;34m\u001b[0m\n",
      "\u001b[0;34m\u001b[0m    \u001b[0mscore_funcs\u001b[0m\u001b[0;34m=\u001b[0m\u001b[0;32mNone\u001b[0m\u001b[0;34m,\u001b[0m\u001b[0;34m\u001b[0m\n",
      "\u001b[0;34m\u001b[0m    \u001b[0mepochs\u001b[0m\u001b[0;34m=\u001b[0m\u001b[0;36m50\u001b[0m\u001b[0;34m,\u001b[0m\u001b[0;34m\u001b[0m\n",
      "\u001b[0;34m\u001b[0m    \u001b[0mdevice\u001b[0m\u001b[0;34m=\u001b[0m\u001b[0;34m'cpu'\u001b[0m\u001b[0;34m,\u001b[0m\u001b[0;34m\u001b[0m\n",
      "\u001b[0;34m\u001b[0m    \u001b[0mcheckpoint_file\u001b[0m\u001b[0;34m=\u001b[0m\u001b[0;32mNone\u001b[0m\u001b[0;34m,\u001b[0m\u001b[0;34m\u001b[0m\n",
      "\u001b[0;34m\u001b[0m    \u001b[0mlr\u001b[0m\u001b[0;34m=\u001b[0m\u001b[0;36m0.001\u001b[0m\u001b[0;34m,\u001b[0m\u001b[0;34m\u001b[0m\n",
      "\u001b[0;34m\u001b[0m    \u001b[0muse_tqdm\u001b[0m\u001b[0;34m=\u001b[0m\u001b[0;32mTrue\u001b[0m\u001b[0;34m,\u001b[0m\u001b[0;34m\u001b[0m\n",
      "\u001b[0;34m\u001b[0m\u001b[0;34m)\u001b[0m\u001b[0;34m\u001b[0m\u001b[0;34m\u001b[0m\u001b[0m\n",
      "\u001b[0;31mDocstring:\u001b[0m\n",
      "Trains a simple neural network model using the specified loss function and data loaders.\n",
      "\n",
      "Args:\n",
      "    model (torch.nn.Module): The neural network model to train.\n",
      "    loss_func (torch.nn.Module): The loss function to optimize during training.\n",
      "    train_loader (torch.utils.data.DataLoader): The data loader for the training dataset.\n",
      "    test_loader (torch.utils.data.DataLoader, optional): The data loader for the testing dataset. Defaults to None.\n",
      "    score_funcs (list, optional): List of evaluation score functions to track during training. Defaults to None.\n",
      "    epochs (int, optional): The number of training epochs. Defaults to 50.\n",
      "    device (str, optional): The device to use for training (e.g., \"cpu\" or \"cuda\"). Defaults to \"cpu\".\n",
      "    checkpoint_file (str, optional): The file path to save the model checkpoint. Defaults to None.\n",
      "    lr (float, optional): The learning rate for the optimizer. Defaults to 0.001.\n",
      "    use_tqdm (bool, optional): Whether to display a progress bar during training. Defaults to True.\n",
      "\n",
      "Returns:\n",
      "    pandas.DataFrame: A DataFrame containing the training and test results for each epoch.\n",
      "\n",
      "Pseudo-code:\n",
      "    # Initialize optimizer\n",
      "    optimizer = torch.optim.SGD(model.parameters(), lr=lr)\n",
      "    \n",
      "    # For each epoch:\n",
      "    for epoch in range(epochs):\n",
      "        # Set model to training mode\n",
      "        model.train()\n",
      "        # Train on train_loader, compute train loss and any other metrics in score_funcs\n",
      "        \n",
      "        if test_loader:\n",
      "            # Set model to evaluation mode\n",
      "            model.eval()\n",
      "            # Evaluate on test_loader, compute test loss and metrics in score_funcs\n",
      "        \n",
      "        # (Optional) Save checkpoint if checkpoint_file is specified\n",
      "        \n",
      "    # Return a DataFrame with results from each epoch\n",
      "\n",
      "Example checkpoint logic:\n",
      "    if checkpoint_file is specified:\n",
      "        Save model state, optimizer state, and training results to the checkpoint file after each epoch.\n",
      "\u001b[0;31mFile:\u001b[0m      ~/miniconda3/envs/ds776_env/lib/python3.10/site-packages/introdl/idlmam.py\n",
      "\u001b[0;31mType:\u001b[0m      function"
     ]
    }
   ],
   "source": [
    "?train_simple_network"
   ]
  },
  {
   "cell_type": "markdown",
   "metadata": {},
   "source": [
    "\n",
    "In our experiments with Neural Network playground we saw that a learning rate of 0.03 worked well and that the training converged in 200-300 epochs.  We'll run for 600 epochs here just to be sure we're converged.  We're also using a larger batch size (50) than in the playground to expedite training.  \n",
    "\n",
    "Note - the training sometimes yields a model that isn't a great fit to the data because the optimization gets stuck in a poor-quality local minimum.  You can rerun the code to see if does better or you can load a model from our checkpoint file.  Later in the course we'll see how to use better optimizers that are less likely to get stuck."
   ]
  },
  {
   "cell_type": "code",
   "execution_count": 15,
   "id": "be2671",
   "metadata": {
    "collapsed": false,
    "execution": {
     "iopub.execute_input": "2025-08-26T00:09:45.942666Z",
     "iopub.status.busy": "2025-08-26T00:09:45.942470Z",
     "iopub.status.idle": "2025-08-26T00:10:28.476139Z",
     "shell.execute_reply": "2025-08-26T00:10:28.474749Z"
    },
    "scrolled": true
   },
   "outputs": [
    {
     "data": {
      "application/vnd.jupyter.widget-view+json": {
       "model_id": "0e1e482770d64746a9400cb54c7325cb",
       "version_major": 2,
       "version_minor": 0
      },
      "text/plain": [
       "Epoch:   0%|          | 0/600 [00:00<?, ?it/s]"
      ]
     },
     "metadata": {},
     "output_type": "display_data"
    }
   ],
   "source": [
    "model = CurveFitter() # instantiate a newly initialized model\n",
    "\n",
    "results_df = train_simple_network(model, \n",
    "                                  loss_func, \n",
    "                                  train_loader, \n",
    "                                  device=device, \n",
    "                                  epochs = 600, \n",
    "                                  lr = 0.03, \n",
    "                                  checkpoint_file=ckpt_file, \n",
    "                                  test_loader=test_loader,\n",
    "                                  score_funcs = score_funcs,\n",
    "                                  use_tqdm=True)"
   ]
  },
  {
   "cell_type": "markdown",
   "id": "e27e28",
   "metadata": {
    "collapsed": false,
    "slideshow": {
     "slide_type": "subslide"
    }
   },
   "source": [
    "### Step 4 - Evaluate the Model\n",
    "\n",
    "#### L01_2_evaluate_the_model Video\n",
    "\n",
    "Here is a video walkthrough for Step 4:\n",
    "\n",
    "<iframe \n",
    "    src=\"https://media.uwex.edu/content/ds/ds776/ds776_l01_2_evaluate_the_model/\" \n",
    "    width=\"800\" \n",
    "    height=\"450\" \n",
    "    style=\"border: 5px solid cyan;\"  \n",
    "    allowfullscreen>\n",
    "</iframe>\n",
    "<br>\n",
    "<a href=\"https://media.uwex.edu/content/ds/ds776/ds776_l01_2_evaluate_the_model/\" target=\"_blank\">Open UWEX version of video in new tab</a>\n",
    "<br>\n",
    "<a href=\"https://share.descript.com/view/e6HmrPxo2oR\" target=\"_blank\">Open Descript version of video in new tab</a>\n",
    "\n",
    "\n",
    "\n",
    "To evaluate the model we are usually interested in a couple of things.\n",
    "1. How well does the model perform on data that the model wasn't trained on?  \n",
    "2. Is the model underfitting or overfitting?  \n",
    "\n",
    "In the world of deep learning rarely is underfitting an issue, but overfitting will be common so we'll keep an eye out for it.\n",
    "\n",
    "Since we're training the model once as a quick prototype we'll just use the test dataset from our train-test split.  By inspecting loss and other metrics on both the train and test set we can assess both the model performance and whether it is overfitting.\n",
    "\n",
    "#### Inspect convergence loss and metrics\n",
    "\n",
    "We could simply refer to `results_df` here to see the loss and metrics, but we'll show how to load it from the checkpoint file.  That's really useful so you don't have to retrain the model just to review the results.  A little later we'll introduce a `load_results` function to simplify loading results from a checkpoint file."
   ]
  },
  {
   "cell_type": "code",
   "execution_count": 16,
   "id": "cfe339",
   "metadata": {
    "collapsed": false,
    "execution": {
     "iopub.execute_input": "2025-08-26T00:10:28.478527Z",
     "iopub.status.busy": "2025-08-26T00:10:28.478304Z",
     "iopub.status.idle": "2025-08-26T00:10:28.500169Z",
     "shell.execute_reply": "2025-08-26T00:10:28.499152Z"
    }
   },
   "outputs": [
    {
     "data": {
      "text/html": [
       "<div>\n",
       "<style scoped>\n",
       "    .dataframe tbody tr th:only-of-type {\n",
       "        vertical-align: middle;\n",
       "    }\n",
       "\n",
       "    .dataframe tbody tr th {\n",
       "        vertical-align: top;\n",
       "    }\n",
       "\n",
       "    .dataframe thead th {\n",
       "        text-align: right;\n",
       "    }\n",
       "</style>\n",
       "<table border=\"1\" class=\"dataframe\">\n",
       "  <thead>\n",
       "    <tr style=\"text-align: right;\">\n",
       "      <th></th>\n",
       "      <th>epoch</th>\n",
       "      <th>total time</th>\n",
       "      <th>train loss</th>\n",
       "      <th>test loss</th>\n",
       "      <th>train MAE</th>\n",
       "      <th>test MAE</th>\n",
       "    </tr>\n",
       "  </thead>\n",
       "  <tbody>\n",
       "    <tr>\n",
       "      <th>0</th>\n",
       "      <td>0</td>\n",
       "      <td>0.286943</td>\n",
       "      <td>10.075071</td>\n",
       "      <td>11.398497</td>\n",
       "      <td>2.696844</td>\n",
       "      <td>2.832345</td>\n",
       "    </tr>\n",
       "    <tr>\n",
       "      <th>1</th>\n",
       "      <td>1</td>\n",
       "      <td>0.334086</td>\n",
       "      <td>8.776958</td>\n",
       "      <td>8.898204</td>\n",
       "      <td>2.477073</td>\n",
       "      <td>2.491768</td>\n",
       "    </tr>\n",
       "    <tr>\n",
       "      <th>2</th>\n",
       "      <td>2</td>\n",
       "      <td>0.381554</td>\n",
       "      <td>5.315487</td>\n",
       "      <td>4.205360</td>\n",
       "      <td>1.902550</td>\n",
       "      <td>1.730464</td>\n",
       "    </tr>\n",
       "    <tr>\n",
       "      <th>3</th>\n",
       "      <td>3</td>\n",
       "      <td>0.427826</td>\n",
       "      <td>2.506785</td>\n",
       "      <td>2.075022</td>\n",
       "      <td>1.250840</td>\n",
       "      <td>1.131597</td>\n",
       "    </tr>\n",
       "    <tr>\n",
       "      <th>4</th>\n",
       "      <td>4</td>\n",
       "      <td>0.476743</td>\n",
       "      <td>1.907846</td>\n",
       "      <td>1.886008</td>\n",
       "      <td>1.061727</td>\n",
       "      <td>1.068246</td>\n",
       "    </tr>\n",
       "    <tr>\n",
       "      <th>...</th>\n",
       "      <td>...</td>\n",
       "      <td>...</td>\n",
       "      <td>...</td>\n",
       "      <td>...</td>\n",
       "      <td>...</td>\n",
       "      <td>...</td>\n",
       "    </tr>\n",
       "    <tr>\n",
       "      <th>595</th>\n",
       "      <td>595</td>\n",
       "      <td>358.570762</td>\n",
       "      <td>0.895907</td>\n",
       "      <td>0.944089</td>\n",
       "      <td>0.665131</td>\n",
       "      <td>0.670176</td>\n",
       "    </tr>\n",
       "    <tr>\n",
       "      <th>596</th>\n",
       "      <td>596</td>\n",
       "      <td>358.617553</td>\n",
       "      <td>0.894483</td>\n",
       "      <td>0.964544</td>\n",
       "      <td>0.661275</td>\n",
       "      <td>0.677930</td>\n",
       "    </tr>\n",
       "    <tr>\n",
       "      <th>597</th>\n",
       "      <td>597</td>\n",
       "      <td>358.663710</td>\n",
       "      <td>0.910657</td>\n",
       "      <td>0.965470</td>\n",
       "      <td>0.670650</td>\n",
       "      <td>0.690251</td>\n",
       "    </tr>\n",
       "    <tr>\n",
       "      <th>598</th>\n",
       "      <td>598</td>\n",
       "      <td>358.710514</td>\n",
       "      <td>0.888025</td>\n",
       "      <td>0.945309</td>\n",
       "      <td>0.654585</td>\n",
       "      <td>0.677879</td>\n",
       "    </tr>\n",
       "    <tr>\n",
       "      <th>599</th>\n",
       "      <td>599</td>\n",
       "      <td>358.756950</td>\n",
       "      <td>0.906054</td>\n",
       "      <td>0.953105</td>\n",
       "      <td>0.667987</td>\n",
       "      <td>0.675515</td>\n",
       "    </tr>\n",
       "  </tbody>\n",
       "</table>\n",
       "<p>600 rows × 6 columns</p>\n",
       "</div>"
      ],
      "text/plain": [
       "     epoch  total time  train loss  test loss  train MAE  test MAE\n",
       "0        0    0.286943   10.075071  11.398497   2.696844  2.832345\n",
       "1        1    0.334086    8.776958   8.898204   2.477073  2.491768\n",
       "2        2    0.381554    5.315487   4.205360   1.902550  1.730464\n",
       "3        3    0.427826    2.506785   2.075022   1.250840  1.131597\n",
       "4        4    0.476743    1.907846   1.886008   1.061727  1.068246\n",
       "..     ...         ...         ...        ...        ...       ...\n",
       "595    595  358.570762    0.895907   0.944089   0.665131  0.670176\n",
       "596    596  358.617553    0.894483   0.964544   0.661275  0.677930\n",
       "597    597  358.663710    0.910657   0.965470   0.670650  0.690251\n",
       "598    598  358.710514    0.888025   0.945309   0.654585  0.677879\n",
       "599    599  358.756950    0.906054   0.953105   0.667987  0.675515\n",
       "\n",
       "[600 rows x 6 columns]"
      ]
     },
     "execution_count": 16,
     "metadata": {},
     "output_type": "execute_result"
    }
   ],
   "source": [
    "ckpt_file = MODELS_PATH / 'L01_MCurveData_CurveFitter.pt' # load parameters from checkpoint\n",
    "checkpoint_dict = torch.load(ckpt_file, weights_only=False, map_location=torch.device('cpu')) \n",
    "results_df = pd.DataFrame(checkpoint_dict['results']) # convert results to DataFrame\n",
    "\n",
    "results_df"
   ]
  },
  {
   "cell_type": "markdown",
   "metadata": {},
   "source": [
    "It's hard to tell from the mean squared error if our model is doing a good job of fitting the data, but look at the mean absolute error.  It converges to a value around 0.5 for both the testing and training data.  This means that, on average, the predicted $y$_values are within $\\pm 0.5$ of target $y$-values.  Recall that the standard deviation of noise in the target $y$-values was 0.5.  Since the errors in predicting the target values are similar to the magnitude of the noise in the original target values, we can't really do any better than that!\n",
    "\n",
    "You can also see that both MSE and MAE are converging pretty similarly for both the test and training sets.  This is exactly what we'd like to see.  This means the model is neither underfitting or overfitting.\n",
    "\n",
    "(Truth in advertising - this particular model and training combination often gets stuck in a local minimum that doesn't fit the data as well as it could similar to what happens in Neural Network Playground.  These issues could be addressed by introducing a more complex model and improving the training.  We'll see more about improved training in Lesson 3.  This version of the model still serves as good introduction to a deep learning workflow in PyTorch.)"
   ]
  },
  {
   "cell_type": "markdown",
   "id": "2ec4a8",
   "metadata": {
    "collapsed": false,
    "slideshow": {
     "slide_type": "subslide"
    }
   },
   "source": [
    "### Inspect convergence graphically\n",
    "\n",
    "It's often more helpful to see the training metrics visually instead of looking at the raw values.\n",
    "\n",
    "In the next cell we show you how to plot the metrics using `seaborn.`"
   ]
  },
  {
   "cell_type": "code",
   "execution_count": 17,
   "id": "a58bae",
   "metadata": {
    "collapsed": false,
    "execution": {
     "iopub.execute_input": "2025-08-26T00:10:28.502193Z",
     "iopub.status.busy": "2025-08-26T00:10:28.501952Z",
     "iopub.status.idle": "2025-08-26T00:10:28.756034Z",
     "shell.execute_reply": "2025-08-26T00:10:28.755003Z"
    },
    "tags": [
     "hide-input"
    ]
   },
   "outputs": [
    {
     "data": {
      "image/png": "[encoded data removed]",
      "text/plain": [
       "<Figure size 1000x300 with 2 Axes>"
      ]
     },
     "metadata": {},
     "output_type": "display_data"
    }
   ],
   "source": [
    "fig, axes = plt.subplots(1, 2, figsize=(10,3) )\n",
    "\n",
    "sns.set_palette('colorblind')\n",
    "\n",
    "sns.lineplot(x='epoch',y='train loss',data=results_df,label='Train', ax=axes[0]);\n",
    "sns.lineplot(x='epoch',y='test loss',data=results_df,label='Test', ax=axes[0]);\n",
    "axes[0].set_ylabel('MSE')\n",
    "axes[0].set_title('MSE Loss vs Epoch');\n",
    "\n",
    "sns.lineplot(x='epoch',y='train MAE',data=results_df,label='Train', ax=axes[1]);\n",
    "sns.lineplot(x='epoch',y='test MAE',data=results_df,label='Test', ax=axes[1]);\n",
    "axes[1].set_ylabel('MAE')\n",
    "axes[1].set_title('MAE vs Epoch');\n"
   ]
  },
  {
   "cell_type": "markdown",
   "metadata": {},
   "source": [
    "Or you could use `plot_training_metrics` (an interactive version is also available `plot_training_metrics_widget`).  The `results_df` is probably still in memory, but we'll also show you how to `load_results` to get it here.  These functions are available in the course `introdl` package."
   ]
  },
  {
   "cell_type": "code",
   "execution_count": 18,
   "metadata": {
    "execution": {
     "iopub.execute_input": "2025-08-26T00:10:28.757927Z",
     "iopub.status.busy": "2025-08-26T00:10:28.757675Z",
     "iopub.status.idle": "2025-08-26T00:10:29.016567Z",
     "shell.execute_reply": "2025-08-26T00:10:29.015249Z"
    }
   },
   "outputs": [
    {
     "data": {
      "image/png": "[encoded data removed]",
      "text/plain": [
       "<Figure size 1000x400 with 2 Axes>"
      ]
     },
     "metadata": {},
     "output_type": "display_data"
    }
   ],
   "source": [
    "results_df = load_results(MODELS_PATH / 'L01_MCurveData_CurveFitter.pt') # load results from checkpoint and returns data frame\n",
    "\n",
    "plot_training_metrics(results_df,[['train loss', 'test loss'],['train MAE', 'test MAE']])"
   ]
  },
  {
   "cell_type": "markdown",
   "id": "c0e295",
   "metadata": {
    "collapsed": false
   },
   "source": [
    "#### Visualize the fit\n",
    "\n",
    "We can already see from the mean absolute error on the test data that our trained model is doing a good job, but for this curve-fitting problem it's relatively easy to visualize how well the trained network fits the data.  First we'll create a new instance of the model and overwrite its randomly initialized parameter values with the saved parameters from our checkpoint file."
   ]
  },
  {
   "cell_type": "code",
   "execution_count": 19,
   "id": "76162d",
   "metadata": {
    "collapsed": false,
    "execution": {
     "iopub.execute_input": "2025-08-26T00:10:29.019195Z",
     "iopub.status.busy": "2025-08-26T00:10:29.018959Z",
     "iopub.status.idle": "2025-08-26T00:10:29.034370Z",
     "shell.execute_reply": "2025-08-26T00:10:29.033496Z"
    }
   },
   "outputs": [],
   "source": [
    "model = CurveFitter() # new instance of model\n",
    "\n",
    "ckpt_file = MODELS_PATH / 'L01_MCurveData_CurveFitter.pt' # load parameters from checkpoint\n",
    "checkpoint_dict = torch.load(ckpt_file, weights_only=False, map_location=torch.device('cpu')) \n",
    "model.load_state_dict(checkpoint_dict['model_state_dict']); "
   ]
  },
  {
   "cell_type": "markdown",
   "metadata": {},
   "source": [
    "Loading models from checkpoint files is something we'll do often so to streamline this process we've provided a `load_model` function in the `introdl` package.  "
   ]
  },
  {
   "cell_type": "code",
   "execution_count": 20,
   "metadata": {
    "execution": {
     "iopub.execute_input": "2025-08-26T00:10:29.036412Z",
     "iopub.status.busy": "2025-08-26T00:10:29.036217Z",
     "iopub.status.idle": "2025-08-26T00:10:29.048787Z",
     "shell.execute_reply": "2025-08-26T00:10:29.048063Z"
    }
   },
   "outputs": [],
   "source": [
    "# you can either pass in the model instance or the class\n",
    "model = load_model(CurveFitter, MODELS_PATH / 'L01_MCurveData_CurveFitter.pt')\n",
    "\n",
    "# this would also work\n",
    "# model = CurveFitter() # create a new instance of the model\n",
    "# model = load_model(model, MODELS_PATH / 'L01_MCurveData_CurveFitter.pt')"
   ]
  },
  {
   "cell_type": "markdown",
   "metadata": {},
   "source": [
    "Now we evaluate the model on a sequence of equally spaced inputs for visualization.  We'll discuss the code below in the next section, when we discuss using a model to make predictions for new data, but here's the plot."
   ]
  },
  {
   "cell_type": "code",
   "execution_count": 21,
   "id": "cc733c",
   "metadata": {
    "collapsed": false,
    "execution": {
     "iopub.execute_input": "2025-08-26T00:10:29.050450Z",
     "iopub.status.busy": "2025-08-26T00:10:29.050274Z",
     "iopub.status.idle": "2025-08-26T00:10:29.215925Z",
     "shell.execute_reply": "2025-08-26T00:10:29.215040Z"
    },
    "tags": [
     "hide-input"
    ]
   },
   "outputs": [
    {
     "data": {
      "image/png": "[encoded data removed]",
      "text/plain": [
       "<Figure size 800x600 with 1 Axes>"
      ]
     },
     "metadata": {},
     "output_type": "display_data"
    }
   ],
   "source": [
    "x = torch.linspace(-6,6,201).reshape(-1,1) # add a batch dimension\n",
    "model.to(torch.device('cpu')) # move model to CPU if necessary\n",
    "with torch.no_grad():\n",
    "    y = model(x)\n",
    "y_true = MCurve(x)\n",
    "\n",
    "# Add the scatter plot for noisy y-values\n",
    "sns.scatterplot(x=x_test, y=y_test, s=10, color = \"lightsteelblue\") # blue\n",
    "sns.lineplot(x=x.squeeze(),y=y.squeeze(),color=\"#55A868\",label=\"Model\") # green\n",
    "sns.lineplot(x=x.squeeze(),y=y_true.squeeze(),color=\"orange\",label=\"True\") # orange\n",
    "\n",
    "plt.xlabel('x')\n",
    "plt.ylabel('y');\n"
   ]
  },
  {
   "cell_type": "markdown",
   "metadata": {},
   "source": [
    "This model often gets stuck in the wrong local minimum so the fit may not be great.  In later lessons we'll study more effective training techniques that reduce the chance of getting stuck in poor local minima."
   ]
  },
  {
   "cell_type": "markdown",
   "metadata": {},
   "source": [
    "### Step 5 - Make Predictions\n",
    "\n",
    "#### L01_2_make_predictions Video\n",
    "\n",
    "Here is a video walkthrough for Step 5:\n",
    "\n",
    "<iframe \n",
    "    src=\"https://media.uwex.edu/content/ds/ds776/ds776_l01_2_make_the_predictions/\" \n",
    "    width=\"800\" \n",
    "    height=\"450\" \n",
    "    style=\"border: 5px solid cyan;\"  \n",
    "    allowfullscreen>\n",
    "</iframe>\n",
    "<br>\n",
    "<a href=\"https://media.uwex.edu/content/ds/ds776/ds776_l01_2_make_the_predictions/\" target=\"_blank\">Open UWEX version of video in new tab</a>\n",
    "<br>\n",
    "<a href=\"https://share.descript.com/view/P25g0EleiQH\" target=\"_blank\">Open Descript version of video in new tab</a>\n",
    "\n",
    "We just did this in the last code cell, but let's look at how we did it.  To use a trained model to make predictions using new inputs requires a bit of preparation.  There are a few things to do:\n",
    "\n",
    "1.  Prepare the new input data for the model.  This usually means converting to a tensor with the appropriate shape.\n",
    "2.  Load the model and put in evaluation mode so that PyTorch knows to not compute gradients.\n",
    "3.  Make the sure the model and data are on the same device.\n",
    "4.  If necessary, convert the raw model outputs into the predictions you want and convert those predictions into the data type or structure you need.\n",
    "\n",
    "Let's tackle this writing a function to do most of these steps.  You may need to build a similar function for your application or problem.  First decide what formats you want for the input and output data.  In this example we'll use PyTorch tensors, but you might want Numpy arrays, lists, or something else."
   ]
  },
  {
   "cell_type": "markdown",
   "metadata": {},
   "source": [
    "#### Make Predictions from PyTorch Tensors\n",
    "\n",
    "Here we're assuming that that $x$-values (the features) where you want to evaluate the model are in a PyTorch tensor with shape $[N,1]$.  Where $N$ is the number of $x$-values and the 1 is because each feature is a single number.  The data and model are likely to be on the 'cpu' already, but it doesn't hurt to make sure.  You may want to use a GPU if one is available for large models."
   ]
  },
  {
   "cell_type": "code",
   "execution_count": 22,
   "metadata": {
    "execution": {
     "iopub.execute_input": "2025-08-26T00:10:29.218290Z",
     "iopub.status.busy": "2025-08-26T00:10:29.218080Z",
     "iopub.status.idle": "2025-08-26T00:10:29.222272Z",
     "shell.execute_reply": "2025-08-26T00:10:29.221195Z"
    }
   },
   "outputs": [],
   "source": [
    "def predict1d(model, x, device=torch.device('cpu')):\n",
    "    \"\"\"\n",
    "    Predict the output of a model for input value(s).\n",
    "\n",
    "    Parameters:\n",
    "    - model (nn.Module): The PyTorch model.\n",
    "    - x (torch.Tensor): The input value(s). Must have a shape of (N,1).\n",
    "    - device (torch.device): The device to run the model on.\n",
    "\n",
    "    Returns:\n",
    "    - y (torch.Tensor): The model's output. Will have shape (N,1).\n",
    "    \"\"\"\n",
    "    model.to(device) # move model to device\n",
    "    model.eval() # set model to evaluation mode\n",
    "    x = x.to(device) # move input to device\n",
    "\n",
    "    with torch.no_grad():\n",
    "        y = model(x.float()) # make predictions for input value(s)\n",
    "    return y"
   ]
  },
  {
   "cell_type": "markdown",
   "metadata": {},
   "source": [
    "Now we'll make predictions for a few arbitrary points:"
   ]
  },
  {
   "cell_type": "code",
   "execution_count": 23,
   "metadata": {
    "execution": {
     "iopub.execute_input": "2025-08-26T00:10:29.224406Z",
     "iopub.status.busy": "2025-08-26T00:10:29.224128Z",
     "iopub.status.idle": "2025-08-26T00:10:29.231304Z",
     "shell.execute_reply": "2025-08-26T00:10:29.230373Z"
    }
   },
   "outputs": [
    {
     "data": {
      "text/plain": [
       "tensor([[-3.0853],\n",
       "        [ 0.0948],\n",
       "        [ 3.1030],\n",
       "        [ 3.3272]])"
      ]
     },
     "execution_count": 23,
     "metadata": {},
     "output_type": "execute_result"
    }
   ],
   "source": [
    "x = torch.tensor([1,2,3,4]).reshape(-1,1)\n",
    "y = predict1d(model,x)\n",
    "y"
   ]
  },
  {
   "cell_type": "markdown",
   "metadata": {},
   "source": [
    "#### Making Predictions from Numpy Arrays\n",
    "\n",
    "A more typical use case might be to make predictions for values in a Numpy array.  We'll make a new function that converts the numpy array to a PyTorch tensor, applies the model, then converts the output back to a Numpy array."
   ]
  },
  {
   "cell_type": "code",
   "execution_count": 24,
   "metadata": {
    "execution": {
     "iopub.execute_input": "2025-08-26T00:10:29.233444Z",
     "iopub.status.busy": "2025-08-26T00:10:29.233187Z",
     "iopub.status.idle": "2025-08-26T00:10:29.237086Z",
     "shell.execute_reply": "2025-08-26T00:10:29.236210Z"
    }
   },
   "outputs": [],
   "source": [
    "import numpy as np\n",
    "\n",
    "def predict1d_numpy(model, x, device=torch.device('cpu')):\n",
    "    \"\"\"\n",
    "    Predict the output of a model for input value(s).\n",
    "\n",
    "    Parameters:\n",
    "    - model (nn.Module): The PyTorch model.\n",
    "    - x (numpy.ndarray): The input value(s). Must have a shape of (N,).\n",
    "    - device (torch.device): The device to run the model on.\n",
    "\n",
    "    Returns:\n",
    "    - y (numpy.ndarray): The model's output. Will have shape (N,).\n",
    "    \"\"\"\n",
    "    x_tensor = torch.from_numpy(x).reshape(-1, 1)\n",
    "    y_tensor = predict1d(model, x_tensor, device)\n",
    "    y = np.squeeze(y_tensor.cpu().numpy()) # move to CPU and convert to numpy, squeeze removes dimensions of size 1\n",
    "    return y\n"
   ]
  },
  {
   "cell_type": "markdown",
   "metadata": {},
   "source": [
    "Now we can use our function to make predictions and plot the results."
   ]
  },
  {
   "cell_type": "code",
   "execution_count": 25,
   "metadata": {
    "execution": {
     "iopub.execute_input": "2025-08-26T00:10:29.239057Z",
     "iopub.status.busy": "2025-08-26T00:10:29.238885Z",
     "iopub.status.idle": "2025-08-26T00:10:29.338177Z",
     "shell.execute_reply": "2025-08-26T00:10:29.336956Z"
    }
   },
   "outputs": [
    {
     "data": {
      "text/plain": [
       "[<matplotlib.lines.Line2D at 0x7a91e8126560>]"
      ]
     },
     "execution_count": 25,
     "metadata": {},
     "output_type": "execute_result"
    },
    {
     "data": {
      "image/png": "[encoded data removed]",
      "text/plain": [
       "<Figure size 800x600 with 1 Axes>"
      ]
     },
     "metadata": {},
     "output_type": "display_data"
    }
   ],
   "source": [
    "x = np.linspace(-6,6,201)\n",
    "y = predict1d_numpy(model,x)\n",
    "plt.plot(x,y,label='Model')"
   ]
  }
 ],
 "metadata": {
  "kernelspec": {
   "display_name": "ds776_env",
   "language": "python",
   "name": "python3"
  },
  "language_info": {
   "codemirror_mode": {
    "name": "ipython",
    "version": 3
   },
   "file_extension": ".py",
   "mimetype": "text/x-python",
   "name": "python",
   "nbconvert_exporter": "python",
   "pygments_lexer": "ipython3",
   "version": "3.10.18"
  },
  "widgets": {
   "application/vnd.jupyter.widget-state+json": {
    "state": {
     "14230fec4b754c8e90a88bb8b6e20e10": {
      "model_module": "@jupyter-widgets/base",
      "model_module_version": "2.0.0",
      "model_name": "LayoutModel",
      "state": {
       "_model_module": "@jupyter-widgets/base",
       "_model_module_version": "2.0.0",
       "_model_name": "LayoutModel",
       "_view_count": null,
       "_view_module": "@jupyter-widgets/base",
       "_view_module_version": "2.0.0",
       "_view_name": "LayoutView",
       "align_content": null,
       "align_items": null,
       "align_self": null,
       "border_bottom": null,
       "border_left": null,
       "border_right": null,
       "border_top": null,
       "bottom": null,
       "display": null,
       "flex": null,
       "flex_flow": null,
       "grid_area": null,
       "grid_auto_columns": null,
       "grid_auto_flow": null,
       "grid_auto_rows": null,
       "grid_column": null,
       "grid_gap": null,
       "grid_row": null,
       "grid_template_areas": null,
       "grid_template_columns": null,
       "grid_template_rows": null,
       "height": null,
       "justify_content": null,
       "justify_items": null,
       "left": null,
       "margin": null,
       "max_height": null,
       "max_width": null,
       "min_height": null,
       "min_width": null,
       "object_fit": null,
       "object_position": null,
       "order": null,
       "overflow": null,
       "padding": null,
       "right": null,
       "top": null,
       "visibility": null,
       "width": null
      }
     },
     "201355cb6fe44791bd23c977364350a8": {
      "model_module": "@jupyter-widgets/controls",
      "model_module_version": "2.0.0",
      "model_name": "FloatProgressModel",
      "state": {
       "_dom_classes": [],
       "_model_module": "@jupyter-widgets/controls",
       "_model_module_version": "2.0.0",
       "_model_name": "FloatProgressModel",
       "_view_count": null,
       "_view_module": "@jupyter-widgets/controls",
       "_view_module_version": "2.0.0",
       "_view_name": "ProgressView",
       "bar_style": "success",
       "description": "",
       "description_allow_html": false,
       "layout": "IPY_MODEL_3c56d2e10722423a9bf9e69d27cc695e",
       "max": 600,
       "min": 0,
       "orientation": "horizontal",
       "style": "IPY_MODEL_757f805e76004a7bb3b808de30a655ca",
       "tabbable": null,
       "tooltip": null,
       "value": 600
      }
     },
     "3796acdf96854c5692538e879fb91a1e": {
      "model_module": "@jupyter-widgets/base",
      "model_module_version": "2.0.0",
      "model_name": "LayoutModel",
      "state": {
       "_model_module": "@jupyter-widgets/base",
       "_model_module_version": "2.0.0",
       "_model_name": "LayoutModel",
       "_view_count": null,
       "_view_module": "@jupyter-widgets/base",
       "_view_module_version": "2.0.0",
       "_view_name": "LayoutView",
       "align_content": null,
       "align_items": null,
       "align_self": null,
       "border_bottom": null,
       "border_left": null,
       "border_right": null,
       "border_top": null,
       "bottom": null,
       "display": null,
       "flex": null,
       "flex_flow": null,
       "grid_area": null,
       "grid_auto_columns": null,
       "grid_auto_flow": null,
       "grid_auto_rows": null,
       "grid_column": null,
       "grid_gap": null,
       "grid_row": null,
       "grid_template_areas": null,
       "grid_template_columns": null,
       "grid_template_rows": null,
       "height": null,
       "justify_content": null,
       "justify_items": null,
       "left": null,
       "margin": null,
       "max_height": null,
       "max_width": null,
       "min_height": null,
       "min_width": null,
       "object_fit": null,
       "object_position": null,
       "order": null,
       "overflow": null,
       "padding": null,
       "right": null,
       "top": null,
       "visibility": null,
       "width": null
      }
     },
     "3c56d2e10722423a9bf9e69d27cc695e": {
      "model_module": "@jupyter-widgets/base",
      "model_module_version": "2.0.0",
      "model_name": "LayoutModel",
      "state": {
       "_model_module": "@jupyter-widgets/base",
       "_model_module_version": "2.0.0",
       "_model_name": "LayoutModel",
       "_view_count": null,
       "_view_module": "@jupyter-widgets/base",
       "_view_module_version": "2.0.0",
       "_view_name": "LayoutView",
       "align_content": null,
       "align_items": null,
       "align_self": null,
       "border_bottom": null,
       "border_left": null,
       "border_right": null,
       "border_top": null,
       "bottom": null,
       "display": null,
       "flex": "2",
       "flex_flow": null,
       "grid_area": null,
       "grid_auto_columns": null,
       "grid_auto_flow": null,
       "grid_auto_rows": null,
       "grid_column": null,
       "grid_gap": null,
       "grid_row": null,
       "grid_template_areas": null,
       "grid_template_columns": null,
       "grid_template_rows": null,
       "height": null,
       "justify_content": null,
       "justify_items": null,
       "left": null,
       "margin": null,
       "max_height": null,
       "max_width": null,
       "min_height": null,
       "min_width": null,
       "object_fit": null,
       "object_position": null,
       "order": null,
       "overflow": null,
       "padding": null,
       "right": null,
       "top": null,
       "visibility": null,
       "width": null
      }
     },
     "3cd80276b51843b2a2e05f76b9846a1e": {
      "model_module": "@jupyter-widgets/controls",
      "model_module_version": "2.0.0",
      "model_name": "HBoxModel",
      "state": {
       "_dom_classes": [],
       "_model_module": "@jupyter-widgets/controls",
       "_model_module_version": "2.0.0",
       "_model_name": "HBoxModel",
       "_view_count": null,
       "_view_module": "@jupyter-widgets/controls",
       "_view_module_version": "2.0.0",
       "_view_name": "HBoxView",
       "box_style": "",
       "children": [
        "IPY_MODEL_a8a94ad3ebcf439c858fbf11143fd494",
        "IPY_MODEL_201355cb6fe44791bd23c977364350a8",
        "IPY_MODEL_9d5c7f93ef9c4b64bc2d763a126105c0"
       ],
       "layout": "IPY_MODEL_aca4bde322d0404fb61854704213edbb",
       "tabbable": null,
       "tooltip": null
      }
     },
     "49f9d9488dfc485984c938a9d6382fd5": {
      "model_module": "@jupyter-widgets/controls",
      "model_module_version": "2.0.0",
      "model_name": "HTMLStyleModel",
      "state": {
       "_model_module": "@jupyter-widgets/controls",
       "_model_module_version": "2.0.0",
       "_model_name": "HTMLStyleModel",
       "_view_count": null,
       "_view_module": "@jupyter-widgets/base",
       "_view_module_version": "2.0.0",
       "_view_name": "StyleView",
       "background": null,
       "description_width": "",
       "font_size": null,
       "text_color": null
      }
     },
     "552041cdfdc94e159d71e82fdacb171d": {
      "model_module": "@jupyter-widgets/controls",
      "model_module_version": "2.0.0",
      "model_name": "HTMLStyleModel",
      "state": {
       "_model_module": "@jupyter-widgets/controls",
       "_model_module_version": "2.0.0",
       "_model_name": "HTMLStyleModel",
       "_view_count": null,
       "_view_module": "@jupyter-widgets/base",
       "_view_module_version": "2.0.0",
       "_view_name": "StyleView",
       "background": null,
       "description_width": "",
       "font_size": null,
       "text_color": null
      }
     },
     "757f805e76004a7bb3b808de30a655ca": {
      "model_module": "@jupyter-widgets/controls",
      "model_module_version": "2.0.0",
      "model_name": "ProgressStyleModel",
      "state": {
       "_model_module": "@jupyter-widgets/controls",
       "_model_module_version": "2.0.0",
       "_model_name": "ProgressStyleModel",
       "_view_count": null,
       "_view_module": "@jupyter-widgets/base",
       "_view_module_version": "2.0.0",
       "_view_name": "StyleView",
       "bar_color": null,
       "description_width": ""
      }
     },
     "9d5c7f93ef9c4b64bc2d763a126105c0": {
      "model_module": "@jupyter-widgets/controls",
      "model_module_version": "2.0.0",
      "model_name": "HTMLModel",
      "state": {
       "_dom_classes": [],
       "_model_module": "@jupyter-widgets/controls",
       "_model_module_version": "2.0.0",
       "_model_name": "HTMLModel",
       "_view_count": null,
       "_view_module": "@jupyter-widgets/controls",
       "_view_module_version": "2.0.0",
       "_view_name": "HTMLView",
       "description": "",
       "description_allow_html": false,
       "layout": "IPY_MODEL_14230fec4b754c8e90a88bb8b6e20e10",
       "placeholder": "​",
       "style": "IPY_MODEL_49f9d9488dfc485984c938a9d6382fd5",
       "tabbable": null,
       "tooltip": null,
       "value": " 600/600 [00:42&lt;00:00,  6.39it/s, test_loss=0.953, train_loss=0.906]"
      }
     },
     "a8a94ad3ebcf439c858fbf11143fd494": {
      "model_module": "@jupyter-widgets/controls",
      "model_module_version": "2.0.0",
      "model_name": "HTMLModel",
      "state": {
       "_dom_classes": [],
       "_model_module": "@jupyter-widgets/controls",
       "_model_module_version": "2.0.0",
       "_model_name": "HTMLModel",
       "_view_count": null,
       "_view_module": "@jupyter-widgets/controls",
       "_view_module_version": "2.0.0",
       "_view_name": "HTMLView",
       "description": "",
       "description_allow_html": false,
       "layout": "IPY_MODEL_3796acdf96854c5692538e879fb91a1e",
       "placeholder": "​",
       "style": "IPY_MODEL_552041cdfdc94e159d71e82fdacb171d",
       "tabbable": null,
       "tooltip": null,
       "value": "Epoch: 100%"
      }
     },
     "aca4bde322d0404fb61854704213edbb": {
      "model_module": "@jupyter-widgets/base",
      "model_module_version": "2.0.0",
      "model_name": "LayoutModel",
      "state": {
       "_model_module": "@jupyter-widgets/base",
       "_model_module_version": "2.0.0",
       "_model_name": "LayoutModel",
       "_view_count": null,
       "_view_module": "@jupyter-widgets/base",
       "_view_module_version": "2.0.0",
       "_view_name": "LayoutView",
       "align_content": null,
       "align_items": null,
       "align_self": null,
       "border_bottom": null,
       "border_left": null,
       "border_right": null,
       "border_top": null,
       "bottom": null,
       "display": "inline-flex",
       "flex": null,
       "flex_flow": "row wrap",
       "grid_area": null,
       "grid_auto_columns": null,
       "grid_auto_flow": null,
       "grid_auto_rows": null,
       "grid_column": null,
       "grid_gap": null,
       "grid_row": null,
       "grid_template_areas": null,
       "grid_template_columns": null,
       "grid_template_rows": null,
       "height": null,
       "justify_content": null,
       "justify_items": null,
       "left": null,
       "margin": null,
       "max_height": null,
       "max_width": null,
       "min_height": null,
       "min_width": null,
       "object_fit": null,
       "object_position": null,
       "order": null,
       "overflow": null,
       "padding": null,
       "right": null,
       "top": null,
       "visibility": null,
       "width": "100%"
      }
     },
     "b5cc4cf49f0744d9909f22fef8895dd8": {
      "model_module": "ipycanvas",
      "model_module_version": "^0.14",
      "model_name": "CanvasManagerModel",
      "state": {
       "_model_module": "ipycanvas",
       "_model_module_version": "^0.14",
       "_model_name": "CanvasManagerModel",
       "_view_count": null,
       "_view_module": null,
       "_view_module_version": "",
       "_view_name": null
      }
     }
    },
    "version_major": 2,
    "version_minor": 0
   }
  }
 },
 "nbformat": 4,
 "nbformat_minor": 4
}
