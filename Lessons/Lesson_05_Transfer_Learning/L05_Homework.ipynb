{
 "cells": [
  {
   "cell_type": "code",
   "source": "# DS776 Auto-Update (runs in ~2 seconds, only updates when needed)\n# If this cell fails, see Lessons/Course_Tools/AUTO_UPDATE_SYSTEM.md for help\n%run ../Course_Tools/auto_update_introdl.py",
   "metadata": {},
   "execution_count": null,
   "outputs": []
  },
  {
   "cell_type": "markdown",
   "metadata": {},
   "source": [
    "Apply transfer learning to classify the flowers in the Flowers102 dataset from torchvision. \n",
    "\n",
    "Try at least 2 (3?) different model architectures including X Y and Z.  Use augmentation and both transfer learn and fine tune while using the validation split to evaluate the performance and and to tinker with your settings and trinaing.  At the end compare the performance of your three final models on the test set.\n"
   ]
  }
 ],
 "metadata": {
  "language_info": {
   "codemirror_mode": {
    "name": "ipython",
    "version": 3
   },
   "file_extension": ".py",
   "mimetype": "text/x-python",
   "name": "python",
   "nbconvert_exporter": "python",
   "pygments_lexer": "ipython3",
   "version": "3.10.18"
  }
 },
 "nbformat": 4,
 "nbformat_minor": 2
}