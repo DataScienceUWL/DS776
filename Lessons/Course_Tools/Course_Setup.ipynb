{
 "cells": [
  {
   "cell_type": "markdown",
   "metadata": {},
   "source": "# DS776 Course Setup\n\nWelcome to DS776 Deep Learning! This notebook runs the course setup script to configure your environment.\n\n**This setup will:**\n1. Install the `introdl` course package\n2. Set up API key configuration\n3. Create workspace directories\n4. Verify everything is working\n\n## ⚠️ Important Notes:\n- Run this notebook ONCE at the beginning of the course\n- The setup takes about 1-2 minutes\n- **Restart your kernel** after the setup completes\n- Works in CoCalc, Google Colab, and local environments"
  },
  {
   "cell_type": "markdown",
   "metadata": {},
   "source": "## Run Course Setup\n\nClick the ▶️ button below to run the complete course setup."
  },
  {
   "cell_type": "code",
   "execution_count": null,
   "metadata": {
    "execution": {
     "iopub.execute_input": "2025-08-26T01:04:26.790778Z",
     "iopub.status.busy": "2025-08-26T01:04:26.790413Z",
     "iopub.status.idle": "2025-08-26T01:04:33.101859Z",
     "shell.execute_reply": "2025-08-26T01:04:33.101045Z"
    }
   },
   "outputs": [],
   "source": "# DS776 Course Setup - Run the setup script\nimport subprocess\nimport sys\nfrom pathlib import Path\n\nprint(\"🚀 DS776 Course Setup\")\nprint(\"=\" * 40)\nprint(\"Running the course setup script...\")\nprint(\"This may take 1-2 minutes...\\n\")\n\n# Find the setup script\nscript_path = Path.cwd() / \"setup_course.sh\"\n\nif script_path.exists():\n    try:\n        # Run the setup script with live output\n        process = subprocess.Popen(\n            [\"bash\", str(script_path)],\n            stdout=subprocess.PIPE,\n            stderr=subprocess.STDOUT,\n            universal_newlines=True,\n            bufsize=1\n        )\n        \n        # Print output in real-time\n        while True:\n            output = process.stdout.readline()\n            if output == '' and process.poll() is not None:\n                break\n            if output:\n                print(output.strip())\n        \n        # Get final return code\n        return_code = process.poll()\n        \n        if return_code == 0:\n            print(\"\\n\" + \"=\"*60)\n            print(\"✅ SETUP COMPLETE!\")\n            print(\"🔄 IMPORTANT: Restart your kernel now!\")\n            print(\"Then your notebooks will work perfectly.\")\n            print(\"=\"*60)\n        else:\n            print(f\"\\n❌ Setup script returned error code: {return_code}\")\n            print(\"Check the output above for error details.\")\n            \n    except Exception as e:\n        print(f\"❌ Error running setup script: {e}\")\n        print(\"\\n📝 Alternative: You can run the script manually in terminal:\")\n        print(f\"   cd {Path.cwd()}\")\n        print(\"   bash setup_course.sh\")\n        \nelse:\n    print(f\"❌ Setup script not found at: {script_path}\")\n    print(\"\\n📝 Make sure you're running this from the Course_Tools directory\")\n    print(\"Expected file structure:\")\n    print(\"  Course_Tools/\")\n    print(\"  ├── Course_Setup.ipynb (this notebook)\")\n    print(\"  ├── setup_course.sh\")\n    print(\"  └── introdl/\")\n\nprint(\"\\n\" + \"=\"*40)\nprint(\"📋 NEXT STEPS AFTER RESTART:\")\nprint(\"- Your introdl package will be ready to use\")\nprint(\"- Workspace directories will be created automatically\") \nprint(\"- Start with Lesson 01 notebooks\")\nprint(\"=\"*40)"
  }
 ],
 "metadata": {
  "kernelspec": {
   "display_name": "Python 3",
   "language": "python",
   "name": "python3"
  },
  "language_info": {
   "codemirror_mode": {
    "name": "ipython",
    "version": 3
   },
   "file_extension": ".py",
   "mimetype": "text/x-python",
   "name": "python",
   "nbconvert_exporter": "python",
   "pygments_lexer": "ipython3",
   "version": "3.10.18"
  }
 },
 "nbformat": 4,
 "nbformat_minor": 4
}