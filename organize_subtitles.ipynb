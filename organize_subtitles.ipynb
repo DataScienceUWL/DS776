{
 "cells": [
  {
   "cell_type": "code",
   "execution_count": null,
   "metadata": {},
   "outputs": [],
   "source": [
    "import os\n",
    "import shutil\n",
    "\n",
    "def organize_subtitles(base_directory):\n",
    "    for root, dirs, files in os.walk(base_directory):\n",
    "        # Check if current directory is a season directory\n",
    "        if any(file.endswith(\".mkv\") for file in files):\n",
    "            season_dir = root\n",
    "            subs_dir = os.path.join(season_dir, \"Subs\")\n",
    "\n",
    "            if os.path.exists(subs_dir):\n",
    "                # Process each subtitle in the Subs directory\n",
    "                for title_dir in os.listdir(subs_dir):\n",
    "                    title_path = os.path.join(subs_dir, title_dir)\n",
    "\n",
    "                    if os.path.isdir(title_path):\n",
    "                        subtitle_file = os.path.join(title_path, \"2_English.srt\")\n",
    "\n",
    "                        if os.path.exists(subtitle_file):\n",
    "                            # Create the destination path\n",
    "                            destination_path = os.path.join(season_dir, f\"{title_dir}.srt\")\n",
    "\n",
    "                            # Copy and rename the subtitle file\n",
    "                            shutil.copy(subtitle_file, destination_path)\n",
    "                            print(f\"Copied and renamed: {subtitle_file} -> {destination_path}\")\n",
    "\n"
   ]
  },
  {
   "cell_type": "code",
   "execution_count": null,
   "metadata": {},
   "outputs": [],
   "source": [
    "organize_subtitles('./')\n"
   ]
  }
 ],
 "metadata": {
  "language_info": {
   "name": "python"
  }
 },
 "nbformat": 4,
 "nbformat_minor": 2
}
