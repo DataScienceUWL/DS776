{
 "cells": [
  {
   "cell_type": "code",
   "execution_count": 1,
   "metadata": {
    "slideshow": {
     "slide_type": "skip"
    }
   },
   "outputs": [],
   "source": [
    "# this cell will append a scripts folder to the module search path.  change the path as needed\n",
    "\n",
    "import sys\n",
    "sys.path.append('../../scripts')"
   ]
  },
  {
   "cell_type": "code",
   "execution_count": 2,
   "metadata": {
    "slideshow": {
     "slide_type": "skip"
    },
    "tags": [
     "hide-input"
    ]
   },
   "outputs": [
    {
     "name": "stdout",
     "output_type": "stream",
     "text": [
      "'idlmamv2.py' is found in the module search path (../../scripts).\n",
      "'sklearn' is already installed.\n",
      "'torch' is already installed.\n",
      "'torchvision' is already installed.\n",
      "'torchinfo' is already installed.\n"
     ]
    }
   ],
   "source": [
    "# run this cell to download idlmamv2.py if needed\n",
    "# also pip installs missing packages if you're working in Colab or similar\n",
    "\n",
    "import os\n",
    "import sys\n",
    "import requests\n",
    "\n",
    "def check_and_download_script(script_name, repo_url, branch=\"main\", force_update=False):\n",
    "    \"\"\"\n",
    "    Check if a Python script is in the current directory or module search path,\n",
    "    and if not, download it from a GitHub repository.\n",
    "    Optionally, force update the script by downloading and overwriting it even if it exists locally.\n",
    "\n",
    "    :param script_name: Name of the Python script to check (e.g., 'myscript.py').\n",
    "    :param repo_url: URL of the GitHub repository (e.g., 'https://github.com/user/repo').\n",
    "    :param branch: Branch of the repository where the script is located (default is 'main').\n",
    "    :param force_update: Boolean indicating whether to overwrite the local file with the version from GitHub (default is False).\n",
    "    \"\"\"\n",
    "    # Check if the script is in the current directory\n",
    "    if os.path.isfile(script_name) and not force_update:\n",
    "        print(f\"'{script_name}' is already in the current directory.\")\n",
    "        return\n",
    "\n",
    "    # Check if the script is in the module search path\n",
    "    script_found_in_path = False\n",
    "    for path in sys.path:\n",
    "        if os.path.isfile(os.path.join(path, script_name)):\n",
    "            script_found_in_path = True\n",
    "            if not force_update:\n",
    "                print(f\"'{script_name}' is found in the module search path ({path}).\")\n",
    "                return\n",
    "            else:\n",
    "                print(f\"'{script_name}' is found in the module search path ({path}), but force_update is set to True. Overwriting the file.\")\n",
    "                break\n",
    "\n",
    "    # If force_update is True or the script is not found, proceed to download it\n",
    "    if not script_found_in_path or force_update:\n",
    "        if os.path.isfile(script_name):\n",
    "            print(f\"'{script_name}' exists in the current directory, but force_update is set to True. Overwriting the file.\")\n",
    "        else:\n",
    "            print(f\"'{script_name}' is not found in the current directory or module search path. Downloading from GitHub...\")\n",
    "\n",
    "        # Construct the raw URL for the file\n",
    "        raw_url = f\"https://raw.githubusercontent.com/{repo_url}/{branch}/{script_name}\"\n",
    "        \n",
    "        try:\n",
    "            response = requests.get(raw_url)\n",
    "            response.raise_for_status()  # Raise an error for bad status codes\n",
    "            with open(script_name, \"wb\") as file:\n",
    "                file.write(response.content)\n",
    "            print(f\"'{script_name}' has been downloaded successfully.\")\n",
    "        except requests.exceptions.RequestException as e:\n",
    "            print(f\"Failed to download '{script_name}': {e}\")\n",
    "\n",
    "check_and_download_script('idlmamv2.py', 'DataScienceUWL/DS776', 'main')\n",
    "\n",
    "from idlmamv2 import check_and_install_packages\n",
    "\n",
    "# we're assuming some packages like numpy, pandas, matplotlib, seaborn, IPython are installed\n",
    "packages_to_check = ['sklearn','torch','torchvision','torchinfo']\n",
    "check_and_install_packages(packages_to_check)\n"
   ]
  },
  {
   "cell_type": "code",
   "execution_count": 3,
   "metadata": {
    "slideshow": {
     "slide_type": "skip"
    },
    "tags": [
     "hide-input"
    ]
   },
   "outputs": [],
   "source": [
    "## this is all the imports for this notebook \n",
    "\n",
    "## we've also imported them in individual sections to highlight where they're used.\n",
    "\n",
    "## It's not necessary to import them twice.  I prefer to import them all at the top like this.\n",
    "\n",
    "import numpy as np\n",
    "import seaborn as sns\n",
    "import matplotlib.pyplot as plt\n",
    "import pandas as pd\n",
    "from IPython.display import display, HTML\n",
    "\n",
    "plt.rcParams['figure.figsize'] = [8, 6]  # Set the default figure size (width, height) in inches\n",
    "\n",
    "from sklearn.datasets import make_circles\n",
    "from sklearn.metrics import accuracy_score, mean_absolute_error\n",
    "\n",
    "from torchinfo import summary\n",
    "\n",
    "import torch\n",
    "import torch.nn as nn\n",
    "import torch.nn.functional as F\n",
    "import torch.optim as optim\n",
    "from torch.utils.data import TensorDataset, DataLoader\n",
    "\n",
    "import torchvision.transforms as transforms\n",
    "from torchvision.datasets import MNIST\n",
    "\n",
    "from idlmamv2 import train_simple_network, train_network, get_device\n",
    "\n",
    "##############################################################################################\n",
    "# End of the setup.\n",
    "##############################################################################################"
   ]
  },
  {
   "cell_type": "markdown",
   "metadata": {
    "slideshow": {
     "slide_type": "slide"
    }
   },
   "source": [
    "# Lesson XX\n",
    "\n",
    "## 1. \n",
    "## 2. \n",
    "## 3. \n",
    "## 4. "
   ]
  }
 ],
 "metadata": {
  "kernelspec": {
   "display_name": "Python 3 (ipykernel)",
   "language": "python",
   "name": "python3"
  },
  "language_info": {
   "codemirror_mode": {
    "name": "ipython",
    "version": 3
   },
   "file_extension": ".py",
   "mimetype": "text/x-python",
   "name": "python",
   "nbconvert_exporter": "python",
   "pygments_lexer": "ipython3",
   "version": "3.11.9"
  }
 },
 "nbformat": 4,
 "nbformat_minor": 4
}
