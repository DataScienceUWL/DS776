{
 "cells": [
  {
   "cell_type": "markdown",
   "metadata": {},
   "source": [
    "## Lesson 5: Object Detection and Segmentation\n",
    "\n",
    "### Topic\n",
    "* Transposed Convolutions\n",
    "* U-Net for Segmentation\n",
    "* R-CNN for Object Detection\n",
    "* Other architectures\n",
    "\n",
    "### Outcomes\n",
    "\n",
    "1. **Differentiate Image Segmentation and Object Detection**: Explain the roles of pixel-level segmentation and object detection with bounding boxes.\n",
    "   \n",
    "2. **Build an Image Segmentation Model**: Implement segmentation using transposed convolutions and U-Net architecture.\n",
    "\n",
    "3. **Apply Bounding Box Detection**: Use Faster R-CNN for object detection with bounding boxes and assess precision trade-offs.\n",
    "\n",
    "4. **Reduce False Positives**: Explore filtering methods to improve detection accuracy by minimizing overlapping boxes.\n",
    "\n",
    "\n",
    "### Readings and Videos\n",
    "\n",
    "* Read Chapter 8 in Inside Deep Learning\n",
    "* **Course Notebooks with Videos**  Open each of the notebooks included the lesson folder and watch the embedded video.  You can read along and work through the code examples as you want.  The notebooks for this lesson are in the Lesson_02 directory.  The notebooks are numbered in the order they should be used.\n",
    "\n",
    "### Assessments\n",
    "\n",
    "1.  Complete the reading quiz in Canvas (10 points).\n",
    "2.  Complete the exercises in your the homework notebook in CoCalc (40 points)."
   ]
  },
  {
   "cell_type": "markdown",
   "metadata": {},
   "source": []
  }
 ],
 "metadata": {
  "language_info": {
   "name": "python"
  }
 },
 "nbformat": 4,
 "nbformat_minor": 2
}
