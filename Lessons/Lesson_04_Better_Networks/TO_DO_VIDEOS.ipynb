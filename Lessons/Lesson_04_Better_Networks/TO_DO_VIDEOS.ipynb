{
 "cells": [
  {
   "cell_type": "markdown",
   "metadata": {},
   "source": [
    "* Video 1 - walkthrough of PlainDeepCNN\n",
    "    * Note that the feature dimensions aren't changed if stride = 1\n",
    "    * Number of features is determined by out_channels\n",
    "    * discuss how its build and then examine the structure using summary\n",
    "    * point out that the validation accuracy is higher than we've seen previously, but training is difficult"
   ]
  }
 ],
 "metadata": {
  "language_info": {
   "name": "python"
  }
 },
 "nbformat": 4,
 "nbformat_minor": 2
}
