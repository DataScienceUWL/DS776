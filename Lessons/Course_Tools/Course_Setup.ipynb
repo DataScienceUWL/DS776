{
 "cells": [
  {
   "cell_type": "markdown",
   "metadata": {},
   "source": "# DS776 Course Setup\n\nWelcome to DS776 Deep Learning! \n\n## ⚠️ This Notebook is OPTIONAL\n\n**You don't need to run this!** Every lesson and homework notebook has an auto-update cell that handles setup automatically. Just open any lesson and start working.\n\n**Use this notebook only if:**\n- You want to manually verify your setup before starting\n- You're troubleshooting installation issues\n- An instructor specifically asks you to run it\n\n## What This Does\n\nThis notebook runs the same auto-update script that's in every lesson/homework. It will:\n1. Check if `introdl` package is installed and up-to-date\n2. Install or update the package if needed\n3. Verify everything is working\n4. Create workspace directories (these are also auto-created when you run lessons)\n\n**Time required:** ~1 minute (or ~2 seconds if already set up)"
  },
  {
   "cell_type": "markdown",
   "metadata": {},
   "source": "## Run Setup (Optional)\n\nIf you choose to run this, the cell below will execute the auto-update script."
  },
  {
   "cell_type": "code",
   "execution_count": null,
   "metadata": {
    "execution": {
     "iopub.execute_input": "2025-08-26T01:04:26.790778Z",
     "iopub.status.busy": "2025-08-26T01:04:26.790413Z",
     "iopub.status.idle": "2025-08-26T01:04:33.101859Z",
     "shell.execute_reply": "2025-08-26T01:04:33.101045Z"
    }
   },
   "outputs": [],
   "source": "# DS776 Course Setup - Run the auto-update script\n# Note: This notebook is OPTIONAL - the auto-update cell in each lesson/homework\n# handles setup automatically. Use this only if you need to manually set up.\n\nimport subprocess\nimport sys\nfrom pathlib import Path\n\nprint(\"🚀 DS776 Course Setup\")\nprint(\"=\" * 60)\nprint(\"NOTE: This is the same auto-update that runs in every notebook.\")\nprint(\"You can skip this and just open any lesson - setup is automatic!\")\nprint(\"=\" * 60)\nprint(\"\\nRunning auto-update script...\\n\")\n\n# Find the auto-update script\nscript_path = Path.cwd() / \"auto_update_introdl.sh\"\n\nif script_path.exists():\n    try:\n        # Run the auto-update script\n        process = subprocess.Popen(\n            [\"bash\", str(script_path)],\n            stdout=subprocess.PIPE,\n            stderr=subprocess.STDOUT,\n            universal_newlines=True,\n            bufsize=1\n        )\n\n        # Print output in real-time\n        while True:\n            output = process.stdout.readline()\n            if output == '' and process.poll() is not None:\n                break\n            if output:\n                print(output.strip())\n\n        # Get final return code\n        return_code = process.poll()\n\n        if return_code == 0:\n            print(\"\\n\" + \"=\"*60)\n            print(\"✅ SETUP COMPLETE!\")\n            print(\"Your introdl package is ready to use.\")\n            print(\"=\"*60)\n        elif return_code == 2:\n            print(\"\\n\" + \"=\"*60)\n            print(\"✅ PACKAGE UPDATED!\")\n            print(\"🔄 IMPORTANT: Restart your kernel now!\")\n            print(\"Then you're ready to go.\")\n            print(\"=\"*60)\n        else:\n            print(f\"\\n❌ Setup returned error code: {return_code}\")\n            print(\"Check the output above for error details.\")\n\n    except Exception as e:\n        print(f\"❌ Error running auto-update script: {e}\")\n        print(\"\\n📝 Alternative: You can run the script manually in terminal:\")\n        print(f\"   cd {Path.cwd()}\")\n        print(\"   bash auto_update_introdl.sh\")\n\nelse:\n    print(f\"❌ Auto-update script not found at: {script_path}\")\n    print(\"\\n📝 Make sure you're running this from the Course_Tools directory\")\n    print(\"Expected file structure:\")\n    print(\"  Course_Tools/\")\n    print(\"  ├── Course_Setup.ipynb (this notebook)\")\n    print(\"  ├── auto_update_introdl.sh\")\n    print(\"  └── introdl/\")\n\nprint(\"\\n\" + \"=\"*60)\nprint(\"📋 NEXT STEPS:\")\nprint(\"- If kernel restart required, restart now\")\nprint(\"- Otherwise, you're ready to start with Lesson 01!\")\nprint(\"- Each lesson/homework has auto-update built in\")\nprint(\"=\"*60)"
  }
 ],
 "metadata": {
  "kernelspec": {
   "display_name": "Python 3",
   "language": "python",
   "name": "python3"
  },
  "language_info": {
   "codemirror_mode": {
    "name": "ipython",
    "version": 3
   },
   "file_extension": ".py",
   "mimetype": "text/x-python",
   "name": "python",
   "nbconvert_exporter": "python",
   "pygments_lexer": "ipython3",
   "version": "3.10.18"
  }
 },
 "nbformat": 4,
 "nbformat_minor": 4
}