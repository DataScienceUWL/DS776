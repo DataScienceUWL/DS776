{
 "cells": [
  {
   "cell_type": "markdown",
   "metadata": {},
   "source": [
    "# Outcomes\n",
    "\n",
    "1. **Understand the structure and role of Convolutional Neural Networks (CNNs)** in processing spatial data like images.\n",
    "2. **Design and implement basic CNN architectures** in PyTorch, including convolutional layers, pooling, and activation functions.\n",
    "3. **Understand how padding, stride, kernel size, and the number of output channels** interact to determine the dimensionality of the output in each convolutional layer.\n",
    "4. **Apply data augmentation techniques** to improve model generalization and prevent overfitting in image classification tasks.\n",
    "5. **Experiment with and assess the impact of pooling layers**, such as max-pooling, on the robustness and efficiency of CNN models. \n"
   ]
  },
  {
   "cell_type": "markdown",
   "metadata": {},
   "source": [
    "# Resources\n",
    "\n",
    "* Chapter 3 IDL\n",
    "* [Andrew Ng on Convolution over Volumes](https://www.youtube.com/watch?v=KTB_OFoAQcc&ab_channel=DeepLearningAI)\n",
    "* [Andrew Ng One Layer of a Convolutional Net](https://www.youtube.com/watch?v=jPOAS7uCODQ&t=871s&ab_channel=DeepLearningAI) Include formula for output size and discusses number of parameters.\n",
    "* [Andrew Ng Simple Convolutional Network Example](https://www.youtube.com/watch?v=3PyJA9AfwSk&t=317s&ab_channel=DeepLearningAI)\n"
   ]
  }
 ],
 "metadata": {
  "language_info": {
   "name": "python"
  }
 },
 "nbformat": 4,
 "nbformat_minor": 2
}
