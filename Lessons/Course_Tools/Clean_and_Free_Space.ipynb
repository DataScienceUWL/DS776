{
 "cells": [
  {
   "cell_type": "markdown",
   "metadata": {},
   "source": [
    "# Clean and Free Space - Course-Wide Storage Management\n",
    "\n",
    "This notebook helps you manage storage across the entire DS776 course.\n",
    "\n",
    "## Features:\n",
    "1. **Comprehensive Storage Report** - View usage across all lessons and homework\n",
    "2. **Clean Old Cache** - Remove old pretrained models and datasets\n",
    "3. **Delete All Lesson Models** - Free space from all lesson folders at once\n",
    "4. **Delete All Homework Models** - Free space from all homework folders\n",
    "5. **Emergency Cleanup** - Last resort options when critically low on space"
   ]
  },
  {
   "cell_type": "code",
   "execution_count": null,
   "metadata": {},
   "outputs": [],
   "source": [
    "# Import necessary utilities\n",
    "from pathlib import Path\n",
    "import os\n",
    "import shutil\n",
    "from datetime import datetime, timedelta\n",
    "\n",
    "try:\n",
    "    from introdl.utils import (\n",
    "        display_storage_report,\n",
    "        cleanup_old_cache,\n",
    "        get_folder_size,\n",
    "        format_size\n",
    "    )\n",
    "    print(\"✅ Course utilities loaded successfully\")\n",
    "except ImportError:\n",
    "    print(\"❌ Could not import introdl utilities\")\n",
    "    print(\"   Please run Course_Setup.ipynb first!\")"
   ]
  },
  {
   "cell_type": "markdown",
   "metadata": {},
   "source": [
    "## 1. Comprehensive Storage Report\n",
    "\n",
    "Get a complete overview of storage usage across the entire course."
   ]
  },
  {
   "cell_type": "code",
   "execution_count": null,
   "metadata": {},
   "outputs": [],
   "source": [
    "# Display comprehensive storage report\n",
    "display_storage_report()"
   ]
  },
  {
   "cell_type": "markdown",
   "metadata": {},
   "source": [
    "## 2. Clean Old Cache Files (Pretrained Models)\n",
    "\n",
    "Remove downloaded pretrained models and datasets older than 7 days.\n",
    "\n",
    "**📚 What gets deleted?**\n",
    "- Pretrained models downloaded from HuggingFace, OpenAI, etc.\n",
    "- Cached datasets that can be re-downloaded\n",
    "- Files in the `downloads` folder older than 7 days\n",
    "\n",
    "**What is preserved?**\n",
    "- Your trained models in Lesson_XX_models and Homework_XX_models folders\n",
    "- All notebooks and scripts\n",
    "- Recent downloads (< 7 days old)"
   ]
  },
  {
   "cell_type": "code",
   "execution_count": null,
   "metadata": {},
   "outputs": [],
   "source": [
    "# First, see what would be deleted (dry run)\n",
    "print(\"🔍 Checking for old cache files...\\n\")\n",
    "cleanup_old_cache(days_old=7, dry_run=True)"
   ]
  },
  {
   "cell_type": "code",
   "execution_count": null,
   "metadata": {},
   "outputs": [],
   "source": [
    "# ⚠️ Uncomment to actually delete old cache files\n",
    "# cleanup_old_cache(days_old=7, dry_run=False)\n",
    "# print(\"\\n\" + \"=\"*60)\n",
    "# print(\"📊 UPDATED STORAGE AFTER CLEANUP\")\n",
    "# print(\"=\"*60)\n",
    "# display_storage_report()"
   ]
  },
  {
   "cell_type": "markdown",
   "metadata": {},
   "source": [
    "## 3. Delete All Lesson Models\n",
    "\n",
    "Remove ALL models you trained while working through the lessons.\n",
    "\n",
    "**⚠️ WARNING**: This will delete all Lesson_XX_models folders across all lessons!"
   ]
  },
  {
   "cell_type": "code",
   "execution_count": null,
   "metadata": {},
   "outputs": [],
   "source": [
    "def delete_all_lesson_models(confirm=False):\n",
    "    \"\"\"Delete all lesson model folders.\"\"\"\n",
    "    course_root = Path(os.environ.get('DS776_ROOT_DIR', Path.home()))\n",
    "    lessons_dir = course_root / \"Lessons\"\n",
    "    \n",
    "    if not lessons_dir.exists():\n",
    "        print(\"❌ Lessons directory not found\")\n",
    "        return\n",
    "    \n",
    "    total_size = 0\n",
    "    model_folders = []\n",
    "    \n",
    "    # Find all lesson model folders\n",
    "    for lesson_dir in lessons_dir.glob(\"Lesson_*\"):\n",
    "        for models_dir in lesson_dir.glob(\"*_models\"):\n",
    "            size = get_folder_size(models_dir)\n",
    "            total_size += size\n",
    "            model_folders.append((models_dir, size))\n",
    "    \n",
    "    if not model_folders:\n",
    "        print(\"ℹ️ No lesson model folders found\")\n",
    "        return\n",
    "    \n",
    "    print(f\"🗂️ LESSON MODELS TO DELETE\")\n",
    "    print(\"-\" * 40)\n",
    "    for folder, size in model_folders:\n",
    "        print(f\"  • {folder.parent.name}/{folder.name}: {format_size(size)}\")\n",
    "    print(f\"\\n  Total: {format_size(total_size)} from {len(model_folders)} folders\")\n",
    "    \n",
    "    if not confirm:\n",
    "        print(\"\\n⚠️ Set confirm=True to delete these folders\")\n",
    "        return\n",
    "    \n",
    "    # Delete the folders\n",
    "    deleted_count = 0\n",
    "    for folder, _ in model_folders:\n",
    "        try:\n",
    "            shutil.rmtree(folder)\n",
    "            deleted_count += 1\n",
    "            print(f\"  ✅ Deleted: {folder.name}\")\n",
    "        except Exception as e:\n",
    "            print(f\"  ❌ Error deleting {folder.name}: {e}\")\n",
    "    \n",
    "    print(f\"\\n✅ Deleted {deleted_count} folders, freed {format_size(total_size)}\")\n",
    "\n",
    "# Check what would be deleted\n",
    "delete_all_lesson_models(confirm=False)"
   ]
  },
  {
   "cell_type": "code",
   "execution_count": null,
   "metadata": {},
   "outputs": [],
   "source": [
    "# ⚠️ Uncomment to actually delete ALL lesson models\n",
    "# delete_all_lesson_models(confirm=True)\n",
    "# display_storage_report()"
   ]
  },
  {
   "cell_type": "markdown",
   "metadata": {},
   "source": [
    "## 4. Delete All Homework Models\n",
    "\n",
    "Remove ALL models from homework folders.\n",
    "\n",
    "**⚠️ WARNING**: \n",
    "- This will delete all Homework_XX_models folders!\n",
    "- Consider using the Zip Models feature in homework utilities first to backup"
   ]
  },
  {
   "cell_type": "code",
   "execution_count": null,
   "metadata": {},
   "outputs": [],
   "source": [
    "def delete_all_homework_models(confirm=False):\n",
    "    \"\"\"Delete all homework model folders.\"\"\"\n",
    "    course_root = Path(os.environ.get('DS776_ROOT_DIR', Path.home()))\n",
    "    homework_dir = course_root / \"Homework\"\n",
    "    \n",
    "    if not homework_dir.exists():\n",
    "        print(\"❌ Homework directory not found\")\n",
    "        return\n",
    "    \n",
    "    total_size = 0\n",
    "    model_folders = []\n",
    "    \n",
    "    # Find all homework model folders\n",
    "    for hw_dir in homework_dir.glob(\"Homework_*\"):\n",
    "        for models_dir in hw_dir.glob(\"*_models\"):\n",
    "            size = get_folder_size(models_dir)\n",
    "            total_size += size\n",
    "            model_folders.append((models_dir, size))\n",
    "    \n",
    "    if not model_folders:\n",
    "        print(\"ℹ️ No homework model folders found\")\n",
    "        return\n",
    "    \n",
    "    print(f\"🗂️ HOMEWORK MODELS TO DELETE\")\n",
    "    print(\"-\" * 40)\n",
    "    for folder, size in model_folders:\n",
    "        print(f\"  • {folder.parent.name}/{folder.name}: {format_size(size)}\")\n",
    "    print(f\"\\n  Total: {format_size(total_size)} from {len(model_folders)} folders\")\n",
    "    \n",
    "    if not confirm:\n",
    "        print(\"\\n⚠️ Set confirm=True to delete these folders\")\n",
    "        print(\"💡 TIP: Use homework utility notebooks to zip models first!\")\n",
    "        return\n",
    "    \n",
    "    # Delete the folders\n",
    "    deleted_count = 0\n",
    "    for folder, _ in model_folders:\n",
    "        try:\n",
    "            shutil.rmtree(folder)\n",
    "            deleted_count += 1\n",
    "            print(f\"  ✅ Deleted: {folder.name}\")\n",
    "        except Exception as e:\n",
    "            print(f\"  ❌ Error deleting {folder.name}: {e}\")\n",
    "    \n",
    "    print(f\"\\n✅ Deleted {deleted_count} folders, freed {format_size(total_size)}\")\n",
    "\n",
    "# Check what would be deleted\n",
    "delete_all_homework_models(confirm=False)"
   ]
  },
  {
   "cell_type": "code",
   "execution_count": null,
   "metadata": {},
   "outputs": [],
   "source": [
    "# ⚠️ Uncomment to actually delete ALL homework models\n",
    "# delete_all_homework_models(confirm=True)\n",
    "# display_storage_report()"
   ]
  },
  {
   "cell_type": "markdown",
   "metadata": {},
   "source": [
    "## 5. Emergency Cleanup\n",
    "\n",
    "**🚨 USE ONLY WHEN CRITICALLY LOW ON SPACE!**\n",
    "\n",
    "This will delete:\n",
    "- ALL cached/pretrained models (regardless of age)\n",
    "- ALL downloaded datasets\n",
    "- Everything in the downloads folder\n",
    "\n",
    "You'll need to re-download any pretrained models you use again."
   ]
  },
  {
   "cell_type": "code",
   "execution_count": null,
   "metadata": {},
   "outputs": [],
   "source": [
    "# ⚠️ EMERGENCY ONLY - Uncomment TWO lines for safety\n",
    "# print(\"🚨 EMERGENCY CLEANUP - Deleting ALL cache...\")\n",
    "# cleanup_old_cache(days_old=0, dry_run=False)  # Delete ALL cache\n",
    "\n",
    "# print(\"\\n\" + \"=\"*60)\n",
    "# print(\"📊 STORAGE AFTER EMERGENCY CLEANUP\")\n",
    "# print(\"=\"*60)\n",
    "# display_storage_report()"
   ]
  },
  {
   "cell_type": "markdown",
   "metadata": {},
   "source": [
    "## Quick Reference\n",
    "\n",
    "### Storage Management Priority:\n",
    "\n",
    "1. **First**: Clean old cache (>7 days) - Section 2\n",
    "2. **Second**: Delete lesson models - Section 3\n",
    "3. **Third**: Zip and delete homework models - Section 4\n",
    "4. **Last Resort**: Emergency cleanup - Section 5\n",
    "\n",
    "### Tips:\n",
    "- Run storage report first to understand usage\n",
    "- Start with least destructive options\n",
    "- Always backup homework models before deleting\n",
    "- Remember: pretrained models can always be re-downloaded"
   ]
  }
 ],
 "metadata": {
  "kernelspec": {
   "display_name": "Python 3",
   "language": "python",
   "name": "python3"
  },
  "language_info": {
   "codemirror_mode": {
    "name": "ipython",
    "version": 3
   },
   "file_extension": ".py",
   "mimetype": "text/x-python",
   "name": "python",
   "nbconvert_exporter": "python",
   "pygments_lexer": "ipython3",
   "version": "3.8.0"
  }
 },
 "nbformat": 4,
 "nbformat_minor": 4
}