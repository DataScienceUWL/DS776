{
 "cells": [
  {
   "cell_type": "markdown",
   "metadata": {},
   "source": [
    "* Optimizers\n",
    "    * Create_Cifar10 walkthrough\n",
    "    * SimpleCNN walkthrough\n",
    "    * Learning Rate Discussion"
   ]
  }
 ],
 "metadata": {
  "language_info": {
   "name": "python"
  }
 },
 "nbformat": 4,
 "nbformat_minor": 2
}
