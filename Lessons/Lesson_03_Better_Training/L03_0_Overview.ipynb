{
 "cells": [
  {
   "cell_type": "markdown",
   "metadata": {},
   "source": [
    "## Lesson 3: Better Network Training\n",
    "\n",
    "### Outcomes\n",
    "\n",
    "1. **Apply data augmentation techniques** to improve model generalization, especially with small datasets.\n",
    "2. **Understand and implement learning rate schedules**, including exponential decay, step drop, and cosine annealing.\n",
    "3. **Optimize training** using modern techniques like SGD with momentum, Adam, and gradient clipping.\n",
    "4. **Implement early stopping** to prevent overfitting and improve training efficiency by halting training when performance plateaus.\n",
    "\n",
    "### Readings and Videos\n",
    "\n",
    "* Read Sections 3.6, 5.1-5.3 in Inside Deep Learning.\n",
    "* **Course Notebooks with Videos**  Open each of the notebooks included the lesson folder and watch the embedded video.  You can read along and work through the code examples as you want.  The notebooks for this lesson are in the Lesson_03 directory.  The notebooks are numbered in the order they should be used.\n",
    "\n",
    "### Assessments\n",
    "\n",
    "1.  Complete the reading quiz in Canvas (10 points).\n",
    "2.  Complete the exercises in your the homework notebook in CoCalc (40 points)."
   ]
  },
  {
   "cell_type": "markdown",
   "metadata": {},
   "source": []
  }
 ],
 "metadata": {
  "language_info": {
   "codemirror_mode": {
    "name": "ipython",
    "version": 3
   },
   "file_extension": ".py",
   "mimetype": "text/x-python",
   "name": "python",
   "nbconvert_exporter": "python",
   "pygments_lexer": "ipython3",
   "version": "3.10.18"
  }
 },
 "nbformat": 4,
 "nbformat_minor": 2
}
