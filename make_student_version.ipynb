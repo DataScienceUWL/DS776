{
 "cells": [
  {
   "cell_type": "code",
   "execution_count": 1,
   "metadata": {},
   "outputs": [],
   "source": [
    "import nbformat\n",
    "import re\n",
    "\n",
    "def create_student_version(nb_path, output_path):\n",
    "    # Load the notebook\n",
    "    with open(nb_path, 'r', encoding='utf-8') as f:\n",
    "        nb = nbformat.read(f, as_version=4)\n",
    "\n",
    "    for cell in nb['cells']:\n",
    "        if 'tags' in cell.get('metadata', {}):\n",
    "            if 'solution' in cell['metadata']['tags']:\n",
    "                if cell['cell_type'] == 'markdown':\n",
    "                    # Replace markdown solution cells with placeholder text\n",
    "                    cell['source'] = \"#### Solution\\nREPLACE_WITH_SOLUTION\\n\"\n",
    "                \n",
    "                elif cell['cell_type'] == 'code':\n",
    "                    # Check for '# complete this cell' (case insensitive)\n",
    "                    lines = cell['source'].split(\"\\n\")\n",
    "                    new_lines = []\n",
    "                    found_comment = False\n",
    "\n",
    "                    for line in lines:\n",
    "                        if re.search(r\"#\\s*complete this cell\", line, re.IGNORECASE):\n",
    "                            found_comment = True\n",
    "                            new_lines.append(\"#### Solution\")\n",
    "                            break  # Stop processing further lines\n",
    "                        new_lines.append(line)\n",
    "\n",
    "                    if not found_comment:\n",
    "                        # Replace entire code cell content if no such comment exists\n",
    "                        cell['source'] = \"#### Solution\\n\"\n",
    "                    else:\n",
    "                        cell['source'] = \"\\n\".join(new_lines)\n",
    "\n",
    "    # Save the modified notebook\n",
    "    with open(output_path, 'w', encoding='utf-8') as f:\n",
    "        nbformat.write(nb, f)"
   ]
  },
  {
   "cell_type": "code",
   "execution_count": null,
   "metadata": {},
   "outputs": [],
   "source": [
    "create_student_version(\"notebooks/Lesson_01.ipynb\", \"notebooks/Lesson_01_student.ipynb\")"
   ]
  }
 ],
 "metadata": {
  "kernelspec": {
   "display_name": "DS776_env",
   "language": "python",
   "name": "python3"
  },
  "language_info": {
   "codemirror_mode": {
    "name": "ipython",
    "version": 3
   },
   "file_extension": ".py",
   "mimetype": "text/x-python",
   "name": "python",
   "nbconvert_exporter": "python",
   "pygments_lexer": "ipython3",
   "version": "3.11.10"
  }
 },
 "nbformat": 4,
 "nbformat_minor": 2
}
