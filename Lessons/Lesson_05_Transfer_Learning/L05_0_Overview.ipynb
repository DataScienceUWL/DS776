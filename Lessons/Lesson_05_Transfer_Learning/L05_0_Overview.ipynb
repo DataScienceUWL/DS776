{
 "cells": [
  {
   "cell_type": "markdown",
   "metadata": {},
   "source": [
    "## Lesson 5: Transfer Learning\n",
    "\n",
    "### Topics\n",
    "* Sources for pre-trained models:  Torch Hub, TIMM, Hugging Face, and more\n",
    "* Identifying the layers that need tweaking\n",
    "* Freezing and unfreezing Layers\n",
    "* The small data problem\n",
    "* Fine-tuning vs full Training\n",
    "\n",
    "### Outcomes\n",
    "\n",
    "1. **Explain Transfer Learning**: Describe the concept and benefits of transfer learning for leveraging pre-trained models on new tasks.\n",
    "\n",
    "2. **Implement Model Parameter Transfer**: Apply a pre-trained model’s weights to a new problem by modifying only specific layers.\n",
    "\n",
    "3. **Optimize Training with Limited Data**: Use transfer learning techniques to improve model performance with smaller labeled datasets.\n",
    "\n",
    "4. **Adapt CNNs for New Tasks**: Fine-tune models for target datasets by adjusting layers and applying warm or frozen weights.\n",
    "\n",
    "\n",
    "### Readings and Videos\n",
    "\n",
    "* Read 13.1-13.3 in Inside Deep Learning\n",
    "* **Course Notebooks with Videos**  Open each of the notebooks included the lesson folder and watch the embedded video.  You can read along and work through the code examples as you want.  The notebooks for this lesson are in the Lesson_02 directory.  The notebooks are numbered in the order they should be used.\n",
    "\n",
    "### Assessments\n",
    "\n",
    "1.  Complete the reading quiz in Canvas (10 points).\n",
    "2.  Complete the exercises in your the homework notebook in CoCalc (40 points)."
   ]
  },
  {
   "cell_type": "code",
   "execution_count": null,
   "metadata": {
    "vscode": {
     "languageId": "plaintext"
    }
   },
   "outputs": [],
   "source": []
  },
  {
   "cell_type": "markdown",
   "metadata": {},
   "source": []
  }
 ],
 "metadata": {
  "language_info": {
   "codemirror_mode": {
    "name": "ipython",
    "version": 3
   },
   "file_extension": ".py",
   "mimetype": "text/x-python",
   "name": "python",
   "nbconvert_exporter": "python",
   "pygments_lexer": "ipython3",
   "version": "3.10.18"
  }
 },
 "nbformat": 4,
 "nbformat_minor": 2
}
