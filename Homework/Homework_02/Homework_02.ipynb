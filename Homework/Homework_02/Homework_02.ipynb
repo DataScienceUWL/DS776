{
 "cells": [
  {
   "cell_type": "markdown",
   "metadata": {},
   "source": [
    "## Homework 02\n",
    "\n",
    "In this notebook you'll explore, train, and evaluate models on the FashionMNIST dataset.  FashionMNIST was set up as a more difficult drop-in replacement for MNIST."
   ]
  },
  {
   "cell_type": "markdown",
   "metadata": {},
   "source": [
    "### Warmup\n",
    "\n",
    "Train LeNet5Rev on FashionMNIST and evaluate the performance on the test set.  Include convergence plots of loss and accuracy on the training and test data."
   ]
  },
  {
   "cell_type": "code",
   "execution_count": null,
   "metadata": {
    "vscode": {
     "languageId": "plaintext"
    }
   },
   "outputs": [],
   "source": [
    "### Improve the model\n",
    "\n",
    "Try increasing the number of convolutional layers up to six with ReLU layers.  You many need to increase\n",
    "the number of channels (but not in every layer).  Use two max pooling layers.  Kernel size can be 3 or 5\n",
    "but adjust the padding so that the convolutional layers preserve the size of the feature maps.\n",
    "\n",
    "You can also simplify the classifier.  Try a single linear layer instead of multiple linear layers\n",
    "separated by ReLU functions.\n",
    "\n",
    "You should be able to achieve about 92% accuracy on the test set.  Show convergence plots for your best model."
   ]
  },
  {
   "cell_type": "markdown",
   "metadata": {},
   "source": [
    "### Describe the things you tried \n",
    "\n",
    "Summarize the network architectures you tried.  What worked best?  What didn't help?"
   ]
  },
  {
   "cell_type": "markdown",
   "metadata": {},
   "source": []
  }
 ],
 "metadata": {
  "language_info": {
   "name": "python"
  }
 },
 "nbformat": 4,
 "nbformat_minor": 2
}
