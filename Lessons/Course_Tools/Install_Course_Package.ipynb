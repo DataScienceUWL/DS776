{
 "cells": [
  {
   "cell_type": "code",
   "execution_count": 0,
   "id": "16cd81",
   "metadata": {
    "collapsed": false
   },
   "outputs": [],
   "source": []
  },
  {
   "cell_type": "markdown",
   "id": "292d63",
   "metadata": {
    "collapsed": false
   },
   "source": [
    "## Course Tools Notebook\n",
    "\n",
    "This notebook consolidates some tools you can use for freeing up disk space and installing or updating the class `introdl` package."
   ]
  },
  {
   "cell_type": "code",
   "source": "# Environment Detection and Configuration\nimport os\nfrom pathlib import Path\n\nprint(\"🔍 Environment Configuration:\")\nprint(\"-\" * 40)\n\n# Check for DS776_ROOT_DIR\nif 'DS776_ROOT_DIR' in os.environ:\n    root_dir = Path(os.environ['DS776_ROOT_DIR'])\n    print(f\"✅ DS776_ROOT_DIR is set: {root_dir}\")\n    print(\"   Running in local development mode\")\nelse:\n    root_dir = Path.home()\n    print(f\"📚 Using default paths from: {root_dir}\")\n    print(\"   Running in student mode (CoCalc/Colab)\")\n\n# Display expected paths\nprint(\"\\n📁 Expected Course Structure:\")\nprint(f\"   Lessons:    {root_dir / 'Lessons'}\")\nprint(f\"   Homework:   {root_dir / 'Homework'}\")\nprint(f\"   Solutions:  {root_dir / 'Solutions'}\")\n\n# Check which paths exist\nprint(\"\\n✓ Path Status:\")\nfor dir_name in ['Lessons', 'Homework', 'Solutions']:\n    path = root_dir / dir_name\n    status = \"✅ Exists\" if path.exists() else \"❌ Not found\"\n    print(f\"   {dir_name}: {status}\")",
   "metadata": {},
   "execution_count": null,
   "outputs": []
  },
  {
   "cell_type": "markdown",
   "id": "e81e74",
   "metadata": {
    "collapsed": false
   },
   "source": [
    "### Update or Install Course Package\n",
    "\n",
    "Just run the following cell.  It doesn't hurt to run it even if the package is up to date.  Note, you may need to restart the kernel in this or any other notebook (if it's already running) to load the newest version of the package."
   ]
  },
  {
   "cell_type": "code",
   "execution_count": null,
   "id": "36cae2",
   "metadata": {
    "collapsed": false
   },
   "outputs": [],
   "source": "# Install or update the introdl package in editable mode\nimport sys\nimport os\nfrom pathlib import Path\n\n# Flexible path resolution\nif 'DS776_ROOT_DIR' in os.environ:\n    course_tools_path = Path(os.environ['DS776_ROOT_DIR']) / 'Lessons' / 'Course_Tools'\nelse:\n    course_tools_path = Path('~/Lessons/Course_Tools').expanduser()\n\n# Check if the introdl package exists locally\nintrodl_path = course_tools_path / 'introdl'\n\nif introdl_path.exists():\n    print(f\"📂 Found Course_Tools at: {course_tools_path}\")\n    print(f\"📦 Installing introdl in editable mode from: {introdl_path}\")\n    print(\"   (Editable mode means package updates will be reflected immediately)\\n\")\n    !pip install -e {introdl_path}\nelse:\n    print(f\"⚠️ Could not find introdl package at: {introdl_path}\")\n    print(\"   This might indicate an issue with your course setup.\")\n    print(\"   Expected structure:\")\n    print(\"   - ~/Lessons/Course_Tools/introdl/ (for CoCalc)\")\n    print(\"   - or $DS776_ROOT_DIR/Lessons/Course_Tools/introdl/ (for local dev)\")\n    print(\"\\n📦 Attempting to install from PyPI as fallback...\")\n    !pip install introdl\n\nprint(\"\\n✅ Installation complete! You may need to restart your kernel to use the updated package.\")"
  },
  {
   "cell_type": "markdown",
   "id": "57c480",
   "metadata": {
    "collapsed": false
   },
   "source": "### Freeing Up Diskspace\n\nThere are three places that have files you don't really need to save for longer than the duration of the current assignment you're completing.  These are:\n\n* **Student Models** (`~/models` or `$DS776_ROOT_DIR/models`) - Your trained model checkpoints. Be selective about what you delete here as these are your actual work.\n* **Datasets** (`~/data` or `$DS776_ROOT_DIR/data`) - Downloaded datasets like MNIST, CIFAR10, etc. These can be re-downloaded when needed.\n* **Model Cache** (`~/downloads` or `$DS776_ROOT_DIR/downloads`) - Pre-trained models from PyTorch Hub and HuggingFace. These consume the most space and can safely be cleared after assignments.\n  - PyTorch models: `downloads/hub/`\n  - HuggingFace models: `downloads/huggingface/`\n  - Datasets cache: `downloads/datasets/`\n\n**NOTE:** With the updated course package (v1.3+), all caches are centralized in the workspace directories, making cleanup easier and safer.\n\n**NOTE 2:** Removing files from these directories does not affect your Homework or Lessons folders. You can always rerun notebooks to reproduce results.</cell_parameter>\n</invoke>"
  },
  {
   "cell_type": "code",
   "source": "# Check cache usage across all storage locations\nfrom introdl.utils import check_cache_usage\n\nprint(\"📊 Checking storage usage...\")\nprint(\"=\" * 50)\ncheck_cache_usage()\nprint(\"\\n💡 Tip: Use the cleanup cells below to free up space\")",
   "metadata": {},
   "execution_count": null,
   "outputs": []
  },
  {
   "cell_type": "markdown",
   "source": "### Check Cache Usage\n\nRun this cell to see how much disk space is being used by models, datasets, and caches:",
   "metadata": {}
  },
  {
   "cell_type": "markdown",
   "id": "498ae4",
   "metadata": {
    "collapsed": false
   },
   "source": "#### Clear All Cache and Data (Full Reset)\n\n**⚠️ WARNING:** This will remove ALL cached models, datasets, and potentially your trained models. Only use this if you need to free up maximum space.\n\nIf you'd prefer to be more selective, use the \"Selective Cache Cleanup\" cell above or use the file explorer to manually remove files.\n\nRun the cell below to remove all checkpoint files, datasets, and pre-trained model weights:"
  },
  {
   "cell_type": "code",
   "source": "# Selective cache cleanup with preview mode\nfrom introdl.utils import clear_model_cache\n\n# Preview what would be deleted (dry_run=True)\nprint(\"🔍 PREVIEW MODE - Nothing will be deleted:\\n\")\nprint(\"=\" * 50)\n\n# Check what PyTorch models would be deleted\nprint(\"\\n📦 PyTorch Hub Models:\")\nclear_model_cache(\"pytorch\", dry_run=True)\n\n# Check what HuggingFace models would be deleted\nprint(\"\\n🤗 HuggingFace Models:\")\nclear_model_cache(\"huggingface\", dry_run=True)\n\n# Check what datasets would be deleted\nprint(\"\\n📊 Cached Datasets:\")\nclear_model_cache(\"datasets\", dry_run=True)\n\nprint(\"\\n\" + \"=\" * 50)\nprint(\"\\n⚠️  To actually clean, uncomment ONE of these lines:\\n\")\nprint(\"# clear_model_cache('pytorch', dry_run=False)      # Clean PyTorch models only\")\nprint(\"# clear_model_cache('huggingface', dry_run=False)  # Clean HF models only\")\nprint(\"# clear_model_cache('datasets', dry_run=False)     # Clean datasets only\")\nprint(\"# clear_model_cache('all', dry_run=False)          # Clean everything\")\nprint(\"\\n💡 After cleaning, you can re-run notebooks to re-download needed models\")",
   "metadata": {},
   "execution_count": null,
   "outputs": []
  },
  {
   "cell_type": "markdown",
   "source": "### Selective Cache Cleanup\n\nUse this cell to selectively clean different types of cached data. The dry_run mode lets you preview what will be deleted without actually removing files:",
   "metadata": {}
  },
  {
   "cell_type": "code",
   "execution_count": 2,
   "id": "c52a93",
   "metadata": {
    "collapsed": false
   },
   "outputs": [
    {
     "name": "stdout",
     "output_type": "stream",
     "text": [
      "Cleared all contents inside: /home/user/home_workspace\n",
      "Created: /home/user/home_workspace/data\n",
      "Created: /home/user/home_workspace/downloads\n",
      "Created: /home/user/home_workspace/models\n"
     ]
    }
   ],
   "source": [
    "import os\n",
    "from pathlib import Path\n",
    "\n",
    "# Resolve the full path to ~/home_workspace\n",
    "workspace_path = Path(\"~/home_workspace\").expanduser().resolve()\n",
    "\n",
    "# Ensure the directory exists before proceeding\n",
    "if workspace_path.exists() and workspace_path.is_dir():\n",
    "    # Remove all contents inside ~/home_workspace using os commands\n",
    "    for item in workspace_path.iterdir():\n",
    "        item_path = str(item)  # Convert Path to string for os commands\n",
    "        if item.is_file():\n",
    "            os.remove(item_path)  # Remove file\n",
    "        elif item.is_dir():\n",
    "            os.system(f\"rm -rf {item_path}\")  # Remove directory and its contents\n",
    "\n",
    "    print(f\"Cleared all contents inside: {workspace_path}\")\n",
    "\n",
    "    # Create new subdirectories using os\n",
    "    for subdir in [\"data\", \"downloads\", \"models\"]:\n",
    "        new_dir = workspace_path / subdir\n",
    "        os.makedirs(new_dir, exist_ok=True)\n",
    "        print(f\"Created: {new_dir}\")\n",
    "\n",
    "else:\n",
    "    print(f\"Directory does not exist: {workspace_path}\")\n"
   ]
  },
  {
   "cell_type": "markdown",
   "id": "881b4a",
   "metadata": {
    "collapsed": false
   },
   "source": [
    "#### Clear cs_workspace (must be on compute server)\n",
    "\n",
    "This works the same as clearing home_workspace, but you must run this code on each compute server because this folder is not synced between servers.  Again you can be more selective by using Explorer running on the compute server.  The only files use should consider keeping are checkpoint files save in home_workspace/models.  Everything else is easily downloaded when needed.\n",
    "\n",
    "Run the cell below to remove all the checkpoint files, datasets, pre-trained model weights, and also restore the original directory structure in cs_workspace.  You can run this code from either the home server or a compute server. "
   ]
  },
  {
   "cell_type": "code",
   "execution_count": 3,
   "id": "135c2e",
   "metadata": {
    "collapsed": false
   },
   "outputs": [
    {
     "name": "stdout",
     "output_type": "stream",
     "text": [
      "Cleared all contents inside: /home/user/cs_workspace\n",
      "Created: /home/user/cs_workspace/data\n",
      "Created: /home/user/cs_workspace/downloads\n",
      "Created: /home/user/cs_workspace/models\n"
     ]
    }
   ],
   "source": [
    "import os\n",
    "from pathlib import Path\n",
    "\n",
    "# Resolve the full path to ~/home_workspace\n",
    "workspace_path = Path(\"~/cs_workspace\").expanduser().resolve()\n",
    "\n",
    "# Ensure the directory exists before proceeding\n",
    "if workspace_path.exists() and workspace_path.is_dir():\n",
    "    # Remove all contents inside ~/home_workspace using os commands\n",
    "    for item in workspace_path.iterdir():\n",
    "        item_path = str(item)  # Convert Path to string for os commands\n",
    "        if item.is_file():\n",
    "            os.remove(item_path)  # Remove file\n",
    "        elif item.is_dir():\n",
    "            os.system(f\"rm -rf {item_path}\")  # Remove directory and its contents\n",
    "\n",
    "    print(f\"Cleared all contents inside: {workspace_path}\")\n",
    "\n",
    "    # Create new subdirectories using os\n",
    "    for subdir in [\"data\", \"downloads\", \"models\"]:\n",
    "        new_dir = workspace_path / subdir\n",
    "        os.makedirs(new_dir, exist_ok=True)\n",
    "        print(f\"Created: {new_dir}\")\n",
    "\n",
    "else:\n",
    "    print(f\"Directory does not exist: {workspace_path}\")\n"
   ]
  },
  {
   "cell_type": "markdown",
   "id": "aa9809",
   "metadata": {
    "collapsed": false
   },
   "source": [
    "#### Clear the Hugging Face Cache\n",
    "\n",
    "Run the cell below.  Be careful about making changes to the path because you don't want to accidentally delete the wrong files. (It's permanent.)  Even if you update the course package so the cache is in one of your workspace directories, this will remove any older cached models."
   ]
  },
  {
   "cell_type": "code",
   "execution_count": 1,
   "id": "d5daf1",
   "metadata": {
    "collapsed": false
   },
   "outputs": [
    {
     "name": "stdout",
     "output_type": "stream",
     "text": [
      "Removed: /home/user/.cache/huggingface/hub\n"
     ]
    }
   ],
   "source": [
    "import os\n",
    "from pathlib import Path\n",
    "\n",
    "# Resolve the full path\n",
    "folder_path = Path(\"~/.cache/huggingface/hub\").expanduser().resolve()\n",
    "\n",
    "# Ensure the folder exists before attempting deletion\n",
    "if folder_path.exists():\n",
    "    os.system(f\"rm -rf {folder_path}\")\n",
    "    print(f\"Removed: {folder_path}\")\n",
    "else:\n",
    "    print(f\"Folder does not exist: {folder_path}\")\n"
   ]
  },
  {
   "cell_type": "markdown",
   "id": "abb89c",
   "metadata": {
    "collapsed": false
   },
   "source": [
    "#### Remove Datasets and Models from Other Folders\n",
    "\n",
    "Use the Explorer on either a home or compute server and look for datasets or model files.  You can delete these.  Running your notebook again will download the necessary files.  For example, many of you created copies of the Flowers102 dataset in your Homework_05 folder (use DATA_PATH as the root directory for all torchvision datasets).  You can delete those copies."
   ]
  },
  {
   "cell_type": "markdown",
   "id": "98dfca",
   "metadata": {
    "collapsed": false
   },
   "source": [
    "### Reset Your Compute Server\n",
    "\n",
    "* Click the servers button on the left side of CoCalc.\n",
    "* Click the Compute Servers tab\n",
    "* Click settings on the computer server you wish to reset.\n",
    "* Click Deprovision at the bottom of the popup window and agree to terms.\n",
    "* Restart the server.  Wait several minutes.\n",
    "* Make sure this notebook is running on the compute server (use the button at the top labeled Server).\n",
    "* Run the cell at the top of the notebook to reinstall the course package."
   ]
  },
  {
   "cell_type": "code",
   "execution_count": 0,
   "id": "1e7d78",
   "metadata": {
    "collapsed": false
   },
   "outputs": [],
   "source": []
  }
 ],
 "metadata": {
  "kernelspec": {
   "argv": [
    "/usr/bin/python3",
    "-m",
    "ipykernel",
    "--HistoryManager.enabled=False",
    "--matplotlib=inline",
    "-c",
    "%config InlineBackend.figure_formats = set(['retina'])\nimport matplotlib; matplotlib.rcParams['figure.figsize'] = (12, 7)",
    "-f",
    "{connection_file}"
   ],
   "display_name": "Python 3 (system-wide)",
   "env": {},
   "language": "python",
   "metadata": {
    "cocalc": {
     "description": "Python 3 programming language",
     "priority": 100,
     "url": "https://www.python.org/"
    }
   },
   "name": "python3",
   "resource_dir": "/ext/jupyter/kernels/python3"
  },
  "language_info": {
   "codemirror_mode": {
    "name": "ipython",
    "version": 3
   },
   "file_extension": ".py",
   "mimetype": "text/x-python",
   "name": "python",
   "nbconvert_exporter": "python",
   "pygments_lexer": "ipython3",
   "version": "3.10.12"
  }
 },
 "nbformat": 4,
 "nbformat_minor": 4
}