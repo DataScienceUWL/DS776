{
 "cells": [
  {
   "cell_type": "markdown",
   "metadata": {},
   "source": [
    "Here's a suggested structure for your exercise:\n",
    "\n",
    "---\n",
    "\n",
    "### **Exercise: Understanding Residual Connections**\n",
    "\n",
    "#### **Objective**\n",
    "- To demonstrate how residual connections can improve the training of very deep neural networks.\n",
    "\n",
    "#### **Dataset**\n",
    "- Use either MNIST or FashionMNIST.\n",
    "\n",
    "#### **Steps**\n",
    "\n",
    "1. **Baseline Model Without Residual Connections**\n",
    "   - Create a fully connected network with 10+ layers (e.g., each layer has 256 neurons and ReLU activations).\n",
    "   - Train the model for 10 epochs using a learning rate of 0.001 and SGD/Adam optimizer.\n",
    "   - Evaluate and visualize:\n",
    "     - Training loss over epochs.\n",
    "     - Validation accuracy over epochs.\n",
    "\n",
    "   **Expected Outcome:** The model should exhibit difficulty in converging due to vanishing/exploding gradients.\n",
    "\n",
    "2. **Introduce Residual Connections**\n",
    "   - Modify the network to include residual connections between every two layers (or groups of two layers):\n",
    "     \\[\n",
    "     x_{l+2} = x_{l+2} + x_l\n",
    "     \\]\n",
    "     - Ensure the input dimensions of the skip connection match the output dimensions of the layers (use linear layers if necessary).\n",
    "\n",
    "3. **Train the Residual Network**\n",
    "   - Use the same training setup (learning rate, optimizer, and number of epochs) as in Step 1.\n",
    "   - Evaluate and visualize:\n",
    "     - Training loss over epochs.\n",
    "     - Validation accuracy over epochs.\n",
    "\n",
    "   **Expected Outcome:** The residual network should converge faster and achieve better accuracy.\n",
    "\n",
    "#### **Deliverables**\n",
    "- Plots comparing training loss and validation accuracy for the non-residual and residual networks.\n",
    "- A short explanation of why residual connections improve training.\n",
    "\n",
    "#### **Key Discussion Points**\n",
    "- What causes the deep network without residual connections to fail? (e.g., vanishing/exploding gradients, difficulty in learning identity mappings)\n",
    "- How do residual connections address these issues?\n",
    "\n",
    "---\n",
    "\n",
    "This exercise provides a hands-on way for students to observe the practical benefits of residual connections, grounding the theory in a simple, relatable example. Would you like help with specific implementation code?"
   ]
  },
  {
   "cell_type": "markdown",
   "metadata": {},
   "source": [
    "DeepCNNwBNRes: Double the number of channels in each of the convolutional blocks and adjust the fully connect layer appropriately.  Train on CIFAR10.  Plot metrics.  Does it to do better than the smaller version in the lesson?  How much larger is the network in terms of parameters?"
   ]
  },
  {
   "cell_type": "markdown",
   "metadata": {},
   "source": [
    "Consider the model Resnet9.  \n",
    "* Draw a picture showing how the first residual block is setup here.  It should be similar to the pictures in the lesson, but can be hand drawn and included in your notebook.  (I used drawio to make those pictures)\n",
    "* Use a OneCycleLR with AdamW and train_network to train Resnet9 on CIFAR10.  You should only need 10 epochs.  You may have to experiment a little.\n",
    "\n",
    "Resnet9 is in the file resnet9.py.  You can import the model and create an instance of it like this:\n",
    "\n",
    "```python\n",
    "from resnet9 import ResNet9\n",
    "model = ResNet9(3,10) # input channels, num classes\n",
    "```"
   ]
  }
 ],
 "metadata": {
  "kernelspec": {
   "display_name": "DS776_env",
   "language": "python",
   "name": "python3"
  },
  "language_info": {
   "codemirror_mode": {
    "name": "ipython",
    "version": 3
   },
   "file_extension": ".py",
   "mimetype": "text/x-python",
   "name": "python",
   "nbconvert_exporter": "python",
   "pygments_lexer": "ipython3",
   "version": "3.11.10"
  }
 },
 "nbformat": 4,
 "nbformat_minor": 2
}
