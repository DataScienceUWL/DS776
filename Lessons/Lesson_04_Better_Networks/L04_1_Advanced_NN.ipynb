{
 "cells": [
  {
   "cell_type": "code",
   "source": "# DS776 Auto-Update (runs in ~2 seconds, only updates when needed)\n# If this cell fails, see Lessons/Course_Tools/AUTO_UPDATE_SYSTEM.md for help\n%run ../Course_Tools/auto_update_introdl.py",
   "metadata": {},
   "execution_count": null,
   "outputs": []
  },
  {
   "cell_type": "code",
   "execution_count": 1,
   "metadata": {
    "execution": {
     "iopub.execute_input": "2025-08-26T00:17:07.128348Z",
     "iopub.status.busy": "2025-08-26T00:17:07.128163Z",
     "iopub.status.idle": "2025-08-26T00:17:11.253040Z",
     "shell.execute_reply": "2025-08-26T00:17:11.252236Z"
    }
   },
   "outputs": [
    {
     "name": "stdout",
     "output_type": "stream",
     "text": [
      "✅ Environment: Unknown Environment | Course root: /mnt/e/GDrive_baggett.jeff/Teaching/Classes_current/2025-2026_Fall_DS776/DS776\n",
      "   Using workspace: <DS776_ROOT_DIR>/home_workspace\n",
      "\n",
      "📂 Storage Configuration:\n",
      "   DATA_PATH: <DS776_ROOT_DIR>/home_workspace/data\n",
      "   MODELS_PATH: <DS776_ROOT_DIR>/Lessons/Lesson_04_Better_Networks/Lesson_04_Models (local to this notebook)\n",
      "   CACHE_PATH: <DS776_ROOT_DIR>/home_workspace/downloads\n",
      "📦 introdl v1.4.1 ready\n",
      "\n"
     ]
    }
   ],
   "source": [
    "# imports and configuration\n",
    "\n",
    "import numpy as np\n",
    "import seaborn as sns\n",
    "import matplotlib.pyplot as plt\n",
    "\n",
    "from sklearn.metrics import accuracy_score\n",
    "\n",
    "import torch\n",
    "import torch.nn as nn\n",
    "import torch.nn.functional as F\n",
    "import torch.optim as optim\n",
    "from torch.optim.lr_scheduler import OneCycleLR\n",
    "\n",
    "from introdl.utils import get_device, load_results, summarizer, create_CIFAR10_loaders, config_paths_keys\n",
    "from introdl.idlmam import train_network\n",
    "from introdl.visul import plot_training_metrics\n",
    "\n",
    "sns.set_theme(style='whitegrid')\n",
    "plt.rcParams['figure.figsize'] = [8, 6]  # Set the default figure size (width, height) in inches\n",
    "\n",
    "paths = config_paths_keys()\n",
    "MODELS_PATH = paths['MODELS_PATH']\n",
    "DATA_PATH = paths['DATA_PATH']"
   ]
  },
  {
   "cell_type": "markdown",
   "metadata": {},
   "source": [
    "# Advanced Neural Network Design\n",
    "\n",
    "Our simple CNN on CIFAR-10 maxed out around 78% accuracy on the validation data, but this result shows that there's room to improve by capturing more complex patterns in the data. As tasks become more challenging—like recognizing subtle image details or intricate patterns—simple models often can’t reach high accuracy. They don’t have the capacity to learn advanced features or abstractions needed to handle the full complexity of the data.\n",
    "\n",
    "Making networks deeper rather than wider helps tackle this. With more layers, a network can build on the features learned in previous layers to recognize higher-level concepts. For example, in an image, early layers might detect edges, while deeper layers recognize shapes or specific objects. Wider networks, on the other hand, add parameters but usually capture only limited higher-level representations. They lack the sequential refinement that deeper networks achieve, which allows each layer to improve on the previous one.\n",
    "\n",
    "As we make networks deeper, however, they become harder to train effectively. To address this, we use modern techniques like batch normalization and residual connections. These methods help manage issues that arise with depth, such as vanishing gradients, allowing deep networks to learn complex patterns more reliably and efficiently.\n",
    "\n",
    "In this notebook we'll start with a deeper network applied to CIFAR-10 and progressively add batch normalization and residual connections to make it easier to train.  "
   ]
  },
  {
   "cell_type": "markdown",
   "metadata": {},
   "source": [
    "## Using Repeating Blocks and Layers\n",
    "\n",
    "CNNs often use **repeating blocks and layers** to help the network gradually learn complex patterns from simple to abstract, while keeping the model structure organized and efficient. Here’s a breakdown of why this approach is effective:\n",
    "\n",
    "1. **Hierarchical Feature Learning**:\n",
    "   - Early layers in the network learn basic features like edges and textures.\n",
    "   - As you stack more layers, each one builds on the previous, learning increasingly complex patterns like shapes, and eventually, full objects.\n",
    "   - Repeating blocks help the network capture this hierarchy of features across many levels.\n",
    "\n",
    "2. **Increased Depth Without Complexity**:\n",
    "   - Instead of creating a unique setup for each layer, repeating blocks allow us to use the same small structure multiple times, simplifying the design while still making the network deeper.\n",
    "   - This depth is essential for learning more abstract and nuanced features, which improves the model’s ability to understand complex patterns.\n",
    "\n",
    "3. **Efficiency and Reusability**:\n",
    "   - Using repeated blocks makes the network easier to design and adjust, as you can reuse the same structure without adding unnecessary complexity.\n",
    "   - It also helps with computational efficiency and keeps the model structure manageable, as the same operations are applied across different stages.\n",
    "\n",
    "4. **Consistency in Pattern Extraction**:\n",
    "   - Repeating layers help the model consistently extract similar types of information across the image. For instance, each block might look for edges, colors, or shapes in different parts of the image.\n",
    "   - This repetition strengthens the network’s ability to recognize these patterns anywhere in the image, making the model more robust to variations in the input.\n",
    "\n",
    "Now we'll show how to use this strategy to build a deeper CNN that we'll then apply to CIFAR-10 classification.\n",
    "\n",
    "### PlainDeepCNN\n",
    "\n",
    "#### L04_1_PlainDeepCNN_Overview Video\n",
    "\n",
    "<iframe \n",
    "    src=\"https://media.uwex.edu/content/ds/ds776/ds776_l04_1_plaindeepcnn_overview/\" \n",
    "    width=\"800\" \n",
    "    height=\"450\" \n",
    "    style=\"border: 5px solid cyan;\"  \n",
    "    allowfullscreen>\n",
    "</iframe>\n",
    "<br>\n",
    "<a href=\"https://media.uwex.edu/content/ds/ds776/ds776_l04_1_plaindeepcnn_overview/\" target=\"_blank\">Open UWEX version of video in new tab</a>\n",
    "<br>\n",
    "<a href=\"https://share.descript.com/view/lJDYkYau8Xm\" target=\"_blank\">Open Descript version of video in new tab</a>\n",
    "\n",
    "<hr>\n",
    "\n",
    "We'll show how to build the `PlainDeepCNN` architecture in a hierarchical way using \"blocks\" and \"layers\".  Ultimately our model will have 16 convolutional layers followed by ReLU activation functions plus a few more layers.  \n",
    "\n",
    "#### Step 1: Setup a Block\n",
    "In a deep CNN, it’s common to have multiple convolutional layers working together. To simplify our model's organization, we group two convolutional layers into a \"block.\" Each block will:\n",
    "1. Apply a convolution to the input.\n",
    "2. Use a ReLU activation function to add non-linearity.\n",
    "3. Apply another convolution and ReLU.\n",
    "\n",
    "Think of each block as a \"mini-CNN\" that extracts features at a given depth.\n",
    "\n",
    "Here’s the code for our `SimpleBlock`:\n",
    "\n",
    "```python\n",
    "class SimpleBlock(nn.Module):\n",
    "    \"\"\"A block with two convolutional layers.\"\"\"\n",
    "    def __init__(self, in_channels, out_channels, stride=1):\n",
    "        super(SimpleBlock, self).__init__()\n",
    "        self.conv1 = nn.Conv2d(in_channels, out_channels, kernel_size=3, stride=stride, padding=1)\n",
    "        self.conv2 = nn.Conv2d(out_channels, out_channels, kernel_size=3, stride=1, padding=1)\n",
    "\n",
    "    def forward(self, x):\n",
    "        x = F.relu(self.conv1(x))\n",
    "        x = F.relu(self.conv2(x))\n",
    "        return x\n",
    "```"
   ]
  },
  {
   "cell_type": "markdown",
   "metadata": {},
   "source": [
    "\n",
    "\n",
    "Each `SimpleBlock` is set up to use **two convolutional layers** and apply a ReLU activation function after each.\n",
    "\n",
    "#### Step 2: Build Layers from Blocks\n",
    "In our main model, we want to deepen the network, adding layers that process the image at different resolutions. Each of these layers will be created using multiple `SimpleBlock` instances.\n",
    "\n",
    "The `PlainDeepCNN` class uses a `_make_layer` method to construct a layer with a specified number of `SimpleBlock` blocks, and it repeats this process for four layers, increasing the channels at each stage (16, 32, 64, and 128).\n",
    "\n",
    "```python\n",
    "def _make_layer(self, out_channels, blocks, stride):\n",
    "    layers = []\n",
    "    layers.append(SimpleBlock(self.in_channels, out_channels, stride))\n",
    "    self.in_channels = out_channels\n",
    "    for _ in range(1, blocks):\n",
    "        layers.append(SimpleBlock(out_channels, out_channels))\n",
    "    return nn.Sequential(*layers)\n",
    "```"
   ]
  },
  {
   "cell_type": "markdown",
   "metadata": {},
   "source": [
    "\n",
    "\n",
    "In this function:\n",
    "- `out_channels` specifies how many filters each `SimpleBlock` in the layer will have.\n",
    "- `blocks` defines the number of `SimpleBlock` blocks in the layer.\n",
    "- `stride` controls downsampling for the first block in each layer, reducing the spatial dimensions of the feature maps.\n",
    "\n",
    "#### Step 3: Putting It All Together\n",
    "The `PlainDeepCNN` model uses four main layers, each generated by `_make_layer`, and adds a fully connected layer at the end to output class predictions.\n",
    "\n",
    "Here’s the whole model class.  We also include the earlier code for convenience:"
   ]
  },
  {
   "cell_type": "code",
   "execution_count": 2,
   "metadata": {
    "execution": {
     "iopub.execute_input": "2025-08-26T00:17:11.255092Z",
     "iopub.status.busy": "2025-08-26T00:17:11.254888Z",
     "iopub.status.idle": "2025-08-26T00:17:11.261374Z",
     "shell.execute_reply": "2025-08-26T00:17:11.260708Z"
    }
   },
   "outputs": [],
   "source": [
    "class SimpleBlock(nn.Module):\n",
    "    \"\"\"A block with two convolutional layers.\"\"\"\n",
    "    def __init__(self, in_channels, out_channels, stride=1):\n",
    "        super(SimpleBlock, self).__init__()\n",
    "        self.conv1 = nn.Conv2d(in_channels, out_channels, kernel_size=3, stride=stride, padding=1)\n",
    "        self.conv2 = nn.Conv2d(out_channels, out_channels, kernel_size=3, stride=1, padding=1)\n",
    "\n",
    "    def forward(self, x):\n",
    "        x = F.relu(self.conv1(x))\n",
    "        x = F.relu(self.conv2(x))\n",
    "        return x\n",
    "\n",
    "class PlainDeepCNN(nn.Module):\n",
    "    def __init__(self, num_classes=10):\n",
    "        super(PlainDeepCNN, self).__init__()\n",
    "        self.in_channels = 16\n",
    "        self.conv1 = nn.Conv2d(3, self.in_channels, kernel_size=3, stride=1, padding=1)\n",
    "        \n",
    "        # Four layers with increasing depth\n",
    "        self.layer1 = self._make_layer(16, 2, stride=1)\n",
    "        self.layer2 = self._make_layer(32, 2, stride=2)\n",
    "        self.layer3 = self._make_layer(64, 2, stride=2)\n",
    "        self.layer4 = self._make_layer(128, 2, stride=2)\n",
    "        \n",
    "        self.fc = nn.Linear(128, num_classes)\n",
    "\n",
    "    def forward(self, x):\n",
    "        x = F.relu(self.conv1(x))\n",
    "        x = self.layer1(x)\n",
    "        x = self.layer2(x)\n",
    "        x = self.layer3(x)\n",
    "        x = self.layer4(x)\n",
    "        x = F.avg_pool2d(x, x.size(3))\n",
    "        x = x.view(x.size(0), -1)\n",
    "        x = self.fc(x)\n",
    "        return x\n",
    "    \n",
    "    def _make_layer(self, out_channels, blocks, stride):\n",
    "        layers = []\n",
    "        layers.append(SimpleBlock(self.in_channels, out_channels, stride))\n",
    "        self.in_channels = out_channels\n",
    "        for _ in range(1, blocks):\n",
    "            layers.append(SimpleBlock(out_channels, out_channels))\n",
    "        return nn.Sequential(*layers)"
   ]
  },
  {
   "cell_type": "markdown",
   "metadata": {},
   "source": [
    "Now we'll create an instance of the model and view it to see the overall structure."
   ]
  },
  {
   "cell_type": "code",
   "execution_count": 3,
   "metadata": {
    "execution": {
     "iopub.execute_input": "2025-08-26T00:17:11.262991Z",
     "iopub.status.busy": "2025-08-26T00:17:11.262816Z",
     "iopub.status.idle": "2025-08-26T00:17:11.273950Z",
     "shell.execute_reply": "2025-08-26T00:17:11.273118Z"
    }
   },
   "outputs": [
    {
     "data": {
      "text/plain": [
       "PlainDeepCNN(\n",
       "  (conv1): Conv2d(3, 16, kernel_size=(3, 3), stride=(1, 1), padding=(1, 1))\n",
       "  (layer1): Sequential(\n",
       "    (0): SimpleBlock(\n",
       "      (conv1): Conv2d(16, 16, kernel_size=(3, 3), stride=(1, 1), padding=(1, 1))\n",
       "      (conv2): Conv2d(16, 16, kernel_size=(3, 3), stride=(1, 1), padding=(1, 1))\n",
       "    )\n",
       "    (1): SimpleBlock(\n",
       "      (conv1): Conv2d(16, 16, kernel_size=(3, 3), stride=(1, 1), padding=(1, 1))\n",
       "      (conv2): Conv2d(16, 16, kernel_size=(3, 3), stride=(1, 1), padding=(1, 1))\n",
       "    )\n",
       "  )\n",
       "  (layer2): Sequential(\n",
       "    (0): SimpleBlock(\n",
       "      (conv1): Conv2d(16, 32, kernel_size=(3, 3), stride=(2, 2), padding=(1, 1))\n",
       "      (conv2): Conv2d(32, 32, kernel_size=(3, 3), stride=(1, 1), padding=(1, 1))\n",
       "    )\n",
       "    (1): SimpleBlock(\n",
       "      (conv1): Conv2d(32, 32, kernel_size=(3, 3), stride=(1, 1), padding=(1, 1))\n",
       "      (conv2): Conv2d(32, 32, kernel_size=(3, 3), stride=(1, 1), padding=(1, 1))\n",
       "    )\n",
       "  )\n",
       "  (layer3): Sequential(\n",
       "    (0): SimpleBlock(\n",
       "      (conv1): Conv2d(32, 64, kernel_size=(3, 3), stride=(2, 2), padding=(1, 1))\n",
       "      (conv2): Conv2d(64, 64, kernel_size=(3, 3), stride=(1, 1), padding=(1, 1))\n",
       "    )\n",
       "    (1): SimpleBlock(\n",
       "      (conv1): Conv2d(64, 64, kernel_size=(3, 3), stride=(1, 1), padding=(1, 1))\n",
       "      (conv2): Conv2d(64, 64, kernel_size=(3, 3), stride=(1, 1), padding=(1, 1))\n",
       "    )\n",
       "  )\n",
       "  (layer4): Sequential(\n",
       "    (0): SimpleBlock(\n",
       "      (conv1): Conv2d(64, 128, kernel_size=(3, 3), stride=(2, 2), padding=(1, 1))\n",
       "      (conv2): Conv2d(128, 128, kernel_size=(3, 3), stride=(1, 1), padding=(1, 1))\n",
       "    )\n",
       "    (1): SimpleBlock(\n",
       "      (conv1): Conv2d(128, 128, kernel_size=(3, 3), stride=(1, 1), padding=(1, 1))\n",
       "      (conv2): Conv2d(128, 128, kernel_size=(3, 3), stride=(1, 1), padding=(1, 1))\n",
       "    )\n",
       "  )\n",
       "  (fc): Linear(in_features=128, out_features=10, bias=True)\n",
       ")"
      ]
     },
     "execution_count": 3,
     "metadata": {},
     "output_type": "execute_result"
    }
   ],
   "source": [
    "model = PlainDeepCNN()\n",
    "model"
   ]
  },
  {
   "cell_type": "markdown",
   "metadata": {},
   "source": [
    "Let's also look at a summary from torchinfo to see how the resolution of the input images change as they move through the network and to see how many parameters our model has."
   ]
  },
  {
   "cell_type": "code",
   "execution_count": 4,
   "metadata": {
    "execution": {
     "iopub.execute_input": "2025-08-26T00:17:11.276321Z",
     "iopub.status.busy": "2025-08-26T00:17:11.276142Z",
     "iopub.status.idle": "2025-08-26T00:17:12.083857Z",
     "shell.execute_reply": "2025-08-26T00:17:12.082951Z"
    }
   },
   "outputs": [
    {
     "name": "stdout",
     "output_type": "stream",
     "text": [
      "====================================================================================================\n",
      "Layer (type (var_name))                  Input Shape          Output Shape         Param #\n",
      "====================================================================================================\n",
      "PlainDeepCNN (PlainDeepCNN)              [1, 3, 32, 32]       [1, 10]              --\n",
      "├─Conv2d (conv1)                         [1, 3, 32, 32]       [1, 16, 32, 32]      448\n",
      "├─Sequential (layer1)                    [1, 16, 32, 32]      [1, 16, 32, 32]      --\n",
      "│    └─SimpleBlock (0)                   [1, 16, 32, 32]      [1, 16, 32, 32]      --\n",
      "│    │    └─Conv2d (conv1)               [1, 16, 32, 32]      [1, 16, 32, 32]      2,320\n",
      "│    │    └─Conv2d (conv2)               [1, 16, 32, 32]      [1, 16, 32, 32]      2,320\n",
      "│    └─SimpleBlock (1)                   [1, 16, 32, 32]      [1, 16, 32, 32]      --\n",
      "│    │    └─Conv2d (conv1)               [1, 16, 32, 32]      [1, 16, 32, 32]      2,320\n",
      "│    │    └─Conv2d (conv2)               [1, 16, 32, 32]      [1, 16, 32, 32]      2,320\n",
      "├─Sequential (layer2)                    [1, 16, 32, 32]      [1, 32, 16, 16]      --\n",
      "│    └─SimpleBlock (0)                   [1, 16, 32, 32]      [1, 32, 16, 16]      --\n",
      "│    │    └─Conv2d (conv1)               [1, 16, 32, 32]      [1, 32, 16, 16]      4,640\n",
      "│    │    └─Conv2d (conv2)               [1, 32, 16, 16]      [1, 32, 16, 16]      9,248\n",
      "│    └─SimpleBlock (1)                   [1, 32, 16, 16]      [1, 32, 16, 16]      --\n",
      "│    │    └─Conv2d (conv1)               [1, 32, 16, 16]      [1, 32, 16, 16]      9,248\n",
      "│    │    └─Conv2d (conv2)               [1, 32, 16, 16]      [1, 32, 16, 16]      9,248\n",
      "├─Sequential (layer3)                    [1, 32, 16, 16]      [1, 64, 8, 8]        --\n",
      "│    └─SimpleBlock (0)                   [1, 32, 16, 16]      [1, 64, 8, 8]        --\n",
      "│    │    └─Conv2d (conv1)               [1, 32, 16, 16]      [1, 64, 8, 8]        18,496\n",
      "│    │    └─Conv2d (conv2)               [1, 64, 8, 8]        [1, 64, 8, 8]        36,928\n",
      "│    └─SimpleBlock (1)                   [1, 64, 8, 8]        [1, 64, 8, 8]        --\n",
      "│    │    └─Conv2d (conv1)               [1, 64, 8, 8]        [1, 64, 8, 8]        36,928\n",
      "│    │    └─Conv2d (conv2)               [1, 64, 8, 8]        [1, 64, 8, 8]        36,928\n",
      "├─Sequential (layer4)                    [1, 64, 8, 8]        [1, 128, 4, 4]       --\n",
      "│    └─SimpleBlock (0)                   [1, 64, 8, 8]        [1, 128, 4, 4]       --\n",
      "│    │    └─Conv2d (conv1)               [1, 64, 8, 8]        [1, 128, 4, 4]       73,856\n",
      "│    │    └─Conv2d (conv2)               [1, 128, 4, 4]       [1, 128, 4, 4]       147,584\n",
      "│    └─SimpleBlock (1)                   [1, 128, 4, 4]       [1, 128, 4, 4]       --\n",
      "│    │    └─Conv2d (conv1)               [1, 128, 4, 4]       [1, 128, 4, 4]       147,584\n",
      "│    │    └─Conv2d (conv2)               [1, 128, 4, 4]       [1, 128, 4, 4]       147,584\n",
      "├─Linear (fc)                            [1, 128]             [1, 10]              1,290\n",
      "====================================================================================================\n",
      "Total params: 689,290\n",
      "Trainable params: 689,290\n",
      "Non-trainable params: 0\n",
      "Total mult-adds (M): 34.79\n",
      "====================================================================================================\n",
      "Input size (MB): 0.01\n",
      "Forward/backward pass size (MB): 1.11\n",
      "Params size (MB): 2.76\n",
      "Estimated Total Size (MB): 3.88\n",
      "====================================================================================================\n"
     ]
    }
   ],
   "source": [
    "summarizer( model, input_size = (1,3,32,32) ) # using a batch size of 1 CIFAR-10 image"
   ]
  },
  {
   "cell_type": "markdown",
   "metadata": {},
   "source": [
    "Now let's see if the increased complexity pays off by training the model to classify the CIFAR-10 images. We'll reuse the code from Lesson 3 to get our DataLoaders for CIFAR10."
   ]
  },
  {
   "cell_type": "code",
   "execution_count": 5,
   "metadata": {
    "execution": {
     "iopub.execute_input": "2025-08-26T00:17:12.085767Z",
     "iopub.status.busy": "2025-08-26T00:17:12.085578Z",
     "iopub.status.idle": "2025-08-26T00:17:21.792235Z",
     "shell.execute_reply": "2025-08-26T00:17:21.791224Z"
    }
   },
   "outputs": [],
   "source": [
    "train_loader, valid_loader, _ = create_CIFAR10_loaders(data_dir=DATA_PATH, \n",
    "                                                       use_augmentation=True, \n",
    "                                                       num_workers=4)"
   ]
  },
  {
   "cell_type": "markdown",
   "metadata": {},
   "source": [
    "The code to train this model is below.  The depth of the network makes it difficult to train.  Here are some things we tried:\n",
    "* One_cycle training with 20 epochs and max_lr = 0.01.  The network didn't learn.\n",
    "* No scheduler and 20 epochs with `lr=0.001` again failed to learn.  It seems like the learning rate is too high.\n",
    "* Reduced the learning rate to `lr=0.0001` and trained for 40 epochs.  Resumed training for another 40 epochs.  The results are below, but it's still not entirely converged.   \n",
    "\n",
    "#### L04_1_Training_PlainDeepCNN Video\n",
    "\n",
    "Here we discuss why this network is difficult to train:\n",
    "\n",
    "<iframe \n",
    "    src=\"https://media.uwex.edu/content/ds/ds776/ds776_l04_1_training_plaindeepcnn/\" \n",
    "    width=\"800\" \n",
    "    height=\"450\" \n",
    "    style=\"border: 5px solid cyan;\"  \n",
    "    allowfullscreen>\n",
    "</iframe>\n",
    "<br>\n",
    "<a href=\"https://media.uwex.edu/content/ds/ds776/ds776_l04_1_training_plaindeepcnn/\" target=\"_blank\">Open UWEX version of video in new tab</a>\n",
    "<br>\n",
    "<a href=\"https://share.descript.com/view/hPnxecBQWTX\" target=\"_blank\">Open Descript version of video in new tab</a>\n",
    "<hr>"
   ]
  },
  {
   "cell_type": "code",
   "execution_count": 6,
   "metadata": {
    "execution": {
     "iopub.execute_input": "2025-08-26T00:17:21.794864Z",
     "iopub.status.busy": "2025-08-26T00:17:21.794590Z",
     "iopub.status.idle": "2025-08-26T00:17:27.066422Z",
     "shell.execute_reply": "2025-08-26T00:17:27.065587Z"
    }
   },
   "outputs": [
    {
     "name": "stdout",
     "output_type": "stream",
     "text": [
      "cuda\n"
     ]
    },
    {
     "data": {
      "application/vnd.jupyter.widget-view+json": {
       "model_id": "f045360652b044238ff020e9c1dcbb6c",
       "version_major": 2,
       "version_minor": 0
      },
      "text/plain": [
       "Pretend Training:   0%|          | 0/40 [00:00<?, ?it/s]"
      ]
     },
     "metadata": {},
     "output_type": "display_data"
    }
   ],
   "source": [
    "model = PlainDeepCNN() # create a new instance of the model\n",
    "loss_func = nn.CrossEntropyLoss()\n",
    "optimizer = optim.AdamW(model.parameters(),lr=0.0001)\n",
    "\n",
    "epochs = 40\n",
    "\n",
    "device = get_device()\n",
    "print(device)\n",
    "\n",
    "ckpt_file = MODELS_PATH / 'L04_CIFAR10_PlainDeepCNN.pt'\n",
    "\n",
    "score_funcs = {'ACC':accuracy_score}\n",
    "\n",
    "train_network(model,\n",
    "    loss_func,\n",
    "    train_loader,\n",
    "    device=device,\n",
    "    val_loader=valid_loader,\n",
    "    epochs = epochs,\n",
    "    optimizer = optimizer,\n",
    "    score_funcs = {'ACC':accuracy_score},\n",
    "    checkpoint_file = ckpt_file,\n",
    "    resume_checkpoint = True,\n",
    "    pretend_train=True);"
   ]
  },
  {
   "cell_type": "code",
   "execution_count": 7,
   "metadata": {
    "execution": {
     "iopub.execute_input": "2025-08-26T00:17:27.068371Z",
     "iopub.status.busy": "2025-08-26T00:17:27.068157Z",
     "iopub.status.idle": "2025-08-26T00:17:27.421725Z",
     "shell.execute_reply": "2025-08-26T00:17:27.420843Z"
    }
   },
   "outputs": [
    {
     "data": {
      "image/png": "[encoded data removed]",
      "text/plain": [
       "<Figure size 1000x400 with 2 Axes>"
      ]
     },
     "metadata": {},
     "output_type": "display_data"
    }
   ],
   "source": [
    "results = load_results(MODELS_PATH / 'L04_CIFAR10_PlainDeepCNN.pt')\n",
    "\n",
    "plot_training_metrics(results, [['train loss', 'val loss'], ['train ACC', 'val ACC']])"
   ]
  },
  {
   "cell_type": "markdown",
   "metadata": {},
   "source": [
    "This deeper network is slower to train in terms of epochs than SimpleCNN in the last lesson.  It hasn't yet plateaued, but let's see if we can improve convergence and performance another way."
   ]
  },
  {
   "cell_type": "markdown",
   "metadata": {},
   "source": [
    "### DeepCNNwBN\n",
    "\n",
    "#### L04_1_Batch_Normalization Video\n",
    "\n",
    "<iframe \n",
    "    src=\"https://media.uwex.edu/content/ds/ds776/ds776_l04_1_batch_normalization/\" \n",
    "    width=\"800\" \n",
    "    height=\"450\" \n",
    "    style=\"border: 5px solid cyan;\"  \n",
    "    allowfullscreen>\n",
    "</iframe>\n",
    "<br>\n",
    "<a href=\"https://media.uwex.edu/content/ds/ds776/ds776_l04_1_batch_normalization/\" target=\"_blank\">Open UWEX version of video in new tab</a>\n",
    "<br>\n",
    "<a href=\"https://share.descript.com/view/wg9ghMlM7MH\" target=\"_blank\">Open Descript version of video in new tab</a>\n",
    "<hr>\n",
    "\n",
    "Now we'll add batch normalization after each convolutional layer.  This should speed up training and improve performance.  If you didn't already, you should read about Batch Normalization in Inside Deep Learning."
   ]
  },
  {
   "cell_type": "code",
   "execution_count": 8,
   "metadata": {
    "execution": {
     "iopub.execute_input": "2025-08-26T00:17:27.423747Z",
     "iopub.status.busy": "2025-08-26T00:17:27.423560Z",
     "iopub.status.idle": "2025-08-26T00:17:27.431055Z",
     "shell.execute_reply": "2025-08-26T00:17:27.430296Z"
    }
   },
   "outputs": [],
   "source": [
    "import torch\n",
    "import torch.nn as nn\n",
    "import torch.nn.functional as F\n",
    "\n",
    "class SimpleBlockBN(nn.Module):\n",
    "    \"\"\"A block with two convolutional layers and batch normalization.\"\"\"\n",
    "    def __init__(self, in_channels, out_channels, stride=1):\n",
    "        super(SimpleBlockBN, self).__init__()\n",
    "        self.conv1 = nn.Conv2d(in_channels, out_channels, kernel_size=3, stride=stride, padding=1)\n",
    "        self.bn1 = nn.BatchNorm2d(out_channels)  # Batch normalization after conv1\n",
    "        self.conv2 = nn.Conv2d(out_channels, out_channels, kernel_size=3, stride=1, padding=1)\n",
    "        self.bn2 = nn.BatchNorm2d(out_channels)  # Batch normalization after conv2\n",
    "\n",
    "    def forward(self, x):\n",
    "        x = F.relu(self.bn1(self.conv1(x)))  # Apply batch normalization and ReLU after conv1\n",
    "        x = F.relu(self.bn2(self.conv2(x)))  # Apply batch normalization and ReLU after conv2\n",
    "        return x\n",
    "\n",
    "class DeepCNNwBN(nn.Module):\n",
    "    \"\"\"A deeper CNN with batch normalization for CIFAR-10.\"\"\"\n",
    "    def __init__(self, num_classes=10):\n",
    "        super(DeepCNNwBN, self).__init__()\n",
    "        self.in_channels = 16\n",
    "\n",
    "        # Initial convolution\n",
    "        self.conv1 = nn.Conv2d(3, self.in_channels, kernel_size=3, stride=1, padding=1)\n",
    "        self.bn1 = nn.BatchNorm2d(self.in_channels)  # Batch normalization after initial conv\n",
    "        \n",
    "        # Four layers with increasing depth\n",
    "        self.layer1 = self._make_layer(16, 2, stride=1)\n",
    "        self.layer2 = self._make_layer(32, 2, stride=2)\n",
    "        self.layer3 = self._make_layer(64, 2, stride=2)\n",
    "        self.layer4 = self._make_layer(128, 2, stride=2)\n",
    "        \n",
    "        # Classifier\n",
    "        self.fc = nn.Linear(128, num_classes)\n",
    "\n",
    "    def _make_layer(self, out_channels, blocks, stride):\n",
    "        layers = []\n",
    "        layers.append(SimpleBlockBN(self.in_channels, out_channels, stride))\n",
    "        self.in_channels = out_channels\n",
    "        for _ in range(1, blocks):\n",
    "            layers.append(SimpleBlockBN(out_channels, out_channels))\n",
    "        return nn.Sequential(*layers)\n",
    "\n",
    "    def forward(self, x):\n",
    "        x = F.relu(self.bn1(self.conv1(x)))  # Batch normalization and ReLU after initial conv\n",
    "        x = self.layer1(x)\n",
    "        x = self.layer2(x)\n",
    "        x = self.layer3(x)\n",
    "        x = self.layer4(x)\n",
    "        \n",
    "        # Global average pooling and flattening\n",
    "        x = F.avg_pool2d(x, x.size(3))\n",
    "        x = x.view(x.size(0), -1)\n",
    "        x = self.fc(x)\n",
    "        return x"
   ]
  },
  {
   "cell_type": "markdown",
   "metadata": {},
   "source": [
    "First, we'll train for 10 epochs with a learning rate of 0.001 to see if it works.  Recall, that the network without batch normalization would not learn."
   ]
  },
  {
   "cell_type": "code",
   "execution_count": 9,
   "metadata": {
    "execution": {
     "iopub.execute_input": "2025-08-26T00:17:27.433200Z",
     "iopub.status.busy": "2025-08-26T00:17:27.433025Z",
     "iopub.status.idle": "2025-08-26T00:17:32.652737Z",
     "shell.execute_reply": "2025-08-26T00:17:32.651748Z"
    }
   },
   "outputs": [
    {
     "name": "stdout",
     "output_type": "stream",
     "text": [
      "cuda\n"
     ]
    },
    {
     "data": {
      "application/vnd.jupyter.widget-view+json": {
       "model_id": "d413d774a8e948e3978d42a312092792",
       "version_major": 2,
       "version_minor": 0
      },
      "text/plain": [
       "Pretend Training:   0%|          | 0/10 [00:00<?, ?it/s]"
      ]
     },
     "metadata": {},
     "output_type": "display_data"
    }
   ],
   "source": [
    "model = DeepCNNwBN() # create a new instance of the model\n",
    "loss_func = nn.CrossEntropyLoss()\n",
    "optimizer = optim.AdamW(model.parameters())\n",
    "\n",
    "epochs = 10\n",
    "\n",
    "device = get_device()\n",
    "print(device)\n",
    "\n",
    "ckpt_file = MODELS_PATH / 'L04_CIFAR10_DeepCNNwBN.pt'\n",
    "\n",
    "score_funcs = {'ACC':accuracy_score}\n",
    "\n",
    "train_network(model,\n",
    "    loss_func,\n",
    "    train_loader,\n",
    "    device=device,\n",
    "    val_loader=valid_loader,\n",
    "    epochs = epochs,\n",
    "    optimizer = optimizer,\n",
    "    score_funcs = {'ACC':accuracy_score},\n",
    "    checkpoint_file = ckpt_file,\n",
    "    pretend_train=True);"
   ]
  },
  {
   "cell_type": "code",
   "execution_count": 10,
   "metadata": {
    "execution": {
     "iopub.execute_input": "2025-08-26T00:17:32.654544Z",
     "iopub.status.busy": "2025-08-26T00:17:32.654312Z",
     "iopub.status.idle": "2025-08-26T00:17:32.981075Z",
     "shell.execute_reply": "2025-08-26T00:17:32.980198Z"
    }
   },
   "outputs": [
    {
     "data": {
      "image/png": "[encoded data removed]",
      "text/plain": [
       "<Figure size 1000x400 with 2 Axes>"
      ]
     },
     "metadata": {},
     "output_type": "display_data"
    }
   ],
   "source": [
    "results = load_results(MODELS_PATH / 'L04_CIFAR10_DeepCNNwBN.pt')\n",
    "\n",
    "plot_training_metrics(results, [['train loss', 'val loss'], ['train ACC', 'val ACC']])"
   ]
  },
  {
   "cell_type": "markdown",
   "metadata": {},
   "source": [
    "Our model is training well.  We could just resume and train for longer, but batch normalization stabilizes training so well that it's often possible to train more aggressively.  Here we'll try a 1cycle policy with a max learning rate of 0.01 for 20 epochs."
   ]
  },
  {
   "cell_type": "code",
   "execution_count": 11,
   "metadata": {
    "execution": {
     "iopub.execute_input": "2025-08-26T00:17:32.982992Z",
     "iopub.status.busy": "2025-08-26T00:17:32.982751Z",
     "iopub.status.idle": "2025-08-26T00:17:38.244700Z",
     "shell.execute_reply": "2025-08-26T00:17:38.243910Z"
    }
   },
   "outputs": [
    {
     "name": "stdout",
     "output_type": "stream",
     "text": [
      "cuda\n"
     ]
    },
    {
     "data": {
      "application/vnd.jupyter.widget-view+json": {
       "model_id": "403acae65ff94738b96bf541bd308ac2",
       "version_major": 2,
       "version_minor": 0
      },
      "text/plain": [
       "Pretend Training:   0%|          | 0/20 [00:00<?, ?it/s]"
      ]
     },
     "metadata": {},
     "output_type": "display_data"
    }
   ],
   "source": [
    "model = DeepCNNwBN() # create a new instance of the model\n",
    "loss_func = nn.CrossEntropyLoss()\n",
    "optimizer = optim.AdamW(model.parameters(), lr = 0.01)\n",
    "\n",
    "epochs = 20\n",
    "max_lr = 0.01\n",
    "scheduler = OneCycleLR(optimizer, max_lr, epochs=epochs, steps_per_epoch=len(train_loader))\n",
    "\n",
    "device = get_device()\n",
    "print(device)\n",
    "\n",
    "ckpt_file = MODELS_PATH / 'L04_CIFAR10_DeepCNNwBN_one_cycle.pt'\n",
    "\n",
    "score_funcs = {'ACC':accuracy_score}\n",
    "\n",
    "train_network(model,\n",
    "    loss_func,\n",
    "    train_loader,\n",
    "    device=device,\n",
    "    val_loader=valid_loader,\n",
    "    epochs = epochs,\n",
    "    optimizer = optimizer,\n",
    "    score_funcs = {'ACC':accuracy_score},\n",
    "    checkpoint_file = ckpt_file,\n",
    "    lr_schedule = scheduler,\n",
    "    scheduler_step_per_batch=True,\n",
    "    pretend_train=True);"
   ]
  },
  {
   "cell_type": "code",
   "execution_count": 12,
   "metadata": {
    "execution": {
     "iopub.execute_input": "2025-08-26T00:17:38.246686Z",
     "iopub.status.busy": "2025-08-26T00:17:38.246473Z",
     "iopub.status.idle": "2025-08-26T00:17:38.568780Z",
     "shell.execute_reply": "2025-08-26T00:17:38.568010Z"
    }
   },
   "outputs": [
    {
     "data": {
      "image/png": "[encoded data removed]",
      "text/plain": [
       "<Figure size 1000x400 with 2 Axes>"
      ]
     },
     "metadata": {},
     "output_type": "display_data"
    }
   ],
   "source": [
    "results = load_results(MODELS_PATH / 'L04_CIFAR10_DeepCNNwBN_one_cycle.pt')\n",
    "\n",
    "plot_training_metrics(results, [['train loss', 'val loss'], ['train ACC', 'val ACC']])"
   ]
  },
  {
   "cell_type": "markdown",
   "metadata": {},
   "source": [
    "Our model is able to achieve around 85% accuracy on the validation data in just 20 epochs.  We did try another 1cycle run with just 10 epochs, but it didn't do as well.\n",
    "\n",
    "We have one more improvement to make to our network."
   ]
  },
  {
   "cell_type": "markdown",
   "metadata": {},
   "source": [
    "### DeepCNNwBNRes\n",
    "\n",
    "#### L04_1_Residual_Connections Video\n",
    "\n",
    "<iframe \n",
    "    src=\"https://media.uwex.edu/content/ds/ds776/ds776_l04_1_residual_connections/\" \n",
    "    width=\"800\" \n",
    "    height=\"450\" \n",
    "    style=\"border: 5px solid cyan;\"  \n",
    "    allowfullscreen>\n",
    "</iframe>\n",
    "<br>\n",
    "<a href=\"https://media.uwex.edu/content/ds/ds776/ds776_l04_1_residual_connections/\" target=\"_blank\">Open UWEX version of video in new tab</a>\n",
    "<br>\n",
    "<a href=\"https://share.descript.com/view/4CJ4mOGuJ6q\" target=\"_blank\">Open Descript version of video in new tab</a>\n",
    "<hr>\n",
    "\n",
    "Now we'll add residual connections within each block.  This should allow for easier training and may improve performance.  There are two different versions of the residual connection we'll be adding.  If the convolutional layers don't change the number of channels (increase the number of feature maps) and the feature maps aren't downsampled then the residual connection will look like this:\n",
    "\n",
    "<img src=\"./pictures/Residual_Block.drawio.png\" alt=\"Residual Block\" style=\"width: 400px;\"/>\n",
    "\n",
    "However if the number of channels changes or the feature maps are downsampled (by setting stride=2), then our residual block adds a different shortcut connection to that the results of the convolutional blocks and the shortcut are compatible like this:\n",
    "\n",
    "<img src=\"./pictures/Residual_Block2.drawio.png\" alt=\"Residual Block 2\" style=\"width: 500px;\"/>"
   ]
  },
  {
   "cell_type": "markdown",
   "metadata": {},
   "source": []
  },
  {
   "cell_type": "code",
   "execution_count": 13,
   "metadata": {
    "execution": {
     "iopub.execute_input": "2025-08-26T00:17:38.570652Z",
     "iopub.status.busy": "2025-08-26T00:17:38.570471Z",
     "iopub.status.idle": "2025-08-26T00:17:38.577923Z",
     "shell.execute_reply": "2025-08-26T00:17:38.577217Z"
    }
   },
   "outputs": [],
   "source": [
    "class ResidualBlockBN(nn.Module):\n",
    "    \"\"\"A residual block with two convolutional layers, batch normalization, and a residual connection.\"\"\"\n",
    "    def __init__(self, in_channels, out_channels, stride=1):\n",
    "        super(ResidualBlockBN, self).__init__()\n",
    "        self.conv1 = nn.Conv2d(in_channels, out_channels, kernel_size=3, stride=stride, padding=1)\n",
    "        self.bn1 = nn.BatchNorm2d(out_channels)\n",
    "        self.conv2 = nn.Conv2d(out_channels, out_channels, kernel_size=3, stride=1, padding=1)\n",
    "        self.bn2 = nn.BatchNorm2d(out_channels)\n",
    "\n",
    "        # Shortcut layer to match dimensions if downsampling is needed\n",
    "        self.shortcut = nn.Sequential()\n",
    "        if stride != 1 or in_channels != out_channels:\n",
    "            self.shortcut = nn.Sequential(\n",
    "                nn.Conv2d(in_channels, out_channels, kernel_size=1, stride=stride, bias=False),\n",
    "                nn.BatchNorm2d(out_channels)\n",
    "            )\n",
    "\n",
    "    def forward(self, x):\n",
    "        # Main path\n",
    "        out = F.relu(self.bn1(self.conv1(x)))\n",
    "        out = self.bn2(self.conv2(out))\n",
    "        \n",
    "        # Add shortcut to main path\n",
    "        out += self.shortcut(x)\n",
    "        out = F.relu(out)\n",
    "        return out\n",
    "\n",
    "class DeepCNNwBNRes(nn.Module):\n",
    "    \"\"\"A deeper CNN with batch normalization and residual connections for CIFAR-10.\"\"\"\n",
    "    def __init__(self, num_classes=10):\n",
    "        super(DeepCNNwBNRes, self).__init__()\n",
    "        self.in_channels = 16\n",
    "\n",
    "        # Initial convolution\n",
    "        self.conv1 = nn.Conv2d(3, self.in_channels, kernel_size=3, stride=1, padding=1)\n",
    "        self.bn1 = nn.BatchNorm2d(self.in_channels)\n",
    "        \n",
    "        # Four layers with increasing depth and residual connections\n",
    "        self.layer1 = self._make_layer(16, 2, stride=1)\n",
    "        self.layer2 = self._make_layer(32, 2, stride=2)\n",
    "        self.layer3 = self._make_layer(64, 2, stride=2)\n",
    "        self.layer4 = self._make_layer(128, 2, stride=2)\n",
    "        \n",
    "        # Classifier\n",
    "        self.fc = nn.Linear(128, num_classes)\n",
    "\n",
    "    def _make_layer(self, out_channels, blocks, stride):\n",
    "        layers = []\n",
    "        layers.append(ResidualBlockBN(self.in_channels, out_channels, stride))\n",
    "        self.in_channels = out_channels\n",
    "        for _ in range(1, blocks):\n",
    "            layers.append(ResidualBlockBN(out_channels, out_channels))\n",
    "        return nn.Sequential(*layers)\n",
    "\n",
    "    def forward(self, x):\n",
    "        x = F.relu(self.bn1(self.conv1(x)))\n",
    "        x = self.layer1(x)\n",
    "        x = self.layer2(x)\n",
    "        x = self.layer3(x)\n",
    "        x = self.layer4(x)\n",
    "        \n",
    "        # Global average pooling and flattening\n",
    "        x = F.avg_pool2d(x, x.size(3))\n",
    "        x = x.view(x.size(0), -1)\n",
    "        x = self.fc(x)\n",
    "        return x"
   ]
  },
  {
   "cell_type": "markdown",
   "metadata": {},
   "source": [
    "Let's have a look at our model summary to help understand how the residual blocks are working."
   ]
  },
  {
   "cell_type": "code",
   "execution_count": 14,
   "metadata": {
    "execution": {
     "iopub.execute_input": "2025-08-26T00:17:38.579703Z",
     "iopub.status.busy": "2025-08-26T00:17:38.579534Z",
     "iopub.status.idle": "2025-08-26T00:17:38.626295Z",
     "shell.execute_reply": "2025-08-26T00:17:38.625534Z"
    }
   },
   "outputs": [
    {
     "name": "stdout",
     "output_type": "stream",
     "text": [
      "====================================================================================================\n",
      "Layer (type (var_name))                  Input Shape          Output Shape         Param #\n",
      "====================================================================================================\n",
      "DeepCNNwBNRes (DeepCNNwBNRes)            [1, 3, 32, 32]       [1, 10]              --\n",
      "├─Conv2d (conv1)                         [1, 3, 32, 32]       [1, 16, 32, 32]      448\n",
      "├─BatchNorm2d (bn1)                      [1, 16, 32, 32]      [1, 16, 32, 32]      32\n",
      "├─Sequential (layer1)                    [1, 16, 32, 32]      [1, 16, 32, 32]      --\n",
      "│    └─ResidualBlockBN (0)               [1, 16, 32, 32]      [1, 16, 32, 32]      --\n",
      "│    │    └─Conv2d (conv1)               [1, 16, 32, 32]      [1, 16, 32, 32]      2,320\n",
      "│    │    └─BatchNorm2d (bn1)            [1, 16, 32, 32]      [1, 16, 32, 32]      32\n",
      "│    │    └─Conv2d (conv2)               [1, 16, 32, 32]      [1, 16, 32, 32]      2,320\n",
      "│    │    └─BatchNorm2d (bn2)            [1, 16, 32, 32]      [1, 16, 32, 32]      32\n",
      "│    │    └─Sequential (shortcut)        [1, 16, 32, 32]      [1, 16, 32, 32]      --\n",
      "│    └─ResidualBlockBN (1)               [1, 16, 32, 32]      [1, 16, 32, 32]      --\n",
      "│    │    └─Conv2d (conv1)               [1, 16, 32, 32]      [1, 16, 32, 32]      2,320\n",
      "│    │    └─BatchNorm2d (bn1)            [1, 16, 32, 32]      [1, 16, 32, 32]      32\n",
      "│    │    └─Conv2d (conv2)               [1, 16, 32, 32]      [1, 16, 32, 32]      2,320\n",
      "│    │    └─BatchNorm2d (bn2)            [1, 16, 32, 32]      [1, 16, 32, 32]      32\n",
      "│    │    └─Sequential (shortcut)        [1, 16, 32, 32]      [1, 16, 32, 32]      --\n",
      "├─Sequential (layer2)                    [1, 16, 32, 32]      [1, 32, 16, 16]      --\n",
      "│    └─ResidualBlockBN (0)               [1, 16, 32, 32]      [1, 32, 16, 16]      --\n",
      "│    │    └─Conv2d (conv1)               [1, 16, 32, 32]      [1, 32, 16, 16]      4,640\n",
      "│    │    └─BatchNorm2d (bn1)            [1, 32, 16, 16]      [1, 32, 16, 16]      64\n",
      "│    │    └─Conv2d (conv2)               [1, 32, 16, 16]      [1, 32, 16, 16]      9,248\n",
      "│    │    └─BatchNorm2d (bn2)            [1, 32, 16, 16]      [1, 32, 16, 16]      64\n",
      "│    │    └─Sequential (shortcut)        [1, 16, 32, 32]      [1, 32, 16, 16]      576\n",
      "│    └─ResidualBlockBN (1)               [1, 32, 16, 16]      [1, 32, 16, 16]      --\n",
      "│    │    └─Conv2d (conv1)               [1, 32, 16, 16]      [1, 32, 16, 16]      9,248\n",
      "│    │    └─BatchNorm2d (bn1)            [1, 32, 16, 16]      [1, 32, 16, 16]      64\n",
      "│    │    └─Conv2d (conv2)               [1, 32, 16, 16]      [1, 32, 16, 16]      9,248\n",
      "│    │    └─BatchNorm2d (bn2)            [1, 32, 16, 16]      [1, 32, 16, 16]      64\n",
      "│    │    └─Sequential (shortcut)        [1, 32, 16, 16]      [1, 32, 16, 16]      --\n",
      "├─Sequential (layer3)                    [1, 32, 16, 16]      [1, 64, 8, 8]        --\n",
      "│    └─ResidualBlockBN (0)               [1, 32, 16, 16]      [1, 64, 8, 8]        --\n",
      "│    │    └─Conv2d (conv1)               [1, 32, 16, 16]      [1, 64, 8, 8]        18,496\n",
      "│    │    └─BatchNorm2d (bn1)            [1, 64, 8, 8]        [1, 64, 8, 8]        128\n",
      "│    │    └─Conv2d (conv2)               [1, 64, 8, 8]        [1, 64, 8, 8]        36,928\n",
      "│    │    └─BatchNorm2d (bn2)            [1, 64, 8, 8]        [1, 64, 8, 8]        128\n",
      "│    │    └─Sequential (shortcut)        [1, 32, 16, 16]      [1, 64, 8, 8]        2,176\n",
      "│    └─ResidualBlockBN (1)               [1, 64, 8, 8]        [1, 64, 8, 8]        --\n",
      "│    │    └─Conv2d (conv1)               [1, 64, 8, 8]        [1, 64, 8, 8]        36,928\n",
      "│    │    └─BatchNorm2d (bn1)            [1, 64, 8, 8]        [1, 64, 8, 8]        128\n",
      "│    │    └─Conv2d (conv2)               [1, 64, 8, 8]        [1, 64, 8, 8]        36,928\n",
      "│    │    └─BatchNorm2d (bn2)            [1, 64, 8, 8]        [1, 64, 8, 8]        128\n",
      "│    │    └─Sequential (shortcut)        [1, 64, 8, 8]        [1, 64, 8, 8]        --\n",
      "├─Sequential (layer4)                    [1, 64, 8, 8]        [1, 128, 4, 4]       --\n",
      "│    └─ResidualBlockBN (0)               [1, 64, 8, 8]        [1, 128, 4, 4]       --\n",
      "│    │    └─Conv2d (conv1)               [1, 64, 8, 8]        [1, 128, 4, 4]       73,856\n",
      "│    │    └─BatchNorm2d (bn1)            [1, 128, 4, 4]       [1, 128, 4, 4]       256\n",
      "│    │    └─Conv2d (conv2)               [1, 128, 4, 4]       [1, 128, 4, 4]       147,584\n",
      "│    │    └─BatchNorm2d (bn2)            [1, 128, 4, 4]       [1, 128, 4, 4]       256\n",
      "│    │    └─Sequential (shortcut)        [1, 64, 8, 8]        [1, 128, 4, 4]       8,448\n",
      "│    └─ResidualBlockBN (1)               [1, 128, 4, 4]       [1, 128, 4, 4]       --\n",
      "│    │    └─Conv2d (conv1)               [1, 128, 4, 4]       [1, 128, 4, 4]       147,584\n",
      "│    │    └─BatchNorm2d (bn1)            [1, 128, 4, 4]       [1, 128, 4, 4]       256\n",
      "│    │    └─Conv2d (conv2)               [1, 128, 4, 4]       [1, 128, 4, 4]       147,584\n",
      "│    │    └─BatchNorm2d (bn2)            [1, 128, 4, 4]       [1, 128, 4, 4]       256\n",
      "│    │    └─Sequential (shortcut)        [1, 128, 4, 4]       [1, 128, 4, 4]       --\n",
      "├─Linear (fc)                            [1, 128]             [1, 10]              1,290\n",
      "====================================================================================================\n",
      "Total params: 702,442\n",
      "Trainable params: 702,442\n",
      "Non-trainable params: 0\n",
      "Total mult-adds (M): 35.19\n",
      "====================================================================================================\n",
      "Input size (MB): 0.01\n",
      "Forward/backward pass size (MB): 2.46\n",
      "Params size (MB): 2.81\n",
      "Estimated Total Size (MB): 5.28\n",
      "====================================================================================================\n"
     ]
    }
   ],
   "source": [
    "model = DeepCNNwBNRes() # create a new instance of the model\n",
    "summarizer( model, input_size = (1,3,32,32) ) # using a batch size of 1 CIFAR-10 image"
   ]
  },
  {
   "cell_type": "markdown",
   "metadata": {},
   "source": [
    "Now let's train.  Again we'll use the OneCycleLR scheduler with a large learning rate of 0.1."
   ]
  },
  {
   "cell_type": "code",
   "execution_count": 15,
   "metadata": {
    "execution": {
     "iopub.execute_input": "2025-08-26T00:17:38.628031Z",
     "iopub.status.busy": "2025-08-26T00:17:38.627858Z",
     "iopub.status.idle": "2025-08-26T00:17:43.959991Z",
     "shell.execute_reply": "2025-08-26T00:17:43.959226Z"
    }
   },
   "outputs": [
    {
     "name": "stdout",
     "output_type": "stream",
     "text": [
      "cuda\n"
     ]
    },
    {
     "data": {
      "application/vnd.jupyter.widget-view+json": {
       "model_id": "c7c3f6912fb34c439e8ac25e93d21366",
       "version_major": 2,
       "version_minor": 0
      },
      "text/plain": [
       "Pretend Training:   0%|          | 0/20 [00:00<?, ?it/s]"
      ]
     },
     "metadata": {},
     "output_type": "display_data"
    }
   ],
   "source": [
    "model = DeepCNNwBNRes() # create a new instance of the model\n",
    "loss_func = nn.CrossEntropyLoss()\n",
    "optimizer = optim.AdamW(model.parameters(), lr = 0.01)\n",
    "\n",
    "epochs = 20\n",
    "max_lr = 0.01\n",
    "scheduler = OneCycleLR(optimizer, max_lr, epochs=epochs, steps_per_epoch=len(train_loader))\n",
    "\n",
    "device = get_device()\n",
    "print(device)\n",
    "\n",
    "ckpt_file = MODELS_PATH / 'L04_CIFAR10_DeepCNNwBNRes_one_cycle.pt'\n",
    "\n",
    "score_funcs = {'ACC':accuracy_score}\n",
    "\n",
    "train_network(model,\n",
    "    loss_func,\n",
    "    train_loader,\n",
    "    device=device,\n",
    "    val_loader=valid_loader,\n",
    "    epochs = epochs,\n",
    "    optimizer = optimizer,\n",
    "    score_funcs = {'ACC':accuracy_score},\n",
    "    checkpoint_file = ckpt_file,\n",
    "    lr_schedule = scheduler,\n",
    "    scheduler_step_per_batch=True,\n",
    "    pretend_train=True);"
   ]
  },
  {
   "cell_type": "code",
   "execution_count": 16,
   "metadata": {
    "execution": {
     "iopub.execute_input": "2025-08-26T00:17:43.962000Z",
     "iopub.status.busy": "2025-08-26T00:17:43.961799Z",
     "iopub.status.idle": "2025-08-26T00:17:43.871616Z",
     "shell.execute_reply": "2025-08-26T00:17:43.870804Z"
    }
   },
   "outputs": [
    {
     "data": {
      "image/png": "[encoded data removed]",
      "text/plain": [
       "<Figure size 1000x400 with 2 Axes>"
      ]
     },
     "metadata": {},
     "output_type": "display_data"
    }
   ],
   "source": [
    "results = load_results(MODELS_PATH / 'L04_CIFAR10_DeepCNNwBNRes_one_cycle.pt')\n",
    "\n",
    "plot_training_metrics(results, [['train loss', 'val loss'], ['train ACC', 'val ACC']])"
   ]
  },
  {
   "cell_type": "markdown",
   "metadata": {},
   "source": [
    "Finally, let's compare the validation set performance of DeepCNNBN and DeepCNNBNRes."
   ]
  },
  {
   "cell_type": "code",
   "execution_count": 17,
   "metadata": {
    "execution": {
     "iopub.execute_input": "2025-08-26T00:17:43.873684Z",
     "iopub.status.busy": "2025-08-26T00:17:43.873490Z",
     "iopub.status.idle": "2025-08-26T00:17:44.281674Z",
     "shell.execute_reply": "2025-08-26T00:17:44.280806Z"
    }
   },
   "outputs": [
    {
     "data": {
      "image/png": "[encoded data removed]",
      "text/plain": [
       "<Figure size 1000x400 with 2 Axes>"
      ]
     },
     "metadata": {},
     "output_type": "display_data"
    }
   ],
   "source": [
    "results_BN = load_results(MODELS_PATH / 'L04_CIFAR10_DeepCNNwBN_one_cycle.pt')\n",
    "results_BNRes = load_results(MODELS_PATH / 'L04_CIFAR10_DeepCNNwBNRes_one_cycle.pt')\n",
    "\n",
    "plot_training_metrics([results_BN,results_BNRes], [['val loss'], ['val ACC']],df_labels=['DeepCNNwBN','DeepCNNwBNRes'])"
   ]
  },
  {
   "cell_type": "markdown",
   "metadata": {},
   "source": [
    "We can see that the combination of batch normalization and residual connections improves model performance over batch normalization alone.\n",
    "\n",
    "Most modern CNNs combine both of these techniques.  You may have noted that our model didn't include any pooling layers.  Instead we used stride = 2 to reduce the resolution of the feature maps for simplicity. \n",
    "\n",
    "In larger, deeper networks strided convolutions are often combined with max pooling to reduce the resolution of the features.  In the popular ResNet family of networks max pooling is used at the beginning of the network to quickly reduce the dimensions of the feature maps while stride=2 convolutions are used throughout the network to further reduces the spatial dimensions.  Finally, at the end of the network ResNet uses global average pooling to average each feature map to a single value in each channel.\n",
    "\n",
    "If you want to learn more give this prompt to an AI: \"does the resnet family of models use strided convolutions or pooling or both to reduce feature dimensions?\""
   ]
  }
 ],
 "metadata": {
  "kernelspec": {
   "display_name": "Python 3",
   "language": "python",
   "name": "python3"
  },
  "language_info": {
   "codemirror_mode": {
    "name": "ipython",
    "version": 3
   },
   "file_extension": ".py",
   "mimetype": "text/x-python",
   "name": "python",
   "nbconvert_exporter": "python",
   "pygments_lexer": "ipython3",
   "version": "3.10.18"
  },
  "widgets": {
   "application/vnd.jupyter.widget-state+json": {
    "state": {
     "0c51e204a73d4840983eb965ec52be74": {
      "model_module": "@jupyter-widgets/controls",
      "model_module_version": "2.0.0",
      "model_name": "ProgressStyleModel",
      "state": {
       "_model_module": "@jupyter-widgets/controls",
       "_model_module_version": "2.0.0",
       "_model_name": "ProgressStyleModel",
       "_view_count": null,
       "_view_module": "@jupyter-widgets/base",
       "_view_module_version": "2.0.0",
       "_view_name": "StyleView",
       "bar_color": null,
       "description_width": ""
      }
     },
     "0f3c326a91234fce91db081780ff28ea": {
      "model_module": "@jupyter-widgets/controls",
      "model_module_version": "2.0.0",
      "model_name": "HTMLStyleModel",
      "state": {
       "_model_module": "@jupyter-widgets/controls",
       "_model_module_version": "2.0.0",
       "_model_name": "HTMLStyleModel",
       "_view_count": null,
       "_view_module": "@jupyter-widgets/base",
       "_view_module_version": "2.0.0",
       "_view_name": "StyleView",
       "background": null,
       "description_width": "",
       "font_size": null,
       "text_color": null
      }
     },
     "18fd279f978d4f40a2b1b12e124ecf99": {
      "model_module": "@jupyter-widgets/controls",
      "model_module_version": "2.0.0",
      "model_name": "HTMLStyleModel",
      "state": {
       "_model_module": "@jupyter-widgets/controls",
       "_model_module_version": "2.0.0",
       "_model_name": "HTMLStyleModel",
       "_view_count": null,
       "_view_module": "@jupyter-widgets/base",
       "_view_module_version": "2.0.0",
       "_view_name": "StyleView",
       "background": null,
       "description_width": "",
       "font_size": null,
       "text_color": null
      }
     },
     "1d7c9de48d9c4c30917df63bae2e8feb": {
      "model_module": "@jupyter-widgets/base",
      "model_module_version": "2.0.0",
      "model_name": "LayoutModel",
      "state": {
       "_model_module": "@jupyter-widgets/base",
       "_model_module_version": "2.0.0",
       "_model_name": "LayoutModel",
       "_view_count": null,
       "_view_module": "@jupyter-widgets/base",
       "_view_module_version": "2.0.0",
       "_view_name": "LayoutView",
       "align_content": null,
       "align_items": null,
       "align_self": null,
       "border_bottom": null,
       "border_left": null,
       "border_right": null,
       "border_top": null,
       "bottom": null,
       "display": null,
       "flex": null,
       "flex_flow": null,
       "grid_area": null,
       "grid_auto_columns": null,
       "grid_auto_flow": null,
       "grid_auto_rows": null,
       "grid_column": null,
       "grid_gap": null,
       "grid_row": null,
       "grid_template_areas": null,
       "grid_template_columns": null,
       "grid_template_rows": null,
       "height": null,
       "justify_content": null,
       "justify_items": null,
       "left": null,
       "margin": null,
       "max_height": null,
       "max_width": null,
       "min_height": null,
       "min_width": null,
       "object_fit": null,
       "object_position": null,
       "order": null,
       "overflow": null,
       "padding": null,
       "right": null,
       "top": null,
       "visibility": null,
       "width": null
      }
     },
     "251645fb5b604ab5b4c1186d060ee7f6": {
      "model_module": "@jupyter-widgets/controls",
      "model_module_version": "2.0.0",
      "model_name": "HTMLStyleModel",
      "state": {
       "_model_module": "@jupyter-widgets/controls",
       "_model_module_version": "2.0.0",
       "_model_name": "HTMLStyleModel",
       "_view_count": null,
       "_view_module": "@jupyter-widgets/base",
       "_view_module_version": "2.0.0",
       "_view_name": "StyleView",
       "background": null,
       "description_width": "",
       "font_size": null,
       "text_color": null
      }
     },
     "280dc82caef847fc822bdfea62444106": {
      "model_module": "@jupyter-widgets/base",
      "model_module_version": "2.0.0",
      "model_name": "LayoutModel",
      "state": {
       "_model_module": "@jupyter-widgets/base",
       "_model_module_version": "2.0.0",
       "_model_name": "LayoutModel",
       "_view_count": null,
       "_view_module": "@jupyter-widgets/base",
       "_view_module_version": "2.0.0",
       "_view_name": "LayoutView",
       "align_content": null,
       "align_items": null,
       "align_self": null,
       "border_bottom": null,
       "border_left": null,
       "border_right": null,
       "border_top": null,
       "bottom": null,
       "display": "inline-flex",
       "flex": null,
       "flex_flow": "row wrap",
       "grid_area": null,
       "grid_auto_columns": null,
       "grid_auto_flow": null,
       "grid_auto_rows": null,
       "grid_column": null,
       "grid_gap": null,
       "grid_row": null,
       "grid_template_areas": null,
       "grid_template_columns": null,
       "grid_template_rows": null,
       "height": null,
       "justify_content": null,
       "justify_items": null,
       "left": null,
       "margin": null,
       "max_height": null,
       "max_width": null,
       "min_height": null,
       "min_width": null,
       "object_fit": null,
       "object_position": null,
       "order": null,
       "overflow": null,
       "padding": null,
       "right": null,
       "top": null,
       "visibility": null,
       "width": "100%"
      }
     },
     "2c701b9cf3b24f51a75c10332d86d5ba": {
      "model_module": "@jupyter-widgets/base",
      "model_module_version": "2.0.0",
      "model_name": "LayoutModel",
      "state": {
       "_model_module": "@jupyter-widgets/base",
       "_model_module_version": "2.0.0",
       "_model_name": "LayoutModel",
       "_view_count": null,
       "_view_module": "@jupyter-widgets/base",
       "_view_module_version": "2.0.0",
       "_view_name": "LayoutView",
       "align_content": null,
       "align_items": null,
       "align_self": null,
       "border_bottom": null,
       "border_left": null,
       "border_right": null,
       "border_top": null,
       "bottom": null,
       "display": null,
       "flex": null,
       "flex_flow": null,
       "grid_area": null,
       "grid_auto_columns": null,
       "grid_auto_flow": null,
       "grid_auto_rows": null,
       "grid_column": null,
       "grid_gap": null,
       "grid_row": null,
       "grid_template_areas": null,
       "grid_template_columns": null,
       "grid_template_rows": null,
       "height": null,
       "justify_content": null,
       "justify_items": null,
       "left": null,
       "margin": null,
       "max_height": null,
       "max_width": null,
       "min_height": null,
       "min_width": null,
       "object_fit": null,
       "object_position": null,
       "order": null,
       "overflow": null,
       "padding": null,
       "right": null,
       "top": null,
       "visibility": null,
       "width": null
      }
     },
     "2ef52c252b41410db0ae1c510942e123": {
      "model_module": "@jupyter-widgets/controls",
      "model_module_version": "2.0.0",
      "model_name": "HTMLModel",
      "state": {
       "_dom_classes": [],
       "_model_module": "@jupyter-widgets/controls",
       "_model_module_version": "2.0.0",
       "_model_name": "HTMLModel",
       "_view_count": null,
       "_view_module": "@jupyter-widgets/controls",
       "_view_module_version": "2.0.0",
       "_view_name": "HTMLView",
       "description": "",
       "description_allow_html": false,
       "layout": "IPY_MODEL_7ece3beccaea41e3b4deeb7acaeae182",
       "placeholder": "​",
       "style": "IPY_MODEL_18fd279f978d4f40a2b1b12e124ecf99",
       "tabbable": null,
       "tooltip": null,
       "value": "Pretend Training: 100%"
      }
     },
     "3142a1410b534eb4920c56202bb9834b": {
      "model_module": "@jupyter-widgets/controls",
      "model_module_version": "2.0.0",
      "model_name": "FloatProgressModel",
      "state": {
       "_dom_classes": [],
       "_model_module": "@jupyter-widgets/controls",
       "_model_module_version": "2.0.0",
       "_model_name": "FloatProgressModel",
       "_view_count": null,
       "_view_module": "@jupyter-widgets/controls",
       "_view_module_version": "2.0.0",
       "_view_name": "ProgressView",
       "bar_style": "success",
       "description": "",
       "description_allow_html": false,
       "layout": "IPY_MODEL_86cf6fff96ec470d95ad16e084b5b28f",
       "max": 10,
       "min": 0,
       "orientation": "horizontal",
       "style": "IPY_MODEL_dc810f00fa284a018207e62076098f6e",
       "tabbable": null,
       "tooltip": null,
       "value": 10
      }
     },
     "34982ce2f48042b788477a1db95cd9a9": {
      "model_module": "@jupyter-widgets/controls",
      "model_module_version": "2.0.0",
      "model_name": "HTMLStyleModel",
      "state": {
       "_model_module": "@jupyter-widgets/controls",
       "_model_module_version": "2.0.0",
       "_model_name": "HTMLStyleModel",
       "_view_count": null,
       "_view_module": "@jupyter-widgets/base",
       "_view_module_version": "2.0.0",
       "_view_name": "StyleView",
       "background": null,
       "description_width": "",
       "font_size": null,
       "text_color": null
      }
     },
     "375cb4725e014e9d92e2b76d6d1ce492": {
      "model_module": "@jupyter-widgets/controls",
      "model_module_version": "2.0.0",
      "model_name": "HTMLStyleModel",
      "state": {
       "_model_module": "@jupyter-widgets/controls",
       "_model_module_version": "2.0.0",
       "_model_name": "HTMLStyleModel",
       "_view_count": null,
       "_view_module": "@jupyter-widgets/base",
       "_view_module_version": "2.0.0",
       "_view_name": "StyleView",
       "background": null,
       "description_width": "",
       "font_size": null,
       "text_color": null
      }
     },
     "417670e73d4744ce9cb4144d374fec4a": {
      "model_module": "@jupyter-widgets/controls",
      "model_module_version": "2.0.0",
      "model_name": "HTMLStyleModel",
      "state": {
       "_model_module": "@jupyter-widgets/controls",
       "_model_module_version": "2.0.0",
       "_model_name": "HTMLStyleModel",
       "_view_count": null,
       "_view_module": "@jupyter-widgets/base",
       "_view_module_version": "2.0.0",
       "_view_name": "StyleView",
       "background": null,
       "description_width": "",
       "font_size": null,
       "text_color": null
      }
     },
     "42b16434f9ce4c0fa65664ec6d0c0d29": {
      "model_module": "@jupyter-widgets/controls",
      "model_module_version": "2.0.0",
      "model_name": "ProgressStyleModel",
      "state": {
       "_model_module": "@jupyter-widgets/controls",
       "_model_module_version": "2.0.0",
       "_model_name": "ProgressStyleModel",
       "_view_count": null,
       "_view_module": "@jupyter-widgets/base",
       "_view_module_version": "2.0.0",
       "_view_name": "StyleView",
       "bar_color": null,
       "description_width": ""
      }
     },
     "54eff40bf66843a2a6c829a35c126e2a": {
      "model_module": "@jupyter-widgets/controls",
      "model_module_version": "2.0.0",
      "model_name": "HTMLModel",
      "state": {
       "_dom_classes": [],
       "_model_module": "@jupyter-widgets/controls",
       "_model_module_version": "2.0.0",
       "_model_name": "HTMLModel",
       "_view_count": null,
       "_view_module": "@jupyter-widgets/controls",
       "_view_module_version": "2.0.0",
       "_view_name": "HTMLView",
       "description": "",
       "description_allow_html": false,
       "layout": "IPY_MODEL_5639bf1dbd2640d48878622a199fe6d6",
       "placeholder": "​",
       "style": "IPY_MODEL_82fd806ef57c47bab280c97a4ef5c39b",
       "tabbable": null,
       "tooltip": null,
       "value": "Pretend Training: 100%"
      }
     },
     "5639bf1dbd2640d48878622a199fe6d6": {
      "model_module": "@jupyter-widgets/base",
      "model_module_version": "2.0.0",
      "model_name": "LayoutModel",
      "state": {
       "_model_module": "@jupyter-widgets/base",
       "_model_module_version": "2.0.0",
       "_model_name": "LayoutModel",
       "_view_count": null,
       "_view_module": "@jupyter-widgets/base",
       "_view_module_version": "2.0.0",
       "_view_name": "LayoutView",
       "align_content": null,
       "align_items": null,
       "align_self": null,
       "border_bottom": null,
       "border_left": null,
       "border_right": null,
       "border_top": null,
       "bottom": null,
       "display": null,
       "flex": null,
       "flex_flow": null,
       "grid_area": null,
       "grid_auto_columns": null,
       "grid_auto_flow": null,
       "grid_auto_rows": null,
       "grid_column": null,
       "grid_gap": null,
       "grid_row": null,
       "grid_template_areas": null,
       "grid_template_columns": null,
       "grid_template_rows": null,
       "height": null,
       "justify_content": null,
       "justify_items": null,
       "left": null,
       "margin": null,
       "max_height": null,
       "max_width": null,
       "min_height": null,
       "min_width": null,
       "object_fit": null,
       "object_position": null,
       "order": null,
       "overflow": null,
       "padding": null,
       "right": null,
       "top": null,
       "visibility": null,
       "width": null
      }
     },
     "6d61351723ee4115bef497f3357ace00": {
      "model_module": "@jupyter-widgets/controls",
      "model_module_version": "2.0.0",
      "model_name": "HTMLModel",
      "state": {
       "_dom_classes": [],
       "_model_module": "@jupyter-widgets/controls",
       "_model_module_version": "2.0.0",
       "_model_name": "HTMLModel",
       "_view_count": null,
       "_view_module": "@jupyter-widgets/controls",
       "_view_module_version": "2.0.0",
       "_view_name": "HTMLView",
       "description": "",
       "description_allow_html": false,
       "layout": "IPY_MODEL_b2d5d38b7be6417ebe3cb3867fd282ee",
       "placeholder": "​",
       "style": "IPY_MODEL_251645fb5b604ab5b4c1186d060ee7f6",
       "tabbable": null,
       "tooltip": null,
       "value": " 20/20 [00:05&lt;00:00,  3.69it/s]"
      }
     },
     "79f5dbcdc7fe41089de4636c793a1b31": {
      "model_module": "@jupyter-widgets/base",
      "model_module_version": "2.0.0",
      "model_name": "LayoutModel",
      "state": {
       "_model_module": "@jupyter-widgets/base",
       "_model_module_version": "2.0.0",
       "_model_name": "LayoutModel",
       "_view_count": null,
       "_view_module": "@jupyter-widgets/base",
       "_view_module_version": "2.0.0",
       "_view_name": "LayoutView",
       "align_content": null,
       "align_items": null,
       "align_self": null,
       "border_bottom": null,
       "border_left": null,
       "border_right": null,
       "border_top": null,
       "bottom": null,
       "display": null,
       "flex": null,
       "flex_flow": null,
       "grid_area": null,
       "grid_auto_columns": null,
       "grid_auto_flow": null,
       "grid_auto_rows": null,
       "grid_column": null,
       "grid_gap": null,
       "grid_row": null,
       "grid_template_areas": null,
       "grid_template_columns": null,
       "grid_template_rows": null,
       "height": null,
       "justify_content": null,
       "justify_items": null,
       "left": null,
       "margin": null,
       "max_height": null,
       "max_width": null,
       "min_height": null,
       "min_width": null,
       "object_fit": null,
       "object_position": null,
       "order": null,
       "overflow": null,
       "padding": null,
       "right": null,
       "top": null,
       "visibility": null,
       "width": null
      }
     },
     "79f6ced1a3194262bb632c1dfc592450": {
      "model_module": "@jupyter-widgets/base",
      "model_module_version": "2.0.0",
      "model_name": "LayoutModel",
      "state": {
       "_model_module": "@jupyter-widgets/base",
       "_model_module_version": "2.0.0",
       "_model_name": "LayoutModel",
       "_view_count": null,
       "_view_module": "@jupyter-widgets/base",
       "_view_module_version": "2.0.0",
       "_view_name": "LayoutView",
       "align_content": null,
       "align_items": null,
       "align_self": null,
       "border_bottom": null,
       "border_left": null,
       "border_right": null,
       "border_top": null,
       "bottom": null,
       "display": null,
       "flex": "2",
       "flex_flow": null,
       "grid_area": null,
       "grid_auto_columns": null,
       "grid_auto_flow": null,
       "grid_auto_rows": null,
       "grid_column": null,
       "grid_gap": null,
       "grid_row": null,
       "grid_template_areas": null,
       "grid_template_columns": null,
       "grid_template_rows": null,
       "height": null,
       "justify_content": null,
       "justify_items": null,
       "left": null,
       "margin": null,
       "max_height": null,
       "max_width": null,
       "min_height": null,
       "min_width": null,
       "object_fit": null,
       "object_position": null,
       "order": null,
       "overflow": null,
       "padding": null,
       "right": null,
       "top": null,
       "visibility": null,
       "width": null
      }
     },
     "7bedcda6e5724115a67bc83113a37ee1": {
      "model_module": "@jupyter-widgets/controls",
      "model_module_version": "2.0.0",
      "model_name": "HTMLModel",
      "state": {
       "_dom_classes": [],
       "_model_module": "@jupyter-widgets/controls",
       "_model_module_version": "2.0.0",
       "_model_name": "HTMLModel",
       "_view_count": null,
       "_view_module": "@jupyter-widgets/controls",
       "_view_module_version": "2.0.0",
       "_view_name": "HTMLView",
       "description": "",
       "description_allow_html": false,
       "layout": "IPY_MODEL_1d7c9de48d9c4c30917df63bae2e8feb",
       "placeholder": "​",
       "style": "IPY_MODEL_0f3c326a91234fce91db081780ff28ea",
       "tabbable": null,
       "tooltip": null,
       "value": " 20/20 [00:04&lt;00:00, 41.30s/it]"
      }
     },
     "7ece3beccaea41e3b4deeb7acaeae182": {
      "model_module": "@jupyter-widgets/base",
      "model_module_version": "2.0.0",
      "model_name": "LayoutModel",
      "state": {
       "_model_module": "@jupyter-widgets/base",
       "_model_module_version": "2.0.0",
       "_model_name": "LayoutModel",
       "_view_count": null,
       "_view_module": "@jupyter-widgets/base",
       "_view_module_version": "2.0.0",
       "_view_name": "LayoutView",
       "align_content": null,
       "align_items": null,
       "align_self": null,
       "border_bottom": null,
       "border_left": null,
       "border_right": null,
       "border_top": null,
       "bottom": null,
       "display": null,
       "flex": null,
       "flex_flow": null,
       "grid_area": null,
       "grid_auto_columns": null,
       "grid_auto_flow": null,
       "grid_auto_rows": null,
       "grid_column": null,
       "grid_gap": null,
       "grid_row": null,
       "grid_template_areas": null,
       "grid_template_columns": null,
       "grid_template_rows": null,
       "height": null,
       "justify_content": null,
       "justify_items": null,
       "left": null,
       "margin": null,
       "max_height": null,
       "max_width": null,
       "min_height": null,
       "min_width": null,
       "object_fit": null,
       "object_position": null,
       "order": null,
       "overflow": null,
       "padding": null,
       "right": null,
       "top": null,
       "visibility": null,
       "width": null
      }
     },
     "82fd806ef57c47bab280c97a4ef5c39b": {
      "model_module": "@jupyter-widgets/controls",
      "model_module_version": "2.0.0",
      "model_name": "HTMLStyleModel",
      "state": {
       "_model_module": "@jupyter-widgets/controls",
       "_model_module_version": "2.0.0",
       "_model_name": "HTMLStyleModel",
       "_view_count": null,
       "_view_module": "@jupyter-widgets/base",
       "_view_module_version": "2.0.0",
       "_view_name": "StyleView",
       "background": null,
       "description_width": "",
       "font_size": null,
       "text_color": null
      }
     },
     "8609546aae824def8053b2a00e1b1f27": {
      "model_module": "@jupyter-widgets/controls",
      "model_module_version": "2.0.0",
      "model_name": "ProgressStyleModel",
      "state": {
       "_model_module": "@jupyter-widgets/controls",
       "_model_module_version": "2.0.0",
       "_model_name": "ProgressStyleModel",
       "_view_count": null,
       "_view_module": "@jupyter-widgets/base",
       "_view_module_version": "2.0.0",
       "_view_name": "StyleView",
       "bar_color": null,
       "description_width": ""
      }
     },
     "86cf6fff96ec470d95ad16e084b5b28f": {
      "model_module": "@jupyter-widgets/base",
      "model_module_version": "2.0.0",
      "model_name": "LayoutModel",
      "state": {
       "_model_module": "@jupyter-widgets/base",
       "_model_module_version": "2.0.0",
       "_model_name": "LayoutModel",
       "_view_count": null,
       "_view_module": "@jupyter-widgets/base",
       "_view_module_version": "2.0.0",
       "_view_name": "LayoutView",
       "align_content": null,
       "align_items": null,
       "align_self": null,
       "border_bottom": null,
       "border_left": null,
       "border_right": null,
       "border_top": null,
       "bottom": null,
       "display": null,
       "flex": "2",
       "flex_flow": null,
       "grid_area": null,
       "grid_auto_columns": null,
       "grid_auto_flow": null,
       "grid_auto_rows": null,
       "grid_column": null,
       "grid_gap": null,
       "grid_row": null,
       "grid_template_areas": null,
       "grid_template_columns": null,
       "grid_template_rows": null,
       "height": null,
       "justify_content": null,
       "justify_items": null,
       "left": null,
       "margin": null,
       "max_height": null,
       "max_width": null,
       "min_height": null,
       "min_width": null,
       "object_fit": null,
       "object_position": null,
       "order": null,
       "overflow": null,
       "padding": null,
       "right": null,
       "top": null,
       "visibility": null,
       "width": null
      }
     },
     "8b6b4588e42a4d189809b2a1312337cf": {
      "model_module": "@jupyter-widgets/controls",
      "model_module_version": "2.0.0",
      "model_name": "FloatProgressModel",
      "state": {
       "_dom_classes": [],
       "_model_module": "@jupyter-widgets/controls",
       "_model_module_version": "2.0.0",
       "_model_name": "FloatProgressModel",
       "_view_count": null,
       "_view_module": "@jupyter-widgets/controls",
       "_view_module_version": "2.0.0",
       "_view_name": "ProgressView",
       "bar_style": "success",
       "description": "",
       "description_allow_html": false,
       "layout": "IPY_MODEL_79f6ced1a3194262bb632c1dfc592450",
       "max": 20,
       "min": 0,
       "orientation": "horizontal",
       "style": "IPY_MODEL_0c51e204a73d4840983eb965ec52be74",
       "tabbable": null,
       "tooltip": null,
       "value": 20
      }
     },
     "910e48d871984eb4bd71f39662424f3f": {
      "model_module": "@jupyter-widgets/base",
      "model_module_version": "2.0.0",
      "model_name": "LayoutModel",
      "state": {
       "_model_module": "@jupyter-widgets/base",
       "_model_module_version": "2.0.0",
       "_model_name": "LayoutModel",
       "_view_count": null,
       "_view_module": "@jupyter-widgets/base",
       "_view_module_version": "2.0.0",
       "_view_name": "LayoutView",
       "align_content": null,
       "align_items": null,
       "align_self": null,
       "border_bottom": null,
       "border_left": null,
       "border_right": null,
       "border_top": null,
       "bottom": null,
       "display": "inline-flex",
       "flex": null,
       "flex_flow": "row wrap",
       "grid_area": null,
       "grid_auto_columns": null,
       "grid_auto_flow": null,
       "grid_auto_rows": null,
       "grid_column": null,
       "grid_gap": null,
       "grid_row": null,
       "grid_template_areas": null,
       "grid_template_columns": null,
       "grid_template_rows": null,
       "height": null,
       "justify_content": null,
       "justify_items": null,
       "left": null,
       "margin": null,
       "max_height": null,
       "max_width": null,
       "min_height": null,
       "min_width": null,
       "object_fit": null,
       "object_position": null,
       "order": null,
       "overflow": null,
       "padding": null,
       "right": null,
       "top": null,
       "visibility": null,
       "width": "100%"
      }
     },
     "9f33c48741b843d094b7e4782555f5d6": {
      "model_module": "@jupyter-widgets/controls",
      "model_module_version": "2.0.0",
      "model_name": "HBoxModel",
      "state": {
       "_dom_classes": [],
       "_model_module": "@jupyter-widgets/controls",
       "_model_module_version": "2.0.0",
       "_model_name": "HBoxModel",
       "_view_count": null,
       "_view_module": "@jupyter-widgets/controls",
       "_view_module_version": "2.0.0",
       "_view_name": "HBoxView",
       "box_style": "",
       "children": [
        "IPY_MODEL_a4da23d82aef4f73a420e513928ce1e0",
        "IPY_MODEL_c7a4f552f6724b3aac7e111121ac0edb",
        "IPY_MODEL_7bedcda6e5724115a67bc83113a37ee1"
       ],
       "layout": "IPY_MODEL_910e48d871984eb4bd71f39662424f3f",
       "tabbable": null,
       "tooltip": null
      }
     },
     "9f383f5fe5844a0f8c68697419f9fdef": {
      "model_module": "ipycanvas",
      "model_module_version": "^0.14",
      "model_name": "CanvasManagerModel",
      "state": {
       "_model_module": "ipycanvas",
       "_model_module_version": "^0.14",
       "_model_name": "CanvasManagerModel",
       "_view_count": null,
       "_view_module": null,
       "_view_module_version": "",
       "_view_name": null
      }
     },
     "a4da23d82aef4f73a420e513928ce1e0": {
      "model_module": "@jupyter-widgets/controls",
      "model_module_version": "2.0.0",
      "model_name": "HTMLModel",
      "state": {
       "_dom_classes": [],
       "_model_module": "@jupyter-widgets/controls",
       "_model_module_version": "2.0.0",
       "_model_name": "HTMLModel",
       "_view_count": null,
       "_view_module": "@jupyter-widgets/controls",
       "_view_module_version": "2.0.0",
       "_view_name": "HTMLView",
       "description": "",
       "description_allow_html": false,
       "layout": "IPY_MODEL_f5a1e439adf44873ae3f6b118bce896d",
       "placeholder": "​",
       "style": "IPY_MODEL_417670e73d4744ce9cb4144d374fec4a",
       "tabbable": null,
       "tooltip": null,
       "value": "Pretend Training: 100%"
      }
     },
     "a5455c7292494220aaa02e01ba88aeb6": {
      "model_module": "@jupyter-widgets/controls",
      "model_module_version": "2.0.0",
      "model_name": "HBoxModel",
      "state": {
       "_dom_classes": [],
       "_model_module": "@jupyter-widgets/controls",
       "_model_module_version": "2.0.0",
       "_model_name": "HBoxModel",
       "_view_count": null,
       "_view_module": "@jupyter-widgets/controls",
       "_view_module_version": "2.0.0",
       "_view_name": "HBoxView",
       "box_style": "",
       "children": [
        "IPY_MODEL_cce5593a7ed741309745cf67652f39ff",
        "IPY_MODEL_8b6b4588e42a4d189809b2a1312337cf",
        "IPY_MODEL_6d61351723ee4115bef497f3357ace00"
       ],
       "layout": "IPY_MODEL_280dc82caef847fc822bdfea62444106",
       "tabbable": null,
       "tooltip": null
      }
     },
     "b257d76db00d4ed095eb804d5c449fcd": {
      "model_module": "@jupyter-widgets/controls",
      "model_module_version": "2.0.0",
      "model_name": "HTMLModel",
      "state": {
       "_dom_classes": [],
       "_model_module": "@jupyter-widgets/controls",
       "_model_module_version": "2.0.0",
       "_model_name": "HTMLModel",
       "_view_count": null,
       "_view_module": "@jupyter-widgets/controls",
       "_view_module_version": "2.0.0",
       "_view_name": "HTMLView",
       "description": "",
       "description_allow_html": false,
       "layout": "IPY_MODEL_e4bf01775e5745b1a251db5935a89841",
       "placeholder": "​",
       "style": "IPY_MODEL_34982ce2f48042b788477a1db95cd9a9",
       "tabbable": null,
       "tooltip": null,
       "value": " 10/10 [00:04&lt;00:00,  1.91it/s]"
      }
     },
     "b2d5d38b7be6417ebe3cb3867fd282ee": {
      "model_module": "@jupyter-widgets/base",
      "model_module_version": "2.0.0",
      "model_name": "LayoutModel",
      "state": {
       "_model_module": "@jupyter-widgets/base",
       "_model_module_version": "2.0.0",
       "_model_name": "LayoutModel",
       "_view_count": null,
       "_view_module": "@jupyter-widgets/base",
       "_view_module_version": "2.0.0",
       "_view_name": "LayoutView",
       "align_content": null,
       "align_items": null,
       "align_self": null,
       "border_bottom": null,
       "border_left": null,
       "border_right": null,
       "border_top": null,
       "bottom": null,
       "display": null,
       "flex": null,
       "flex_flow": null,
       "grid_area": null,
       "grid_auto_columns": null,
       "grid_auto_flow": null,
       "grid_auto_rows": null,
       "grid_column": null,
       "grid_gap": null,
       "grid_row": null,
       "grid_template_areas": null,
       "grid_template_columns": null,
       "grid_template_rows": null,
       "height": null,
       "justify_content": null,
       "justify_items": null,
       "left": null,
       "margin": null,
       "max_height": null,
       "max_width": null,
       "min_height": null,
       "min_width": null,
       "object_fit": null,
       "object_position": null,
       "order": null,
       "overflow": null,
       "padding": null,
       "right": null,
       "top": null,
       "visibility": null,
       "width": null
      }
     },
     "b910a4fd7d614331a5b12129abcd4e44": {
      "model_module": "@jupyter-widgets/controls",
      "model_module_version": "2.0.0",
      "model_name": "HBoxModel",
      "state": {
       "_dom_classes": [],
       "_model_module": "@jupyter-widgets/controls",
       "_model_module_version": "2.0.0",
       "_model_name": "HBoxModel",
       "_view_count": null,
       "_view_module": "@jupyter-widgets/controls",
       "_view_module_version": "2.0.0",
       "_view_name": "HBoxView",
       "box_style": "",
       "children": [
        "IPY_MODEL_2ef52c252b41410db0ae1c510942e123",
        "IPY_MODEL_c9b2fa379304444e87082cf6f5ed8415",
        "IPY_MODEL_ebf21f4cb241473ba0079350a89ddff9"
       ],
       "layout": "IPY_MODEL_d760165fa60c49a5aadc41119137b2bf",
       "tabbable": null,
       "tooltip": null
      }
     },
     "be40e5d6b105455399cf69f18da67929": {
      "model_module": "@jupyter-widgets/base",
      "model_module_version": "2.0.0",
      "model_name": "LayoutModel",
      "state": {
       "_model_module": "@jupyter-widgets/base",
       "_model_module_version": "2.0.0",
       "_model_name": "LayoutModel",
       "_view_count": null,
       "_view_module": "@jupyter-widgets/base",
       "_view_module_version": "2.0.0",
       "_view_name": "LayoutView",
       "align_content": null,
       "align_items": null,
       "align_self": null,
       "border_bottom": null,
       "border_left": null,
       "border_right": null,
       "border_top": null,
       "bottom": null,
       "display": null,
       "flex": "2",
       "flex_flow": null,
       "grid_area": null,
       "grid_auto_columns": null,
       "grid_auto_flow": null,
       "grid_auto_rows": null,
       "grid_column": null,
       "grid_gap": null,
       "grid_row": null,
       "grid_template_areas": null,
       "grid_template_columns": null,
       "grid_template_rows": null,
       "height": null,
       "justify_content": null,
       "justify_items": null,
       "left": null,
       "margin": null,
       "max_height": null,
       "max_width": null,
       "min_height": null,
       "min_width": null,
       "object_fit": null,
       "object_position": null,
       "order": null,
       "overflow": null,
       "padding": null,
       "right": null,
       "top": null,
       "visibility": null,
       "width": null
      }
     },
     "c5022550464444e9b9fd14dac55467c3": {
      "model_module": "@jupyter-widgets/base",
      "model_module_version": "2.0.0",
      "model_name": "LayoutModel",
      "state": {
       "_model_module": "@jupyter-widgets/base",
       "_model_module_version": "2.0.0",
       "_model_name": "LayoutModel",
       "_view_count": null,
       "_view_module": "@jupyter-widgets/base",
       "_view_module_version": "2.0.0",
       "_view_name": "LayoutView",
       "align_content": null,
       "align_items": null,
       "align_self": null,
       "border_bottom": null,
       "border_left": null,
       "border_right": null,
       "border_top": null,
       "bottom": null,
       "display": null,
       "flex": "2",
       "flex_flow": null,
       "grid_area": null,
       "grid_auto_columns": null,
       "grid_auto_flow": null,
       "grid_auto_rows": null,
       "grid_column": null,
       "grid_gap": null,
       "grid_row": null,
       "grid_template_areas": null,
       "grid_template_columns": null,
       "grid_template_rows": null,
       "height": null,
       "justify_content": null,
       "justify_items": null,
       "left": null,
       "margin": null,
       "max_height": null,
       "max_width": null,
       "min_height": null,
       "min_width": null,
       "object_fit": null,
       "object_position": null,
       "order": null,
       "overflow": null,
       "padding": null,
       "right": null,
       "top": null,
       "visibility": null,
       "width": null
      }
     },
     "c67eb4cb1fe1463c8f2d41c62a46d3fb": {
      "model_module": "@jupyter-widgets/controls",
      "model_module_version": "2.0.0",
      "model_name": "HTMLStyleModel",
      "state": {
       "_model_module": "@jupyter-widgets/controls",
       "_model_module_version": "2.0.0",
       "_model_name": "HTMLStyleModel",
       "_view_count": null,
       "_view_module": "@jupyter-widgets/base",
       "_view_module_version": "2.0.0",
       "_view_name": "StyleView",
       "background": null,
       "description_width": "",
       "font_size": null,
       "text_color": null
      }
     },
     "c7a4f552f6724b3aac7e111121ac0edb": {
      "model_module": "@jupyter-widgets/controls",
      "model_module_version": "2.0.0",
      "model_name": "FloatProgressModel",
      "state": {
       "_dom_classes": [],
       "_model_module": "@jupyter-widgets/controls",
       "_model_module_version": "2.0.0",
       "_model_name": "FloatProgressModel",
       "_view_count": null,
       "_view_module": "@jupyter-widgets/controls",
       "_view_module_version": "2.0.0",
       "_view_name": "ProgressView",
       "bar_style": "success",
       "description": "",
       "description_allow_html": false,
       "layout": "IPY_MODEL_c5022550464444e9b9fd14dac55467c3",
       "max": 20,
       "min": 0,
       "orientation": "horizontal",
       "style": "IPY_MODEL_8609546aae824def8053b2a00e1b1f27",
       "tabbable": null,
       "tooltip": null,
       "value": 20
      }
     },
     "c9b2fa379304444e87082cf6f5ed8415": {
      "model_module": "@jupyter-widgets/controls",
      "model_module_version": "2.0.0",
      "model_name": "FloatProgressModel",
      "state": {
       "_dom_classes": [],
       "_model_module": "@jupyter-widgets/controls",
       "_model_module_version": "2.0.0",
       "_model_name": "FloatProgressModel",
       "_view_count": null,
       "_view_module": "@jupyter-widgets/controls",
       "_view_module_version": "2.0.0",
       "_view_name": "ProgressView",
       "bar_style": "success",
       "description": "",
       "description_allow_html": false,
       "layout": "IPY_MODEL_be40e5d6b105455399cf69f18da67929",
       "max": 40,
       "min": 0,
       "orientation": "horizontal",
       "style": "IPY_MODEL_42b16434f9ce4c0fa65664ec6d0c0d29",
       "tabbable": null,
       "tooltip": null,
       "value": 40
      }
     },
     "cce5593a7ed741309745cf67652f39ff": {
      "model_module": "@jupyter-widgets/controls",
      "model_module_version": "2.0.0",
      "model_name": "HTMLModel",
      "state": {
       "_dom_classes": [],
       "_model_module": "@jupyter-widgets/controls",
       "_model_module_version": "2.0.0",
       "_model_name": "HTMLModel",
       "_view_count": null,
       "_view_module": "@jupyter-widgets/controls",
       "_view_module_version": "2.0.0",
       "_view_name": "HTMLView",
       "description": "",
       "description_allow_html": false,
       "layout": "IPY_MODEL_2c701b9cf3b24f51a75c10332d86d5ba",
       "placeholder": "​",
       "style": "IPY_MODEL_c67eb4cb1fe1463c8f2d41c62a46d3fb",
       "tabbable": null,
       "tooltip": null,
       "value": "Pretend Training: 100%"
      }
     },
     "d760165fa60c49a5aadc41119137b2bf": {
      "model_module": "@jupyter-widgets/base",
      "model_module_version": "2.0.0",
      "model_name": "LayoutModel",
      "state": {
       "_model_module": "@jupyter-widgets/base",
       "_model_module_version": "2.0.0",
       "_model_name": "LayoutModel",
       "_view_count": null,
       "_view_module": "@jupyter-widgets/base",
       "_view_module_version": "2.0.0",
       "_view_name": "LayoutView",
       "align_content": null,
       "align_items": null,
       "align_self": null,
       "border_bottom": null,
       "border_left": null,
       "border_right": null,
       "border_top": null,
       "bottom": null,
       "display": "inline-flex",
       "flex": null,
       "flex_flow": "row wrap",
       "grid_area": null,
       "grid_auto_columns": null,
       "grid_auto_flow": null,
       "grid_auto_rows": null,
       "grid_column": null,
       "grid_gap": null,
       "grid_row": null,
       "grid_template_areas": null,
       "grid_template_columns": null,
       "grid_template_rows": null,
       "height": null,
       "justify_content": null,
       "justify_items": null,
       "left": null,
       "margin": null,
       "max_height": null,
       "max_width": null,
       "min_height": null,
       "min_width": null,
       "object_fit": null,
       "object_position": null,
       "order": null,
       "overflow": null,
       "padding": null,
       "right": null,
       "top": null,
       "visibility": null,
       "width": "100%"
      }
     },
     "d8d186ff9d014db78d64cb205a9a3ba8": {
      "model_module": "@jupyter-widgets/controls",
      "model_module_version": "2.0.0",
      "model_name": "HBoxModel",
      "state": {
       "_dom_classes": [],
       "_model_module": "@jupyter-widgets/controls",
       "_model_module_version": "2.0.0",
       "_model_name": "HBoxModel",
       "_view_count": null,
       "_view_module": "@jupyter-widgets/controls",
       "_view_module_version": "2.0.0",
       "_view_name": "HBoxView",
       "box_style": "",
       "children": [
        "IPY_MODEL_54eff40bf66843a2a6c829a35c126e2a",
        "IPY_MODEL_3142a1410b534eb4920c56202bb9834b",
        "IPY_MODEL_b257d76db00d4ed095eb804d5c449fcd"
       ],
       "layout": "IPY_MODEL_e18fb0192124469a96508fc4beb4a871",
       "tabbable": null,
       "tooltip": null
      }
     },
     "dc810f00fa284a018207e62076098f6e": {
      "model_module": "@jupyter-widgets/controls",
      "model_module_version": "2.0.0",
      "model_name": "ProgressStyleModel",
      "state": {
       "_model_module": "@jupyter-widgets/controls",
       "_model_module_version": "2.0.0",
       "_model_name": "ProgressStyleModel",
       "_view_count": null,
       "_view_module": "@jupyter-widgets/base",
       "_view_module_version": "2.0.0",
       "_view_name": "StyleView",
       "bar_color": null,
       "description_width": ""
      }
     },
     "e18fb0192124469a96508fc4beb4a871": {
      "model_module": "@jupyter-widgets/base",
      "model_module_version": "2.0.0",
      "model_name": "LayoutModel",
      "state": {
       "_model_module": "@jupyter-widgets/base",
       "_model_module_version": "2.0.0",
       "_model_name": "LayoutModel",
       "_view_count": null,
       "_view_module": "@jupyter-widgets/base",
       "_view_module_version": "2.0.0",
       "_view_name": "LayoutView",
       "align_content": null,
       "align_items": null,
       "align_self": null,
       "border_bottom": null,
       "border_left": null,
       "border_right": null,
       "border_top": null,
       "bottom": null,
       "display": "inline-flex",
       "flex": null,
       "flex_flow": "row wrap",
       "grid_area": null,
       "grid_auto_columns": null,
       "grid_auto_flow": null,
       "grid_auto_rows": null,
       "grid_column": null,
       "grid_gap": null,
       "grid_row": null,
       "grid_template_areas": null,
       "grid_template_columns": null,
       "grid_template_rows": null,
       "height": null,
       "justify_content": null,
       "justify_items": null,
       "left": null,
       "margin": null,
       "max_height": null,
       "max_width": null,
       "min_height": null,
       "min_width": null,
       "object_fit": null,
       "object_position": null,
       "order": null,
       "overflow": null,
       "padding": null,
       "right": null,
       "top": null,
       "visibility": null,
       "width": "100%"
      }
     },
     "e4bf01775e5745b1a251db5935a89841": {
      "model_module": "@jupyter-widgets/base",
      "model_module_version": "2.0.0",
      "model_name": "LayoutModel",
      "state": {
       "_model_module": "@jupyter-widgets/base",
       "_model_module_version": "2.0.0",
       "_model_name": "LayoutModel",
       "_view_count": null,
       "_view_module": "@jupyter-widgets/base",
       "_view_module_version": "2.0.0",
       "_view_name": "LayoutView",
       "align_content": null,
       "align_items": null,
       "align_self": null,
       "border_bottom": null,
       "border_left": null,
       "border_right": null,
       "border_top": null,
       "bottom": null,
       "display": null,
       "flex": null,
       "flex_flow": null,
       "grid_area": null,
       "grid_auto_columns": null,
       "grid_auto_flow": null,
       "grid_auto_rows": null,
       "grid_column": null,
       "grid_gap": null,
       "grid_row": null,
       "grid_template_areas": null,
       "grid_template_columns": null,
       "grid_template_rows": null,
       "height": null,
       "justify_content": null,
       "justify_items": null,
       "left": null,
       "margin": null,
       "max_height": null,
       "max_width": null,
       "min_height": null,
       "min_width": null,
       "object_fit": null,
       "object_position": null,
       "order": null,
       "overflow": null,
       "padding": null,
       "right": null,
       "top": null,
       "visibility": null,
       "width": null
      }
     },
     "ebf21f4cb241473ba0079350a89ddff9": {
      "model_module": "@jupyter-widgets/controls",
      "model_module_version": "2.0.0",
      "model_name": "HTMLModel",
      "state": {
       "_dom_classes": [],
       "_model_module": "@jupyter-widgets/controls",
       "_model_module_version": "2.0.0",
       "_model_name": "HTMLModel",
       "_view_count": null,
       "_view_module": "@jupyter-widgets/controls",
       "_view_module_version": "2.0.0",
       "_view_name": "HTMLView",
       "description": "",
       "description_allow_html": false,
       "layout": "IPY_MODEL_79f5dbcdc7fe41089de4636c793a1b31",
       "placeholder": "​",
       "style": "IPY_MODEL_375cb4725e014e9d92e2b76d6d1ce492",
       "tabbable": null,
       "tooltip": null,
       "value": " 40/40 [00:05&lt;00:00,  7.23it/s]"
      }
     },
     "f5a1e439adf44873ae3f6b118bce896d": {
      "model_module": "@jupyter-widgets/base",
      "model_module_version": "2.0.0",
      "model_name": "LayoutModel",
      "state": {
       "_model_module": "@jupyter-widgets/base",
       "_model_module_version": "2.0.0",
       "_model_name": "LayoutModel",
       "_view_count": null,
       "_view_module": "@jupyter-widgets/base",
       "_view_module_version": "2.0.0",
       "_view_name": "LayoutView",
       "align_content": null,
       "align_items": null,
       "align_self": null,
       "border_bottom": null,
       "border_left": null,
       "border_right": null,
       "border_top": null,
       "bottom": null,
       "display": null,
       "flex": null,
       "flex_flow": null,
       "grid_area": null,
       "grid_auto_columns": null,
       "grid_auto_flow": null,
       "grid_auto_rows": null,
       "grid_column": null,
       "grid_gap": null,
       "grid_row": null,
       "grid_template_areas": null,
       "grid_template_columns": null,
       "grid_template_rows": null,
       "height": null,
       "justify_content": null,
       "justify_items": null,
       "left": null,
       "margin": null,
       "max_height": null,
       "max_width": null,
       "min_height": null,
       "min_width": null,
       "object_fit": null,
       "object_position": null,
       "order": null,
       "overflow": null,
       "padding": null,
       "right": null,
       "top": null,
       "visibility": null,
       "width": null
      }
     }
    },
    "version_major": 2,
    "version_minor": 0
   }
  }
 },
 "nbformat": 4,
 "nbformat_minor": 2
}