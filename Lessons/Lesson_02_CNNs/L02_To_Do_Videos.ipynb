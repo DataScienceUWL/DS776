{
 "cells": [
  {
   "cell_type": "markdown",
   "metadata": {},
   "source": [
    "* MNIST-FC\n",
    "    * Overview Video - Highlights:\n",
    "        * MNIST Dataset\n",
    "        * Normalization\n",
    "        * Model walkthrough (version 2)\n",
    "        * Evaluating Model and Visualization\n",
    "* Conv Formulas\n",
    "    * Just give basics of formula\n",
    "* MNIST-CNN\n",
    "    * LeNet5 Model Walkthrough\n",
    "    * Visualizing Feature Maps\n",
    "    * LeNet5 Revised (quick tour of rest of notebook)"
   ]
  }
 ],
 "metadata": {
  "kernelspec": {
   "display_name": "DS776_env",
   "language": "python",
   "name": "python3"
  },
  "language_info": {
   "codemirror_mode": {
    "name": "ipython",
    "version": 3
   },
   "file_extension": ".py",
   "mimetype": "text/x-python",
   "name": "python",
   "nbconvert_exporter": "python",
   "pygments_lexer": "ipython3",
   "version": "3.11.10"
  }
 },
 "nbformat": 4,
 "nbformat_minor": 2
}
