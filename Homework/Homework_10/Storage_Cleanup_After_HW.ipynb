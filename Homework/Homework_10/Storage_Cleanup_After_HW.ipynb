{
 "cells": [
  {
   "cell_type": "code",
   "source": "# DS776 Auto-Update (runs in ~2 seconds, only updates when needed)\n# If this cell fails, see Lessons/Course_Tools/AUTO_UPDATE_SYSTEM.md for help\n%run ../../Lessons/Course_Tools/auto_update_introdl.py",
   "metadata": {},
   "execution_count": null,
   "outputs": []
  },
  {
   "cell_type": "code",
   "execution_count": null,
   "metadata": {},
   "outputs": [],
   "source": [
    "# Import storage utilities from introdl\n",
    "from introdl.storage import (\n",
    "    get_homework_storage_report,\n",
    "    clear_homework_storage,\n",
    "    format_size\n",
    ")"
   ]
  },
  {
   "cell_type": "markdown",
   "metadata": {},
   "source": "## 1. Comprehensive Storage Report\n\nThis cell analyzes storage usage across all previous lessons and homework, plus workspace folders.\n\n\u23f1\ufe0f **Note**: Running this cell may take 1-2 minutes as it searches through all folders in the course directory to calculate sizes."
  },
  {
   "cell_type": "code",
   "execution_count": null,
   "metadata": {},
   "outputs": [],
   "source": "# Get storage report (auto-detects current homework number)\nstorage_items, total_storage, current_hw = get_homework_storage_report()\n\nprint(\"=\" * 70)\nprint(f\"\ud83d\udcca DS776 STORAGE REPORT - Homework {current_hw:02d}\")\nprint(\"=\" * 70)\n\nif len(storage_items) == 0:\n    print(\"\\n\u2728 No storage to analyze - everything is already clean!\")\nelse:\n    print(f\"\\n\ud83d\udcc1 Found {len(storage_items)} folders using storage:\\n\")\n\n    # Group by type for better organization\n    workspace_items = []\n    lesson_items = []\n    homework_items = []\n    hf_cache_items = []\n\n    for folder_path, size in storage_items:\n        if 'huggingface' in str(folder_path) and '.cache' in str(folder_path):\n            hf_cache_items.append((folder_path, size))\n        elif 'workspace' in str(folder_path):\n            workspace_items.append((folder_path, size))\n        elif 'Lesson' in folder_path.name:\n            lesson_items.append((folder_path, size))\n        elif 'Homework' in folder_path.name:\n            homework_items.append((folder_path, size))\n\n    # Display workspace folders\n    if workspace_items:\n        print(\"\ud83d\udce6 WORKSPACE FOLDERS\")\n        print(\"-\" * 70)\n        for folder_path, size in workspace_items:\n            # Show relative path from workspace\n            if 'home_workspace' in str(folder_path):\n                display_path = f\"home_workspace/{folder_path.name}\"\n            else:\n                display_path = f\"cs_workspace/{folder_path.name}\"\n            print(f\"  \u2022 {display_path:30s} {format_size(size):>12s}\")\n\n    # Display HuggingFace cache\n    if hf_cache_items:\n        print(\"\\n\ud83e\udd17 HUGGINGFACE CACHE\")\n        print(\"-\" * 70)\n        for folder_path, size in hf_cache_items:\n            print(f\"  \u2022 ~/.cache/huggingface        {format_size(size):>12s}\")\n            print(\"    (Cached models and datasets from HuggingFace Hub)\")\n\n    # Display lesson models\n    if lesson_items:\n        print(f\"\\n\ud83d\udcda LESSON MODELS (Lessons 1-{current_hw})\")\n        print(\"-\" * 70)\n        for folder_path, size in lesson_items:\n            print(f\"  \u2022 {folder_path.name:30s} {format_size(size):>12s}\")\n\n    # Display homework models\n    if homework_items:\n        print(f\"\\n\ud83d\udcdd HOMEWORK MODELS (Homework 1-{current_hw-1})\")\n        print(\"-\" * 70)\n        for folder_path, size in homework_items:\n            print(f\"  \u2022 {folder_path.name:30s} {format_size(size):>12s}\")\n\n    # Summary\n    print(\"\\n\" + \"=\" * 70)\n    print(f\"\ud83d\udcca TOTAL STORAGE ANALYZED: {format_size(total_storage)}\")\n    print(f\"\ud83d\udcc1 Total folders: {len(storage_items)}\")\n    print(\"=\" * 70)\n\n    print(\"\\n\ud83d\udca1 This storage can be safely cleared:\")\n    print(\"   \u2022 Data/downloads will re-download automatically when needed\")\n    print(\"   \u2022 Model checkpoints can be retrained or recovered from CoCalc backups\")\n    print(\"   \u2022 HuggingFace models will re-download automatically when needed\")\n    print(\"   \u2022 You can zip and download folders first if you want to keep them\")"
  },
  {
   "cell_type": "markdown",
   "metadata": {},
   "source": "## 2. Clear Storage\n\nThis cell removes the contents of all analyzed folders to free up space.\n\n### What Gets Deleted:\n- Contents of `home_workspace/data/`, `home_workspace/downloads/`, `home_workspace/models/` \u2190 Only files inside\n- Contents of `cs_workspace/data/`, `cs_workspace/downloads/`, `cs_workspace/models/` \u2190 Only files inside (compute server)\n- Contents of `~/.cache/huggingface/` \u2190 HuggingFace Hub cache (re-downloads automatically)\n- All Lesson_XX_Models folders \u2190 Entire folders deleted\n- All Homework_XX_Models folders (previous homework only) \u2190 Entire folders deleted\n- YOLO `*.pt` files in Homework_06 (if running from HW 7+)\n\n### What's Protected:\n- \u2705 `home_workspace/api_keys.env` - NOT touched\n- \u2705 Other files in root of home_workspace - NOT touched\n- \u2705 Current homework models - NOT touched\n- \u2705 Your homework notebooks and code - NOT affected\n- \u2705 All deleted files can be recreated or re-downloaded\n- \u2705 CoCalc backups maintain copies of your trained models\n\n**Run this cell to clear storage:**"
  },
  {
   "cell_type": "code",
   "execution_count": null,
   "metadata": {},
   "outputs": [],
   "source": [
    "# Clear storage (use dry_run=True to preview first)\n",
    "results = clear_homework_storage(storage_items, dry_run=False)\n",
    "\n",
    "print(f\"\\n\u2705 Cleanup complete!\")\n",
    "print(f\"\ud83d\udcbe Freed {format_size(results['cleared_size'])}\")\n",
    "print(f\"\ud83d\udcc1 Cleared {results['cleared_count']} folders\")\n",
    "\n",
    "if results['failed_count'] > 0:\n",
    "    print(f\"\u26a0\ufe0f Failed to clear {results['failed_count']} folders\")"
   ]
  },
  {
   "cell_type": "markdown",
   "metadata": {},
   "source": [
    "## 3. Verify Storage Cleared\n",
    "\n",
    "Run this cell to verify that storage has been successfully cleared:"
   ]
  },
  {
   "cell_type": "code",
   "execution_count": null,
   "metadata": {},
   "outputs": [],
   "source": [
    "# Re-run storage analysis to verify\n",
    "storage_items_after, total_storage_after, _ = get_homework_storage_report()\n",
    "\n",
    "print(\"=\" * 70)\n",
    "print(\"\ud83d\udcca VERIFICATION - Storage After Cleanup\")\n",
    "print(\"=\" * 70)\n",
    "\n",
    "if total_storage_after == 0:\n",
    "    print(\"\\n\u2728 SUCCESS! All analyzed folders are now empty.\")\n",
    "    print(f\"\ud83d\udcbe Total storage freed: {format_size(total_storage)}\")\n",
    "else:\n",
    "    print(f\"\\n\u26a0\ufe0f Some storage remains: {format_size(total_storage_after)}\")\n",
    "    print(\"\\nRemaining items:\")\n",
    "    for folder_path, size in storage_items_after:\n",
    "        if size > 0:\n",
    "            print(f\"  \u2022 {folder_path.name}: {format_size(size)}\")\n",
    "\n",
    "print(\"\\n\" + \"=\" * 70)"
   ]
  },
  {
   "cell_type": "markdown",
   "metadata": {},
   "source": "---\n\n## Summary\n\nThis notebook helps you manage storage by:\n\n1. **Analyzing** storage usage across:\n   - Workspace subfolders: `data/`, `downloads/`, `models/`\n   - HuggingFace cache: `~/.cache/huggingface/`\n   - Previous lesson models (auto-detected)\n   - Previous homework models (auto-detected)\n\n2. **Clearing** contents of those specific folders in one step\n\n3. **Verifying** that storage was successfully cleared\n\n### Safety Notes:\n\n\u2705 **Everything can be recovered:**\n- Data and downloads re-download automatically\n- HuggingFace models re-download automatically when needed\n- Model checkpoints can be retrained\n- CoCalc backups maintain copies\n\n\u2705 **Protected files:**\n- `home_workspace/api_keys.env` is NOT touched\n- Other files in root of workspaces are NOT touched\n- Only specific subfolders are cleared\n\n\ud83d\udcbe **To keep your models:**\n- Zip model folders in CoCalc file browser\n- Download zip files to local machine\n- Access CoCalc backups if needed\n\n\u26a0\ufe0f **Not affected:**\n- Current homework models (auto-detected)\n- Future homework/lesson models (auto-detected)\n- Your homework notebooks and code"
  }
 ],
 "metadata": {
  "kernelspec": {
   "display_name": "Python 3",
   "language": "python",
   "name": "python3"
  },
  "language_info": {
   "codemirror_mode": {
    "name": "ipython",
    "version": 3
   },
   "file_extension": ".py",
   "mimetype": "text/x-python",
   "name": "python",
   "nbconvert_exporter": "python",
   "pygments_lexer": "ipython3",
   "version": "3.8.0"
  }
 },
 "nbformat": 4,
 "nbformat_minor": 4
}