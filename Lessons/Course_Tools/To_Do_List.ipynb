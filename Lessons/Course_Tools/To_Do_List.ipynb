{
 "cells": [
  {
   "cell_type": "markdown",
   "metadata": {},
   "source": [
    "## Things to work on in Course Tools\n",
    "\n",
    "* **introdl.idlmam**\n",
    "    * remove the unused RNN functions\n",
    "    * move everything else to introdl.utils, but cite idlmam package and textbook\n",
    "    * LONG TERM: consider building on top of pytorch_lightning\n",
    "\n",
    "* **introdl.nlp**\n",
    "    * refactor code to only use generate_text instead of llm_configure and llm_generate\n",
    "    * add `token=os.getenv('HF_TOKEN')` throughout to get rid of HuggingFace warnings"
   ]
  }
 ],
 "metadata": {
  "language_info": {
   "name": "python"
  }
 },
 "nbformat": 4,
 "nbformat_minor": 2
}
