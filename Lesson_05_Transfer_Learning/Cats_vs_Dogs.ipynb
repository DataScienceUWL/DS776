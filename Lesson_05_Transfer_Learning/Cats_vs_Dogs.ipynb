{
 "cells": [
  {
   "cell_type": "code",
   "execution_count": 6,
   "metadata": {},
   "outputs": [],
   "source": [
    "# imports\n",
    "import numpy as np\n",
    "import seaborn as sns\n",
    "import matplotlib.pyplot as plt\n",
    "import pandas as pd\n",
    "from IPython.display import display, HTML\n",
    "\n",
    "from sklearn.metrics import accuracy_score\n",
    "from sklearn.metrics import confusion_matrix, ConfusionMatrixDisplay\n",
    "\n",
    "import torch\n",
    "import torch.nn as nn\n",
    "import torch.nn.functional as F\n",
    "import torch.optim as optim\n",
    "from torch.utils.data import DataLoader, random_split\n",
    "import torchvision.transforms as transforms\n",
    "from torchvision.utils import make_grid\n",
    "from torchvision.datasets import ImageFolder\n",
    "import torchvision.models as models\n",
    "from torchvision.models import MobileNet_V3_Small_Weights\n",
    "\n",
    "from torchinfo import summary\n",
    "\n",
    "from introdl.utils import get_device, load_results, load_model, summarizer\n",
    "from introdl.idlmam import train_network\n",
    "from introdl.visul import plot_training_metrics\n",
    "\n",
    "sns.set_theme(style='whitegrid')\n",
    "plt.rcParams['figure.figsize'] = [8, 6]  # Set the default figure size (width, height) in inches"
   ]
  },
  {
   "cell_type": "code",
   "execution_count": 14,
   "metadata": {},
   "outputs": [],
   "source": [
    "# Set random seed for reproducibility\n",
    "seed = 42\n",
    "torch.manual_seed(seed)\n",
    "np.random.seed(seed)\n",
    "\n",
    "# Define transformations with normalization\n",
    "transform = transforms.Compose([\n",
    "    transforms.Resize(224),                          # Resize the shortest side to 130\n",
    "    transforms.CenterCrop(224),                      # Center crop to 128x128\n",
    "    transforms.ToTensor(),                           # Convert image to tensor\n",
    "    transforms.Normalize(mean=[0.485, 0.456, 0.406], # Normalize with ImageNet stats\n",
    "                         std=[0.229, 0.224, 0.225])\n",
    "])\n",
    "\n",
    "# Load dataset\n",
    "dataset_path = \"../../data/cats_and_dogs/PetImages\"\n",
    "dataset = ImageFolder(root=dataset_path, transform=transform)\n",
    "\n",
    "# Split into train and test sets\n",
    "train_size = int(0.8 * len(dataset))\n",
    "test_size = len(dataset) - train_size\n",
    "train_dataset, test_dataset = random_split(dataset, [train_size, test_size])\n",
    "\n",
    "# Create data loaders\n",
    "train_loader = DataLoader(train_dataset, batch_size=16, shuffle=True)\n",
    "test_loader = DataLoader(test_dataset, batch_size=16, shuffle=False)\n"
   ]
  },
  {
   "cell_type": "code",
   "execution_count": 15,
   "metadata": {},
   "outputs": [],
   "source": [
    "\n",
    "# Load the pre-trained model with new API\n",
    "model = models.mobilenet_v3_small(weights=MobileNet_V3_Small_Weights.DEFAULT)\n",
    "\n",
    "# Change the number of output classes to 3\n",
    "model.classifier[-1] = torch.nn.Linear(model.classifier[-1].in_features, 3)\n",
    "\n",
    "# Freeze all layers except the classifier\n",
    "for param in model.features.parameters():\n",
    "    param.requires_grad = False"
   ]
  },
  {
   "cell_type": "code",
   "execution_count": 16,
   "metadata": {},
   "outputs": [
    {
     "name": "stdout",
     "output_type": "stream",
     "text": [
      "==============================================================================================================\n",
      "Layer (type:depth-idx)                             Input Shape          Output Shape         Param #\n",
      "==============================================================================================================\n",
      "MobileNetV3                                        [16, 3, 128, 128]    [16, 3]              --\n",
      "├─Sequential: 1-1                                  [16, 3, 128, 128]    [16, 576, 4, 4]      --\n",
      "│    └─Conv2dNormActivation: 2-1                   [16, 3, 128, 128]    [16, 16, 64, 64]     --\n",
      "│    │    └─Conv2d: 3-1                            [16, 3, 128, 128]    [16, 16, 64, 64]     (432)\n",
      "│    │    └─BatchNorm2d: 3-2                       [16, 16, 64, 64]     [16, 16, 64, 64]     (32)\n",
      "│    │    └─Hardswish: 3-3                         [16, 16, 64, 64]     [16, 16, 64, 64]     --\n",
      "│    └─InvertedResidual: 2-2                       [16, 16, 64, 64]     [16, 16, 32, 32]     --\n",
      "│    │    └─Sequential: 3-4                        [16, 16, 64, 64]     [16, 16, 32, 32]     (744)\n",
      "│    └─InvertedResidual: 2-3                       [16, 16, 32, 32]     [16, 24, 16, 16]     --\n",
      "│    │    └─Sequential: 3-5                        [16, 16, 32, 32]     [16, 24, 16, 16]     (3,864)\n",
      "│    └─InvertedResidual: 2-4                       [16, 24, 16, 16]     [16, 24, 16, 16]     --\n",
      "│    │    └─Sequential: 3-6                        [16, 24, 16, 16]     [16, 24, 16, 16]     (5,416)\n",
      "│    └─InvertedResidual: 2-5                       [16, 24, 16, 16]     [16, 40, 8, 8]       --\n",
      "│    │    └─Sequential: 3-7                        [16, 24, 16, 16]     [16, 40, 8, 8]       (13,736)\n",
      "│    └─InvertedResidual: 2-6                       [16, 40, 8, 8]       [16, 40, 8, 8]       --\n",
      "│    │    └─Sequential: 3-8                        [16, 40, 8, 8]       [16, 40, 8, 8]       (57,264)\n",
      "│    └─InvertedResidual: 2-7                       [16, 40, 8, 8]       [16, 40, 8, 8]       --\n",
      "│    │    └─Sequential: 3-9                        [16, 40, 8, 8]       [16, 40, 8, 8]       (57,264)\n",
      "│    └─InvertedResidual: 2-8                       [16, 40, 8, 8]       [16, 48, 8, 8]       --\n",
      "│    │    └─Sequential: 3-10                       [16, 40, 8, 8]       [16, 48, 8, 8]       (21,968)\n",
      "│    └─InvertedResidual: 2-9                       [16, 48, 8, 8]       [16, 48, 8, 8]       --\n",
      "│    │    └─Sequential: 3-11                       [16, 48, 8, 8]       [16, 48, 8, 8]       (29,800)\n",
      "│    └─InvertedResidual: 2-10                      [16, 48, 8, 8]       [16, 96, 4, 4]       --\n",
      "│    │    └─Sequential: 3-12                       [16, 48, 8, 8]       [16, 96, 4, 4]       (91,848)\n",
      "│    └─InvertedResidual: 2-11                      [16, 96, 4, 4]       [16, 96, 4, 4]       --\n",
      "│    │    └─Sequential: 3-13                       [16, 96, 4, 4]       [16, 96, 4, 4]       (294,096)\n",
      "│    └─InvertedResidual: 2-12                      [16, 96, 4, 4]       [16, 96, 4, 4]       --\n",
      "│    │    └─Sequential: 3-14                       [16, 96, 4, 4]       [16, 96, 4, 4]       (294,096)\n",
      "│    └─Conv2dNormActivation: 2-13                  [16, 96, 4, 4]       [16, 576, 4, 4]      --\n",
      "│    │    └─Conv2d: 3-15                           [16, 96, 4, 4]       [16, 576, 4, 4]      (55,296)\n",
      "│    │    └─BatchNorm2d: 3-16                      [16, 576, 4, 4]      [16, 576, 4, 4]      (1,152)\n",
      "│    │    └─Hardswish: 3-17                        [16, 576, 4, 4]      [16, 576, 4, 4]      --\n",
      "├─AdaptiveAvgPool2d: 1-2                           [16, 576, 4, 4]      [16, 576, 1, 1]      --\n",
      "├─Sequential: 1-3                                  [16, 576]            [16, 3]              --\n",
      "│    └─Linear: 2-14                                [16, 576]            [16, 1024]           590,848\n",
      "│    └─Hardswish: 2-15                             [16, 1024]           [16, 1024]           --\n",
      "│    └─Dropout: 2-16                               [16, 1024]           [16, 1024]           --\n",
      "│    └─Linear: 2-17                                [16, 1024]           [16, 3]              3,075\n",
      "==============================================================================================================\n",
      "Total params: 1,520,931\n",
      "Trainable params: 593,923\n",
      "Non-trainable params: 927,008\n",
      "Total mult-adds (Units.MEGABYTES): 301.49\n",
      "==============================================================================================================\n",
      "Input size (MB): 3.15\n",
      "Forward/backward pass size (MB): 118.60\n",
      "Params size (MB): 6.08\n",
      "Estimated Total Size (MB): 127.83\n",
      "==============================================================================================================\n"
     ]
    }
   ],
   "source": [
    "summarizer(model, input_size=(16, 3, 128, 128))"
   ]
  },
  {
   "cell_type": "code",
   "execution_count": 17,
   "metadata": {},
   "outputs": [
    {
     "name": "stdout",
     "output_type": "stream",
     "text": [
      "mps\n"
     ]
    }
   ],
   "source": [
    "loss_func = nn.CrossEntropyLoss()  # Cross-entropy loss for classification\n",
    "optimizer = optim.AdamW(model.parameters())  # Adam optimizer\n",
    "\n",
    "device = get_device()\n",
    "print(device)\n",
    "\n",
    "ckpt_file = 'models/model_mnv3.pt'\n",
    "epochs = 3\n",
    "\n",
    "score_funcs = {'ACC':accuracy_score}"
   ]
  },
  {
   "cell_type": "code",
   "execution_count": 18,
   "metadata": {},
   "outputs": [
    {
     "name": "stderr",
     "output_type": "stream",
     "text": [
      "Epoch:   0%|          | 0/3 [00:00<?, ?it/s]/Users/jbaggett/miniforge3/envs/DS776v2/lib/python3.11/site-packages/PIL/TiffImagePlugin.py:900: UserWarning: Truncated File Read\n",
      "  warnings.warn(str(msg))\n",
      "Epoch:  33%|███▎      | 1/3 [01:37<03:14, 97.11s/it]/Users/jbaggett/miniforge3/envs/DS776v2/lib/python3.11/site-packages/PIL/TiffImagePlugin.py:900: UserWarning: Truncated File Read\n",
      "  warnings.warn(str(msg))\n",
      "Epoch:  67%|██████▋   | 2/3 [03:07<01:33, 93.41s/it]/Users/jbaggett/miniforge3/envs/DS776v2/lib/python3.11/site-packages/PIL/TiffImagePlugin.py:900: UserWarning: Truncated File Read\n",
      "  warnings.warn(str(msg))\n",
      "Epoch: 100%|██████████| 3/3 [04:38<00:00, 92.87s/it]\n"
     ]
    }
   ],
   "source": [
    "results = train_network(model,\n",
    "                        loss_func,\n",
    "                        train_loader,\n",
    "                        device=device,\n",
    "                        test_loader=test_loader,\n",
    "                        epochs = epochs,\n",
    "                        optimizer = optimizer,\n",
    "                        score_funcs = score_funcs,\n",
    "                        checkpoint_file=ckpt_file,\n",
    "                        resume_checkpoint=False)"
   ]
  },
  {
   "cell_type": "code",
   "execution_count": 19,
   "metadata": {},
   "outputs": [
    {
     "data": {
      "text/html": [
       "<div>\n",
       "<style scoped>\n",
       "    .dataframe tbody tr th:only-of-type {\n",
       "        vertical-align: middle;\n",
       "    }\n",
       "\n",
       "    .dataframe tbody tr th {\n",
       "        vertical-align: top;\n",
       "    }\n",
       "\n",
       "    .dataframe thead th {\n",
       "        text-align: right;\n",
       "    }\n",
       "</style>\n",
       "<table border=\"1\" class=\"dataframe\">\n",
       "  <thead>\n",
       "    <tr style=\"text-align: right;\">\n",
       "      <th></th>\n",
       "      <th>epoch</th>\n",
       "      <th>total time</th>\n",
       "      <th>train loss</th>\n",
       "      <th>test loss</th>\n",
       "      <th>train ACC</th>\n",
       "      <th>test ACC</th>\n",
       "    </tr>\n",
       "  </thead>\n",
       "  <tbody>\n",
       "    <tr>\n",
       "      <th>0</th>\n",
       "      <td>0</td>\n",
       "      <td>78.855764</td>\n",
       "      <td>0.200555</td>\n",
       "      <td>0.118011</td>\n",
       "      <td>0.915842</td>\n",
       "      <td>0.9516</td>\n",
       "    </tr>\n",
       "    <tr>\n",
       "      <th>1</th>\n",
       "      <td>1</td>\n",
       "      <td>152.592266</td>\n",
       "      <td>0.151223</td>\n",
       "      <td>0.116694</td>\n",
       "      <td>0.937394</td>\n",
       "      <td>0.9540</td>\n",
       "    </tr>\n",
       "    <tr>\n",
       "      <th>2</th>\n",
       "      <td>2</td>\n",
       "      <td>226.146204</td>\n",
       "      <td>0.133416</td>\n",
       "      <td>0.127648</td>\n",
       "      <td>0.945745</td>\n",
       "      <td>0.9504</td>\n",
       "    </tr>\n",
       "  </tbody>\n",
       "</table>\n",
       "</div>"
      ],
      "text/plain": [
       "   epoch  total time  train loss  test loss  train ACC  test ACC\n",
       "0      0   78.855764    0.200555   0.118011   0.915842    0.9516\n",
       "1      1  152.592266    0.151223   0.116694   0.937394    0.9540\n",
       "2      2  226.146204    0.133416   0.127648   0.945745    0.9504"
      ]
     },
     "execution_count": 19,
     "metadata": {},
     "output_type": "execute_result"
    }
   ],
   "source": [
    "results"
   ]
  },
  {
   "cell_type": "code",
   "execution_count": 20,
   "metadata": {},
   "outputs": [],
   "source": [
    "# Unfreeze all layers\n",
    "for param in model.features.parameters():\n",
    "    param.requires_grad = True"
   ]
  },
  {
   "cell_type": "code",
   "execution_count": 21,
   "metadata": {},
   "outputs": [
    {
     "name": "stderr",
     "output_type": "stream",
     "text": [
      "Epoch:   0%|          | 0/3 [00:00<?, ?it/s]/Users/jbaggett/miniforge3/envs/DS776v2/lib/python3.11/site-packages/PIL/TiffImagePlugin.py:900: UserWarning: Truncated File Read\n",
      "  warnings.warn(str(msg))\n",
      "Epoch:  33%|███▎      | 1/3 [02:42<05:24, 162.39s/it]/Users/jbaggett/miniforge3/envs/DS776v2/lib/python3.11/site-packages/PIL/TiffImagePlugin.py:900: UserWarning: Truncated File Read\n",
      "  warnings.warn(str(msg))\n",
      "Epoch:  67%|██████▋   | 2/3 [05:19<02:39, 159.17s/it]/Users/jbaggett/miniforge3/envs/DS776v2/lib/python3.11/site-packages/PIL/TiffImagePlugin.py:900: UserWarning: Truncated File Read\n",
      "  warnings.warn(str(msg))\n",
      "Epoch: 100%|██████████| 3/3 [07:56<00:00, 158.86s/it]\n"
     ]
    }
   ],
   "source": [
    "results = train_network(model,\n",
    "                        loss_func,\n",
    "                        train_loader,\n",
    "                        device=device,\n",
    "                        test_loader=test_loader,\n",
    "                        epochs = epochs,\n",
    "                        optimizer = optimizer,\n",
    "                        score_funcs = score_funcs,\n",
    "                        checkpoint_file=ckpt_file,\n",
    "                        resume_checkpoint=True)"
   ]
  },
  {
   "cell_type": "code",
   "execution_count": 13,
   "metadata": {},
   "outputs": [
    {
     "data": {
      "text/html": [
       "<div>\n",
       "<style scoped>\n",
       "    .dataframe tbody tr th:only-of-type {\n",
       "        vertical-align: middle;\n",
       "    }\n",
       "\n",
       "    .dataframe tbody tr th {\n",
       "        vertical-align: top;\n",
       "    }\n",
       "\n",
       "    .dataframe thead th {\n",
       "        text-align: right;\n",
       "    }\n",
       "</style>\n",
       "<table border=\"1\" class=\"dataframe\">\n",
       "  <thead>\n",
       "    <tr style=\"text-align: right;\">\n",
       "      <th></th>\n",
       "      <th>epoch</th>\n",
       "      <th>total time</th>\n",
       "      <th>train loss</th>\n",
       "      <th>test loss</th>\n",
       "      <th>train ACC</th>\n",
       "      <th>test ACC</th>\n",
       "    </tr>\n",
       "  </thead>\n",
       "  <tbody>\n",
       "    <tr>\n",
       "      <th>0</th>\n",
       "      <td>0</td>\n",
       "      <td>66.886816</td>\n",
       "      <td>0.343676</td>\n",
       "      <td>0.250197</td>\n",
       "      <td>0.848135</td>\n",
       "      <td>0.8926</td>\n",
       "    </tr>\n",
       "    <tr>\n",
       "      <th>1</th>\n",
       "      <td>1</td>\n",
       "      <td>125.506997</td>\n",
       "      <td>0.280904</td>\n",
       "      <td>0.249594</td>\n",
       "      <td>0.878638</td>\n",
       "      <td>0.8952</td>\n",
       "    </tr>\n",
       "    <tr>\n",
       "      <th>2</th>\n",
       "      <td>2</td>\n",
       "      <td>183.171795</td>\n",
       "      <td>0.254864</td>\n",
       "      <td>0.236762</td>\n",
       "      <td>0.889689</td>\n",
       "      <td>0.9010</td>\n",
       "    </tr>\n",
       "    <tr>\n",
       "      <th>3</th>\n",
       "      <td>3</td>\n",
       "      <td>319.437977</td>\n",
       "      <td>0.231022</td>\n",
       "      <td>0.218773</td>\n",
       "      <td>0.906941</td>\n",
       "      <td>0.9044</td>\n",
       "    </tr>\n",
       "    <tr>\n",
       "      <th>4</th>\n",
       "      <td>4</td>\n",
       "      <td>444.265769</td>\n",
       "      <td>0.156086</td>\n",
       "      <td>0.213173</td>\n",
       "      <td>0.938294</td>\n",
       "      <td>0.9130</td>\n",
       "    </tr>\n",
       "    <tr>\n",
       "      <th>5</th>\n",
       "      <td>5</td>\n",
       "      <td>571.147056</td>\n",
       "      <td>0.129731</td>\n",
       "      <td>0.196475</td>\n",
       "      <td>0.949545</td>\n",
       "      <td>0.9248</td>\n",
       "    </tr>\n",
       "  </tbody>\n",
       "</table>\n",
       "</div>"
      ],
      "text/plain": [
       "   epoch  total time  train loss  test loss  train ACC  test ACC\n",
       "0      0   66.886816    0.343676   0.250197   0.848135    0.8926\n",
       "1      1  125.506997    0.280904   0.249594   0.878638    0.8952\n",
       "2      2  183.171795    0.254864   0.236762   0.889689    0.9010\n",
       "3      3  319.437977    0.231022   0.218773   0.906941    0.9044\n",
       "4      4  444.265769    0.156086   0.213173   0.938294    0.9130\n",
       "5      5  571.147056    0.129731   0.196475   0.949545    0.9248"
      ]
     },
     "execution_count": 13,
     "metadata": {},
     "output_type": "execute_result"
    }
   ],
   "source": [
    "results"
   ]
  },
  {
   "cell_type": "code",
   "execution_count": null,
   "metadata": {},
   "outputs": [],
   "source": []
  }
 ],
 "metadata": {
  "kernelspec": {
   "display_name": "DS776v2",
   "language": "python",
   "name": "python3"
  },
  "language_info": {
   "codemirror_mode": {
    "name": "ipython",
    "version": 3
   },
   "file_extension": ".py",
   "mimetype": "text/x-python",
   "name": "python",
   "nbconvert_exporter": "python",
   "pygments_lexer": "ipython3",
   "version": "3.11.9"
  }
 },
 "nbformat": 4,
 "nbformat_minor": 2
}
