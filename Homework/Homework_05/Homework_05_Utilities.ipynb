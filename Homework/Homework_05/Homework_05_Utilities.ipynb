{
 "cells": [
  {
   "cell_type": "markdown",
   "metadata": {},
   "source": "# Homework 05 Utilities\n\nThis notebook provides utilities for managing storage, cleaning cache, and exporting your homework for submission.\n\n## Quick Actions:\n1. **Storage Report** - Comprehensive view of all DS776 storage usage\n2. **Clean Cache** - Remove old cached models and data (>7 days)\n3. **Delete Lesson Models** - Remove corresponding Lesson_X_models folder\n4. **Zip Models** - Compress your homework models for download/backup\n5. **Export for Submission** - Create HTML file for Canvas upload\n6. **Emergency Cleanup** - Delete ALL cached models if running out of space"
  },
  {
   "cell_type": "code",
   "execution_count": null,
   "metadata": {},
   "outputs": [],
   "source": "# Import utilities from introdl package\nfrom pathlib import Path\nfrom introdl import (\n    display_storage_report,\n    cleanup_old_cache,\n    delete_current_lesson_models,\n    export_homework_html_interactive,\n    zip_homework_models\n)\n\n# Get homework number from current directory\ncurrent_dir = Path.cwd()\nhw_folder = current_dir.name\nif hw_folder.startswith('Homework_'):\n    hw_num = hw_folder.split('_')[1]\nelse:\n    hw_num = '05'  # Fallback\n\nprint(f\"\ud83d\udcda Homework {hw_num} Utilities\")\nprint(f\"\ud83d\udcc1 Current directory: {current_dir}\")\nprint(\"\\n\u2705 Ready to use! Run the cells below for different utilities.\")"
  },
  {
   "cell_type": "markdown",
   "metadata": {},
   "source": [
    "## 1. Comprehensive Storage Report\n",
    "\n",
    "Get a detailed view of all storage used by the DS776 course, including:\n",
    "- Total usage vs 10GB limit\n",
    "- Breakdown by Lessons, Homework, Solutions, and Cache\n",
    "- Top 5 largest items\n",
    "- Cleanup opportunities"
   ]
  },
  {
   "cell_type": "code",
   "execution_count": null,
   "metadata": {},
   "outputs": [],
   "source": [
    "# Display comprehensive storage report\n",
    "display_storage_report()"
   ]
  },
  {
   "cell_type": "markdown",
   "metadata": {},
   "source": [
    "## 2. Clean Old Cache Files (Pretrained Models)\n",
    "\n",
    "Remove downloaded pretrained models and datasets older than 7 days from the cache.\n",
    "\n",
    "**\ud83d\udcda What are cached/pretrained models?**\n",
    "These are models that were trained by others (like Meta's Llama, OpenAI's GPT, or HuggingFace models) and downloaded automatically when you run certain code. They're stored in the `downloads` folder to avoid re-downloading them each time.\n",
    "\n",
    "**\u26a0\ufe0f IMPORTANT**: This does NOT delete:\n",
    "- Your trained models in Lesson_05_models or Homework_05_models folders\n",
    "- Any of your homework files or notebooks  \n",
    "- Recent downloads (less than 7 days old)\n",
    "\n",
    "It ONLY removes old downloaded pretrained models and datasets that can be re-downloaded if needed."
   ]
  },
  {
   "cell_type": "code",
   "execution_count": null,
   "metadata": {},
   "outputs": [],
   "source": [
    "# First, see what would be deleted (dry run)\n",
    "cleanup_old_cache(days_old=7, dry_run=True)"
   ]
  },
  {
   "cell_type": "code",
   "execution_count": null,
   "metadata": {},
   "outputs": [],
   "source": [
    "# \u26a0\ufe0f Uncomment and run this cell to actually delete old cache files\n",
    "# cleanup_old_cache(days_old=7, dry_run=False)\n",
    "\n",
    "# After cleanup, show updated storage report\n",
    "# print(\"\\n\" + \"=\"*60)\n",
    "# print(\"\ud83d\udcca UPDATED STORAGE REPORT AFTER CLEANUP\")\n",
    "# print(\"=\"*60)\n",
    "# display_storage_report()"
   ]
  },
  {
   "cell_type": "markdown",
   "metadata": {},
   "source": [
    "## 3. Delete Lesson Models\n",
    "\n",
    "Delete the corresponding lesson's models folder to free up storage space.\n",
    "\n",
    "**\ud83d\udcda What are Lesson models?**\n",
    "These are models YOU trained when running the lesson notebooks. They are different from cached/pretrained models which were trained by others and downloaded automatically.\n",
    "\n",
    "This will delete the Lesson_05_models folder that corresponds to this homework."
   ]
  },
  {
   "cell_type": "code",
   "execution_count": null,
   "metadata": {},
   "outputs": [],
   "source": [
    "# Check what would be deleted (safe mode)\n",
    "delete_current_lesson_models(confirm=False)"
   ]
  },
  {
   "cell_type": "code",
   "execution_count": null,
   "metadata": {},
   "outputs": [],
   "source": [
    "# \u26a0\ufe0f Uncomment and run this cell to actually delete the lesson models\n",
    "# delete_current_lesson_models(confirm=True)\n",
    "\n",
    "# Show updated storage report\n",
    "# print(\"\\n\" + \"=\"*60)\n",
    "# print(\"\ud83d\udcca UPDATED STORAGE REPORT AFTER DELETION\")\n",
    "# print(\"=\"*60)\n",
    "# display_storage_report()"
   ]
  },
  {
   "cell_type": "markdown",
   "metadata": {},
   "source": [
    "## 4. Zip Models for Download\n",
    "\n",
    "Compress your homework models folder into a zip file for easy download or backup.\n",
    "\n",
    "This is useful if you want to:\n",
    "- Download your trained models to your local machine  \n",
    "- Free up space by zipping and deleting the original folder\n",
    "- Create a backup before making changes"
   ]
  },
  {
   "cell_type": "code",
   "execution_count": null,
   "metadata": {},
   "outputs": [],
   "source": [
    "# Zip the models folder (keeps original by default)\n",
    "zip_file = zip_homework_models(hw_num=hw_num, delete_after=False)"
   ]
  },
  {
   "cell_type": "code",
   "execution_count": null,
   "metadata": {},
   "outputs": [],
   "source": [
    "# \u26a0\ufe0f To zip and DELETE the original folder (saves space), uncomment:\n",
    "# zip_file = zip_homework_models(hw_num=hw_num, delete_after=True)"
   ]
  },
  {
   "cell_type": "markdown",
   "metadata": {},
   "source": [
    "## 5. Export Notebook to HTML\n",
    "\n",
    "Select and export any notebook in this directory to HTML for Canvas submission.\n",
    "\n",
    "This will:\n",
    "1. List all notebooks in the current directory\n",
    "2. Let you choose which one to export\n",
    "3. Create an HTML file with the same name"
   ]
  },
  {
   "cell_type": "code",
   "execution_count": null,
   "metadata": {},
   "outputs": [],
   "source": [
    "# First, see available notebooks in current directory\n",
    "export_homework_html_interactive()"
   ]
  },
  {
   "cell_type": "code",
   "execution_count": null,
   "metadata": {},
   "outputs": [],
   "source": [
    "# To export a specific notebook, replace the filename below and run this cell\n",
    "# Example: export_homework_html_interactive(\"Homework_05.ipynb\")\n",
    "\n",
    "# export_homework_html_interactive(\"YOUR_NOTEBOOK_NAME.ipynb\")"
   ]
  },
  {
   "cell_type": "markdown",
   "metadata": {},
   "source": "## 6. Emergency Cleanup (Use with Caution!)\n\n\u26a0\ufe0f **WARNING**: Only use this if you're completely out of space!\n\nThis will delete ALL cached/pretrained models and datasets (from the downloads folder), not just old ones. You'll need to re-download any pretrained models you use again."
  },
  {
   "cell_type": "code",
   "execution_count": null,
   "metadata": {},
   "outputs": [],
   "source": "# \u26a0\ufe0f Uncomment and run this cell to delete ALL cached models\n# cleanup_old_cache(days_old=0, dry_run=False)\n\n# After cleanup, show updated storage report\n# print(\"\\n\" + \"=\"*60)\n# print(\"\ud83d\udcca UPDATED STORAGE REPORT AFTER EMERGENCY CLEANUP\")\n# print(\"=\"*60)\n# display_storage_report()"
  },
  {
   "cell_type": "markdown",
   "execution_count": null,
   "metadata": {},
   "outputs": [],
   "source": "## Quick Summary\n\n**\ud83c\udfaf Homework Utilities Quick Reference**\n\n1\ufe0f\u20e3 **Storage Report**: Shows comprehensive usage  \n2\ufe0f\u20e3 **Clean Cache**: Removes old pretrained models (>7 days)  \n3\ufe0f\u20e3 **Delete Lesson Models**: Removes YOUR Lesson_XX_models folder  \n4\ufe0f\u20e3 **Zip Models**: Compress YOUR homework models for backup  \n5\ufe0f\u20e3 **Export HTML**: Creates submission file  \n6\ufe0f\u20e3 **Emergency**: Deletes ALL pretrained models (\u26a0\ufe0f careful!)\n\n\ud83d\udca1 **Start with the Storage Report to see your usage!**"
  }
 ],
 "metadata": {
  "kernelspec": {
   "display_name": "Python 3",
   "language": "python",
   "name": "python3"
  },
  "language_info": {
   "codemirror_mode": {
    "name": "ipython",
    "version": 3
   },
   "file_extension": ".py",
   "mimetype": "text/x-python",
   "name": "python",
   "nbconvert_exporter": "python",
   "pygments_lexer": "ipython3",
   "version": "3.8.0"
  }
 },
 "nbformat": 4,
 "nbformat_minor": 4
}